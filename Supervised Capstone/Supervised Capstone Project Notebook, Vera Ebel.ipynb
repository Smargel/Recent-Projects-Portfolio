{
 "cells": [
  {
   "cell_type": "markdown",
   "metadata": {},
   "source": [
    "# Supervised Capstone Project\n",
    "\n",
    "The goal of this capstone project was to develop predictions for car classifieds, the two most important predictions being the price at which a particular car will be posted at, and how long said posting will last. Then I worked to visualize the decision process of the tree to better understand how it was coming to the conclusion it was, as to help car owners and buyers understand what sort of car features causes a particular listing to be priced as it is. "
   ]
  },
  {
   "cell_type": "code",
   "execution_count": 297,
   "metadata": {},
   "outputs": [],
   "source": [
    "import pandas as pd \n",
    "import numpy as np \n",
    "import scipy\n",
    "import matplotlib.pyplot as plt\n",
    "import seaborn as sns\n",
    "from sklearn import linear_model\n",
    "%matplotlib inline\n",
    "from sklearn.tree import DecisionTreeRegressor\n",
    "from sklearn.ensemble import RandomForestRegressor\n",
    "from sklearn.ensemble import GradientBoostingRegressor\n",
    "from sklearn.ensemble import RandomForestClassifier\n",
    "from sklearn.model_selection import train_test_split\n",
    "import scipy.linalg as la\n",
    "from sklearn import preprocessing\n"
   ]
  },
  {
   "cell_type": "code",
   "execution_count": 298,
   "metadata": {},
   "outputs": [],
   "source": [
    "df = pd.read_csv(r\"D:\\Data For Python\\used-cars-database\\autos.csv\", encoding='latin1')"
   ]
  },
  {
   "cell_type": "code",
   "execution_count": 299,
   "metadata": {},
   "outputs": [
    {
     "data": {
      "text/plain": [
       "dateCrawled                0\n",
       "name                       0\n",
       "seller                     0\n",
       "offerType                  0\n",
       "price                      0\n",
       "abtest                     0\n",
       "vehicleType            37869\n",
       "yearOfRegistration         0\n",
       "gearbox                20209\n",
       "powerPS                    0\n",
       "model                  20484\n",
       "kilometer                  0\n",
       "monthOfRegistration        0\n",
       "fuelType               33386\n",
       "brand                      0\n",
       "notRepairedDamage      72060\n",
       "dateCreated                0\n",
       "nrOfPictures               0\n",
       "postalCode                 0\n",
       "lastSeen                   0\n",
       "dtype: int64"
      ]
     },
     "execution_count": 299,
     "metadata": {},
     "output_type": "execute_result"
    }
   ],
   "source": [
    "df.isnull().sum()"
   ]
  },
  {
   "cell_type": "code",
   "execution_count": 300,
   "metadata": {
    "scrolled": true
   },
   "outputs": [
    {
     "data": {
      "text/html": [
       "<div>\n",
       "<style scoped>\n",
       "    .dataframe tbody tr th:only-of-type {\n",
       "        vertical-align: middle;\n",
       "    }\n",
       "\n",
       "    .dataframe tbody tr th {\n",
       "        vertical-align: top;\n",
       "    }\n",
       "\n",
       "    .dataframe thead th {\n",
       "        text-align: right;\n",
       "    }\n",
       "</style>\n",
       "<table border=\"1\" class=\"dataframe\">\n",
       "  <thead>\n",
       "    <tr style=\"text-align: right;\">\n",
       "      <th></th>\n",
       "      <th>dateCrawled</th>\n",
       "      <th>name</th>\n",
       "      <th>seller</th>\n",
       "      <th>offerType</th>\n",
       "      <th>price</th>\n",
       "      <th>abtest</th>\n",
       "      <th>vehicleType</th>\n",
       "      <th>yearOfRegistration</th>\n",
       "      <th>gearbox</th>\n",
       "      <th>powerPS</th>\n",
       "      <th>model</th>\n",
       "      <th>kilometer</th>\n",
       "      <th>monthOfRegistration</th>\n",
       "      <th>fuelType</th>\n",
       "      <th>brand</th>\n",
       "      <th>notRepairedDamage</th>\n",
       "      <th>dateCreated</th>\n",
       "      <th>nrOfPictures</th>\n",
       "      <th>postalCode</th>\n",
       "      <th>lastSeen</th>\n",
       "    </tr>\n",
       "  </thead>\n",
       "  <tbody>\n",
       "    <tr>\n",
       "      <th>0</th>\n",
       "      <td>2016-03-24 11:52:17</td>\n",
       "      <td>Golf_3_1.6</td>\n",
       "      <td>privat</td>\n",
       "      <td>Angebot</td>\n",
       "      <td>480</td>\n",
       "      <td>test</td>\n",
       "      <td>NaN</td>\n",
       "      <td>1993</td>\n",
       "      <td>manuell</td>\n",
       "      <td>0</td>\n",
       "      <td>golf</td>\n",
       "      <td>150000</td>\n",
       "      <td>0</td>\n",
       "      <td>benzin</td>\n",
       "      <td>volkswagen</td>\n",
       "      <td>NaN</td>\n",
       "      <td>2016-03-24 00:00:00</td>\n",
       "      <td>0</td>\n",
       "      <td>70435</td>\n",
       "      <td>2016-04-07 03:16:57</td>\n",
       "    </tr>\n",
       "    <tr>\n",
       "      <th>1</th>\n",
       "      <td>2016-03-24 10:58:45</td>\n",
       "      <td>A5_Sportback_2.7_Tdi</td>\n",
       "      <td>privat</td>\n",
       "      <td>Angebot</td>\n",
       "      <td>18300</td>\n",
       "      <td>test</td>\n",
       "      <td>coupe</td>\n",
       "      <td>2011</td>\n",
       "      <td>manuell</td>\n",
       "      <td>190</td>\n",
       "      <td>NaN</td>\n",
       "      <td>125000</td>\n",
       "      <td>5</td>\n",
       "      <td>diesel</td>\n",
       "      <td>audi</td>\n",
       "      <td>ja</td>\n",
       "      <td>2016-03-24 00:00:00</td>\n",
       "      <td>0</td>\n",
       "      <td>66954</td>\n",
       "      <td>2016-04-07 01:46:50</td>\n",
       "    </tr>\n",
       "    <tr>\n",
       "      <th>2</th>\n",
       "      <td>2016-03-14 12:52:21</td>\n",
       "      <td>Jeep_Grand_Cherokee_\"Overland\"</td>\n",
       "      <td>privat</td>\n",
       "      <td>Angebot</td>\n",
       "      <td>9800</td>\n",
       "      <td>test</td>\n",
       "      <td>suv</td>\n",
       "      <td>2004</td>\n",
       "      <td>automatik</td>\n",
       "      <td>163</td>\n",
       "      <td>grand</td>\n",
       "      <td>125000</td>\n",
       "      <td>8</td>\n",
       "      <td>diesel</td>\n",
       "      <td>jeep</td>\n",
       "      <td>NaN</td>\n",
       "      <td>2016-03-14 00:00:00</td>\n",
       "      <td>0</td>\n",
       "      <td>90480</td>\n",
       "      <td>2016-04-05 12:47:46</td>\n",
       "    </tr>\n",
       "    <tr>\n",
       "      <th>3</th>\n",
       "      <td>2016-03-17 16:54:04</td>\n",
       "      <td>GOLF_4_1_4__3TÜRER</td>\n",
       "      <td>privat</td>\n",
       "      <td>Angebot</td>\n",
       "      <td>1500</td>\n",
       "      <td>test</td>\n",
       "      <td>kleinwagen</td>\n",
       "      <td>2001</td>\n",
       "      <td>manuell</td>\n",
       "      <td>75</td>\n",
       "      <td>golf</td>\n",
       "      <td>150000</td>\n",
       "      <td>6</td>\n",
       "      <td>benzin</td>\n",
       "      <td>volkswagen</td>\n",
       "      <td>nein</td>\n",
       "      <td>2016-03-17 00:00:00</td>\n",
       "      <td>0</td>\n",
       "      <td>91074</td>\n",
       "      <td>2016-03-17 17:40:17</td>\n",
       "    </tr>\n",
       "    <tr>\n",
       "      <th>4</th>\n",
       "      <td>2016-03-31 17:25:20</td>\n",
       "      <td>Skoda_Fabia_1.4_TDI_PD_Classic</td>\n",
       "      <td>privat</td>\n",
       "      <td>Angebot</td>\n",
       "      <td>3600</td>\n",
       "      <td>test</td>\n",
       "      <td>kleinwagen</td>\n",
       "      <td>2008</td>\n",
       "      <td>manuell</td>\n",
       "      <td>69</td>\n",
       "      <td>fabia</td>\n",
       "      <td>90000</td>\n",
       "      <td>7</td>\n",
       "      <td>diesel</td>\n",
       "      <td>skoda</td>\n",
       "      <td>nein</td>\n",
       "      <td>2016-03-31 00:00:00</td>\n",
       "      <td>0</td>\n",
       "      <td>60437</td>\n",
       "      <td>2016-04-06 10:17:21</td>\n",
       "    </tr>\n",
       "  </tbody>\n",
       "</table>\n",
       "</div>"
      ],
      "text/plain": [
       "           dateCrawled                            name  seller offerType  \\\n",
       "0  2016-03-24 11:52:17                      Golf_3_1.6  privat   Angebot   \n",
       "1  2016-03-24 10:58:45            A5_Sportback_2.7_Tdi  privat   Angebot   \n",
       "2  2016-03-14 12:52:21  Jeep_Grand_Cherokee_\"Overland\"  privat   Angebot   \n",
       "3  2016-03-17 16:54:04              GOLF_4_1_4__3TÜRER  privat   Angebot   \n",
       "4  2016-03-31 17:25:20  Skoda_Fabia_1.4_TDI_PD_Classic  privat   Angebot   \n",
       "\n",
       "   price abtest vehicleType  yearOfRegistration    gearbox  powerPS  model  \\\n",
       "0    480   test         NaN                1993    manuell        0   golf   \n",
       "1  18300   test       coupe                2011    manuell      190    NaN   \n",
       "2   9800   test         suv                2004  automatik      163  grand   \n",
       "3   1500   test  kleinwagen                2001    manuell       75   golf   \n",
       "4   3600   test  kleinwagen                2008    manuell       69  fabia   \n",
       "\n",
       "   kilometer  monthOfRegistration fuelType       brand notRepairedDamage  \\\n",
       "0     150000                    0   benzin  volkswagen               NaN   \n",
       "1     125000                    5   diesel        audi                ja   \n",
       "2     125000                    8   diesel        jeep               NaN   \n",
       "3     150000                    6   benzin  volkswagen              nein   \n",
       "4      90000                    7   diesel       skoda              nein   \n",
       "\n",
       "           dateCreated  nrOfPictures  postalCode             lastSeen  \n",
       "0  2016-03-24 00:00:00             0       70435  2016-04-07 03:16:57  \n",
       "1  2016-03-24 00:00:00             0       66954  2016-04-07 01:46:50  \n",
       "2  2016-03-14 00:00:00             0       90480  2016-04-05 12:47:46  \n",
       "3  2016-03-17 00:00:00             0       91074  2016-03-17 17:40:17  \n",
       "4  2016-03-31 00:00:00             0       60437  2016-04-06 10:17:21  "
      ]
     },
     "execution_count": 300,
     "metadata": {},
     "output_type": "execute_result"
    }
   ],
   "source": [
    "df.head()"
   ]
  },
  {
   "cell_type": "code",
   "execution_count": 301,
   "metadata": {
    "scrolled": true
   },
   "outputs": [
    {
     "data": {
      "text/plain": [
       "(371528, 20)"
      ]
     },
     "execution_count": 301,
     "metadata": {},
     "output_type": "execute_result"
    }
   ],
   "source": [
    "df.shape"
   ]
  },
  {
   "cell_type": "code",
   "execution_count": 302,
   "metadata": {
    "scrolled": true
   },
   "outputs": [
    {
     "data": {
      "text/html": [
       "<div>\n",
       "<style scoped>\n",
       "    .dataframe tbody tr th:only-of-type {\n",
       "        vertical-align: middle;\n",
       "    }\n",
       "\n",
       "    .dataframe tbody tr th {\n",
       "        vertical-align: top;\n",
       "    }\n",
       "\n",
       "    .dataframe thead th {\n",
       "        text-align: right;\n",
       "    }\n",
       "</style>\n",
       "<table border=\"1\" class=\"dataframe\">\n",
       "  <thead>\n",
       "    <tr style=\"text-align: right;\">\n",
       "      <th></th>\n",
       "      <th>price</th>\n",
       "      <th>yearOfRegistration</th>\n",
       "      <th>powerPS</th>\n",
       "      <th>kilometer</th>\n",
       "      <th>monthOfRegistration</th>\n",
       "      <th>nrOfPictures</th>\n",
       "      <th>postalCode</th>\n",
       "    </tr>\n",
       "  </thead>\n",
       "  <tbody>\n",
       "    <tr>\n",
       "      <th>count</th>\n",
       "      <td>3.715280e+05</td>\n",
       "      <td>371528.000000</td>\n",
       "      <td>371528.000000</td>\n",
       "      <td>371528.000000</td>\n",
       "      <td>371528.000000</td>\n",
       "      <td>371528.0</td>\n",
       "      <td>371528.00000</td>\n",
       "    </tr>\n",
       "    <tr>\n",
       "      <th>mean</th>\n",
       "      <td>1.729514e+04</td>\n",
       "      <td>2004.577997</td>\n",
       "      <td>115.549477</td>\n",
       "      <td>125618.688228</td>\n",
       "      <td>5.734445</td>\n",
       "      <td>0.0</td>\n",
       "      <td>50820.66764</td>\n",
       "    </tr>\n",
       "    <tr>\n",
       "      <th>std</th>\n",
       "      <td>3.587954e+06</td>\n",
       "      <td>92.866598</td>\n",
       "      <td>192.139578</td>\n",
       "      <td>40112.337051</td>\n",
       "      <td>3.712412</td>\n",
       "      <td>0.0</td>\n",
       "      <td>25799.08247</td>\n",
       "    </tr>\n",
       "    <tr>\n",
       "      <th>min</th>\n",
       "      <td>0.000000e+00</td>\n",
       "      <td>1000.000000</td>\n",
       "      <td>0.000000</td>\n",
       "      <td>5000.000000</td>\n",
       "      <td>0.000000</td>\n",
       "      <td>0.0</td>\n",
       "      <td>1067.00000</td>\n",
       "    </tr>\n",
       "    <tr>\n",
       "      <th>25%</th>\n",
       "      <td>1.150000e+03</td>\n",
       "      <td>1999.000000</td>\n",
       "      <td>70.000000</td>\n",
       "      <td>125000.000000</td>\n",
       "      <td>3.000000</td>\n",
       "      <td>0.0</td>\n",
       "      <td>30459.00000</td>\n",
       "    </tr>\n",
       "    <tr>\n",
       "      <th>50%</th>\n",
       "      <td>2.950000e+03</td>\n",
       "      <td>2003.000000</td>\n",
       "      <td>105.000000</td>\n",
       "      <td>150000.000000</td>\n",
       "      <td>6.000000</td>\n",
       "      <td>0.0</td>\n",
       "      <td>49610.00000</td>\n",
       "    </tr>\n",
       "    <tr>\n",
       "      <th>75%</th>\n",
       "      <td>7.200000e+03</td>\n",
       "      <td>2008.000000</td>\n",
       "      <td>150.000000</td>\n",
       "      <td>150000.000000</td>\n",
       "      <td>9.000000</td>\n",
       "      <td>0.0</td>\n",
       "      <td>71546.00000</td>\n",
       "    </tr>\n",
       "    <tr>\n",
       "      <th>max</th>\n",
       "      <td>2.147484e+09</td>\n",
       "      <td>9999.000000</td>\n",
       "      <td>20000.000000</td>\n",
       "      <td>150000.000000</td>\n",
       "      <td>12.000000</td>\n",
       "      <td>0.0</td>\n",
       "      <td>99998.00000</td>\n",
       "    </tr>\n",
       "  </tbody>\n",
       "</table>\n",
       "</div>"
      ],
      "text/plain": [
       "              price  yearOfRegistration        powerPS      kilometer  \\\n",
       "count  3.715280e+05       371528.000000  371528.000000  371528.000000   \n",
       "mean   1.729514e+04         2004.577997     115.549477  125618.688228   \n",
       "std    3.587954e+06           92.866598     192.139578   40112.337051   \n",
       "min    0.000000e+00         1000.000000       0.000000    5000.000000   \n",
       "25%    1.150000e+03         1999.000000      70.000000  125000.000000   \n",
       "50%    2.950000e+03         2003.000000     105.000000  150000.000000   \n",
       "75%    7.200000e+03         2008.000000     150.000000  150000.000000   \n",
       "max    2.147484e+09         9999.000000   20000.000000  150000.000000   \n",
       "\n",
       "       monthOfRegistration  nrOfPictures    postalCode  \n",
       "count        371528.000000      371528.0  371528.00000  \n",
       "mean              5.734445           0.0   50820.66764  \n",
       "std               3.712412           0.0   25799.08247  \n",
       "min               0.000000           0.0    1067.00000  \n",
       "25%               3.000000           0.0   30459.00000  \n",
       "50%               6.000000           0.0   49610.00000  \n",
       "75%               9.000000           0.0   71546.00000  \n",
       "max              12.000000           0.0   99998.00000  "
      ]
     },
     "execution_count": 302,
     "metadata": {},
     "output_type": "execute_result"
    }
   ],
   "source": [
    "df.describe()"
   ]
  },
  {
   "cell_type": "code",
   "execution_count": 303,
   "metadata": {},
   "outputs": [
    {
     "data": {
      "text/plain": [
       "(371528, 20)"
      ]
     },
     "execution_count": 303,
     "metadata": {},
     "output_type": "execute_result"
    }
   ],
   "source": [
    "df.shape"
   ]
  },
  {
   "cell_type": "markdown",
   "metadata": {},
   "source": [
    "A couple of suspicious instances stand out here. Every meta value for nrOfPictures is 0. Let's check on that. "
   ]
  },
  {
   "cell_type": "code",
   "execution_count": 304,
   "metadata": {},
   "outputs": [
    {
     "data": {
      "text/plain": [
       "0    371528\n",
       "Name: nrOfPictures, dtype: int64"
      ]
     },
     "execution_count": 304,
     "metadata": {},
     "output_type": "execute_result"
    }
   ],
   "source": [
    "df[\"nrOfPictures\"].value_counts()"
   ]
  },
  {
   "cell_type": "markdown",
   "metadata": {},
   "source": [
    "As suspected, it's all zero. We can safely remove it. This does bring to question the other categorical variables, however. "
   ]
  },
  {
   "cell_type": "code",
   "execution_count": 305,
   "metadata": {
    "scrolled": false
   },
   "outputs": [
    {
     "data": {
      "text/plain": [
       "privat        371525\n",
       "gewerblich         3\n",
       "Name: seller, dtype: int64"
      ]
     },
     "execution_count": 305,
     "metadata": {},
     "output_type": "execute_result"
    }
   ],
   "source": [
    "df[\"seller\"].value_counts()"
   ]
  },
  {
   "cell_type": "markdown",
   "metadata": {},
   "source": [
    "I doubt those three data points add a ton. As a sidenote, the two values indicate whether the seller was private or commercial. I suppose most car dealerships didn't really want to turn to classifieds to sell cars. "
   ]
  },
  {
   "cell_type": "code",
   "execution_count": null,
   "metadata": {},
   "outputs": [],
   "source": []
  },
  {
   "cell_type": "code",
   "execution_count": 306,
   "metadata": {},
   "outputs": [
    {
     "data": {
      "text/plain": [
       "Angebot    371516\n",
       "Gesuch         12\n",
       "Name: offerType, dtype: int64"
      ]
     },
     "execution_count": 306,
     "metadata": {},
     "output_type": "execute_result"
    }
   ],
   "source": [
    "df[\"offerType\"].value_counts()"
   ]
  },
  {
   "cell_type": "markdown",
   "metadata": {},
   "source": [
    "I might not be translating this correctly, but I think Angebot are offers, and Gesuchs are requests, once again, the offertype is not really spetacular here. Let's get rid of it. "
   ]
  },
  {
   "cell_type": "code",
   "execution_count": 307,
   "metadata": {},
   "outputs": [
    {
     "data": {
      "text/plain": [
       "Ford_Fiesta                                                       657\n",
       "BMW_318i                                                          627\n",
       "Opel_Corsa                                                        622\n",
       "Volkswagen_Golf_1.4                                               603\n",
       "BMW_316i                                                          523\n",
       "BMW_320i                                                          492\n",
       "Volkswagen_Polo                                                   475\n",
       "Renault_Twingo                                                    447\n",
       "Volkswagen_Golf                                                   428\n",
       "Volkswagen_Golf_1.6                                               413\n",
       "Volkswagen_Polo_1.2                                               412\n",
       "BMW_116i                                                          394\n",
       "Opel_Corsa_1.2_16V                                                373\n",
       "Opel_Corsa_B                                                      369\n",
       "Opel_Astra                                                        366\n",
       "Peugeot_206                                                       365\n",
       "Ford_Focus                                                        361\n",
       "Opel_Corsa_1.0_12V                                                344\n",
       "Renault_Twingo_1.2                                                322\n",
       "Volkswagen_Passat_Variant_1.9_TDI                                 274\n",
       "Volkswagen_Golf_1.9_TDI                                           273\n",
       "Opel_Astra_1.6                                                    260\n",
       "Audi_A4_Avant_2.0_TDI_DPF                                         254\n",
       "MINI_Mini_Cooper                                                  245\n",
       "Fiat_Punto                                                        242\n",
       "Ford_Ka                                                           242\n",
       "Audi_A4_Avant_1.9_TDI                                             241\n",
       "Audi_A4_1.6                                                       238\n",
       "MINI_Mini_One                                                     233\n",
       "BMW_520i                                                          226\n",
       "                                                                 ... \n",
       "Volkswagen_Golf_1.6_FSI__Xeno_Navi__VOLL.                           1\n",
       "Volkswagen_VW_Polo_6N_Klima_8fach_bereift_Mp3__Radio_Cd             1\n",
       "Mercedes_C180_Tuev_08/16_GSD__ALU__el.FH_                           1\n",
       "Volkswagen_Golf_VI_6_Comfortline_Team_Plus_1._Hand                  1\n",
       "Offroad_Proto_Trophy_Portalachsen_Unimog_Patrol_Gelaendewagen       1\n",
       "Ford_Ka_1_Edition_Mit_Klima                                         1\n",
       "Volkswagen_Scirocco_1.4_TSI_TÜV_10/2017_Bremsen_+Reifen_Neu         1\n",
       "Audi_Q7_3.0_TDI_S_LINE+7_SITZE+BOSE+KEYLESS+PANORAMA                1\n",
       "MERCEDES_200_E__KLASSE_AUTOMATIC____210_                            1\n",
       "VW_POLO_50_PS_TÜV03/2018_SERVO_FALTDACH_ZV_EFHB                     1\n",
       "Mustang_ab_2011_mit_Automatic_gesucht__bis_19___21.000_            1\n",
       "Renault_Twingo_43_kw                                                1\n",
       "Gepflegter_Mercedes_A140_im_guten_Zustand_mit_neuem_TÜV             1\n",
       "BMW_118d_DPF_M_Sportfahrwerk__XENON__ALU__PDC.                      1\n",
       "**BMW_316i**                                                        1\n",
       "Volkswagen_Unfallfreier_Golf__C__diesel_mit_wenig_KM!               1\n",
       "sportlichen_Golf_3_mit_neuem_Tuev_wegen_Krankheit_zuverkaufen       1\n",
       "Nissan_Qashqai+2_1.6_dCi_DPF_tekna                                  1\n",
       "Hyundai_i10_1.1_Style_KLIMA_TÜV/AU_NEU                              1\n",
       "RENAULT_MEGAN_CABRIO_2.0lTÜV_NEU_TOP_GEPFLEGT                       1\n",
       "Audi_A6__1_8_Turbo_/_Klimaautomatik/Tempomat                        1\n",
       "Volkswagen_Golf_2_R36_Einzelstueck_6Gang                            1\n",
       "SMART_fortwo_coupe                                                  1\n",
       "Opel_zafira_b_bj_2008_mit__Navigation.                              1\n",
       "Top!!!!!!_Golf_4                                                    1\n",
       "Suzuki_Vitara__Automatik                                            1\n",
       "BMW_530d_touring_Edition_Lifestyle_TÜV_neu_top_gepfl                1\n",
       "Opel_astra__Caravan_1.9                                             1\n",
       "Mercedes_Benz_313_CDI_Sprinter_MAXI_LANG                            1\n",
       "Mercedes_Benz_1.7_CDI_La_Vida_schwere_Zuladung_gruene_Plakette      1\n",
       "Name: name, Length: 233531, dtype: int64"
      ]
     },
     "execution_count": 307,
     "metadata": {},
     "output_type": "execute_result"
    }
   ],
   "source": [
    "df[\"name\"].value_counts()"
   ]
  },
  {
   "cell_type": "markdown",
   "metadata": {},
   "source": [
    "Car models are somewhat, genericized versions of the car name, from our perspective. They might be more useful. "
   ]
  },
  {
   "cell_type": "code",
   "execution_count": 308,
   "metadata": {
    "scrolled": true
   },
   "outputs": [
    {
     "data": {
      "text/plain": [
       "golf                  30070\n",
       "andere                26400\n",
       "3er                   20567\n",
       "polo                  13092\n",
       "corsa                 12573\n",
       "astra                 10830\n",
       "passat                10306\n",
       "a4                    10257\n",
       "c_klasse               8775\n",
       "5er                    8546\n",
       "e_klasse               7561\n",
       "a3                     6604\n",
       "a6                     6023\n",
       "focus                  5950\n",
       "fiesta                 5775\n",
       "transporter            5528\n",
       "twingo                 4953\n",
       "2_reihe                4816\n",
       "fortwo                 4338\n",
       "a_klasse               4316\n",
       "vectra                 4255\n",
       "1er                    3837\n",
       "mondeo                 3626\n",
       "clio                   3553\n",
       "touran                 3540\n",
       "3_reihe                3503\n",
       "punto                  3349\n",
       "zafira                 3049\n",
       "megane                 2927\n",
       "ka                     2702\n",
       "                      ...  \n",
       "mii                      81\n",
       "crossfire                66\n",
       "range_rover_evoque       65\n",
       "gl                       64\n",
       "nubira                   62\n",
       "move                     60\n",
       "lybra                    54\n",
       "145                      50\n",
       "v60                      48\n",
       "croma                    45\n",
       "amarok                   42\n",
       "delta                    40\n",
       "lodgy                    35\n",
       "terios                   35\n",
       "9000                     31\n",
       "charade                  27\n",
       "b_max                    26\n",
       "musa                     25\n",
       "200                      18\n",
       "materia                  18\n",
       "kappa                    15\n",
       "samara                   13\n",
       "elefantino               11\n",
       "i3                       10\n",
       "kalina                    9\n",
       "serie_2                   8\n",
       "rangerover                6\n",
       "serie_3                   4\n",
       "serie_1                   2\n",
       "discovery_sport           1\n",
       "Name: model, Length: 251, dtype: int64"
      ]
     },
     "execution_count": 308,
     "metadata": {},
     "output_type": "execute_result"
    }
   ],
   "source": [
    "df['model'].value_counts()"
   ]
  },
  {
   "cell_type": "markdown",
   "metadata": {},
   "source": [
    "Ah. Well, it has enough of a dominant category to still be useful. We'll leave it in. "
   ]
  },
  {
   "cell_type": "code",
   "execution_count": 309,
   "metadata": {},
   "outputs": [
    {
     "data": {
      "text/plain": [
       "nein    263182\n",
       "ja       36286\n",
       "Name: notRepairedDamage, dtype: int64"
      ]
     },
     "execution_count": 309,
     "metadata": {},
     "output_type": "execute_result"
    }
   ],
   "source": [
    "df['notRepairedDamage'].value_counts()"
   ]
  },
  {
   "cell_type": "markdown",
   "metadata": {},
   "source": [
    "While it might seem like a small category, I imagine having damage outstanding on the car would very adversely affect it's sale value, so it'll be left in. "
   ]
  },
  {
   "cell_type": "markdown",
   "metadata": {},
   "source": [
    "We have a few names that look like they occur often enough to warrant inclusion, but recalling the size of our dataset, we know that they really aren't as common as they may seem. We can probably drop it, just to save the headache. \n",
    "\n",
    "I'm guessing AB test represents a treatment done to the actual people scrapping the data, but I don't know what that treatment is. We can use it in prediction, but not in any informative way. I kinda assumed that there would be too many names in the names column to be useful, but I'd like to confirm it.  \n",
    "\n",
    "Postal code is going to have possibly more unique values than the car names, and even less information on the value of the sale. We can get rid of it too. \n",
    "\n",
    "I suspect gearbox, vehicle type, and fuel type will be just general enough to be usable, but varied enough to contain information. I'll check though. "
   ]
  },
  {
   "cell_type": "code",
   "execution_count": 310,
   "metadata": {},
   "outputs": [
    {
     "data": {
      "text/plain": [
       "manuell      274214\n",
       "automatik     77105\n",
       "Name: gearbox, dtype: int64"
      ]
     },
     "execution_count": 310,
     "metadata": {},
     "output_type": "execute_result"
    }
   ],
   "source": [
    "df[\"gearbox\"].value_counts()"
   ]
  },
  {
   "cell_type": "code",
   "execution_count": 311,
   "metadata": {},
   "outputs": [
    {
     "data": {
      "text/plain": [
       "limousine     95894\n",
       "kleinwagen    80023\n",
       "kombi         67564\n",
       "bus           30201\n",
       "cabrio        22898\n",
       "coupe         19015\n",
       "suv           14707\n",
       "andere         3357\n",
       "Name: vehicleType, dtype: int64"
      ]
     },
     "execution_count": 311,
     "metadata": {},
     "output_type": "execute_result"
    }
   ],
   "source": [
    "df[\"vehicleType\"].value_counts()"
   ]
  },
  {
   "cell_type": "code",
   "execution_count": 312,
   "metadata": {
    "scrolled": true
   },
   "outputs": [
    {
     "data": {
      "text/plain": [
       "benzin     223857\n",
       "diesel     107746\n",
       "lpg          5378\n",
       "cng           571\n",
       "hybrid        278\n",
       "andere        208\n",
       "elektro       104\n",
       "Name: fuelType, dtype: int64"
      ]
     },
     "execution_count": 312,
     "metadata": {},
     "output_type": "execute_result"
    }
   ],
   "source": [
    "df[\"fuelType\"].value_counts()"
   ]
  },
  {
   "cell_type": "markdown",
   "metadata": {},
   "source": [
    "Beautiful, these features will be usefull. The rest however, can be dropped with little issue."
   ]
  },
  {
   "cell_type": "markdown",
   "metadata": {},
   "source": [
    "The dominant class of the \"notRepairedDamage\" damage category is \"nien\" so we'll fill in it's null values using that. "
   ]
  },
  {
   "cell_type": "code",
   "execution_count": 314,
   "metadata": {},
   "outputs": [],
   "source": [
    "df[\"notRepairedDamage\"].fillna(\"nein\",inplace = True)"
   ]
  },
  {
   "cell_type": "markdown",
   "metadata": {},
   "source": [
    "We don't have too substantial of a missing dataset here, and the rest of this can be relatively difficult to infer from the remaining data. We'll see if we can drop it. \n"
   ]
  },
  {
   "cell_type": "code",
   "execution_count": 315,
   "metadata": {},
   "outputs": [
    {
     "data": {
      "text/plain": [
       "(299864, 20)"
      ]
     },
     "execution_count": 315,
     "metadata": {},
     "output_type": "execute_result"
    }
   ],
   "source": [
    "df = df.dropna()\n",
    "df.shape"
   ]
  },
  {
   "cell_type": "markdown",
   "metadata": {},
   "source": [
    "Still plenty of data to work with. "
   ]
  },
  {
   "cell_type": "markdown",
   "metadata": {},
   "source": [
    "Then there are the dates in the dataset. I'm tempted to just remove them, but I think we can find our own insights into how cars are sold in classifieds using them. I want to know how long a classfied is up before it's taken down, presumably in most cases because the person found a buyer or gave up. The date-crawled just indicates when the entry was collected by the scraper. It doesn't have any useful info for us. "
   ]
  },
  {
   "cell_type": "code",
   "execution_count": 316,
   "metadata": {
    "scrolled": true
   },
   "outputs": [
    {
     "data": {
      "text/plain": [
       "2   22 days 12:47:46\n",
       "3    0 days 17:40:17\n",
       "4    6 days 10:17:21\n",
       "5    2 days 19:17:07\n",
       "6    4 days 18:18:39\n",
       "Name: uptime, dtype: timedelta64[ns]"
      ]
     },
     "execution_count": 316,
     "metadata": {},
     "output_type": "execute_result"
    }
   ],
   "source": [
    "df['lastSeen'] = pd.to_datetime(df['lastSeen'])\n",
    "df['dateCreated'] = pd.to_datetime(df['dateCreated'])\n",
    "df['uptime'] = df['lastSeen']-df['dateCreated']\n",
    "df['uptime'].head()"
   ]
  },
  {
   "cell_type": "markdown",
   "metadata": {},
   "source": [
    "Now all that is left is to try to drop the data that we don't want. "
   ]
  },
  {
   "cell_type": "code",
   "execution_count": 317,
   "metadata": {},
   "outputs": [],
   "source": [
    "df = df.drop(['nrOfPictures', 'seller', 'postalCode', 'offerType', 'name', 'lastSeen', 'dateCreated', 'dateCrawled'], axis = 1)"
   ]
  },
  {
   "cell_type": "code",
   "execution_count": 318,
   "metadata": {},
   "outputs": [
    {
     "data": {
      "text/html": [
       "<div>\n",
       "<style scoped>\n",
       "    .dataframe tbody tr th:only-of-type {\n",
       "        vertical-align: middle;\n",
       "    }\n",
       "\n",
       "    .dataframe tbody tr th {\n",
       "        vertical-align: top;\n",
       "    }\n",
       "\n",
       "    .dataframe thead th {\n",
       "        text-align: right;\n",
       "    }\n",
       "</style>\n",
       "<table border=\"1\" class=\"dataframe\">\n",
       "  <thead>\n",
       "    <tr style=\"text-align: right;\">\n",
       "      <th></th>\n",
       "      <th>price</th>\n",
       "      <th>abtest</th>\n",
       "      <th>vehicleType</th>\n",
       "      <th>yearOfRegistration</th>\n",
       "      <th>gearbox</th>\n",
       "      <th>powerPS</th>\n",
       "      <th>model</th>\n",
       "      <th>kilometer</th>\n",
       "      <th>monthOfRegistration</th>\n",
       "      <th>fuelType</th>\n",
       "      <th>brand</th>\n",
       "      <th>notRepairedDamage</th>\n",
       "      <th>uptime</th>\n",
       "    </tr>\n",
       "  </thead>\n",
       "  <tbody>\n",
       "    <tr>\n",
       "      <th>2</th>\n",
       "      <td>9800</td>\n",
       "      <td>test</td>\n",
       "      <td>suv</td>\n",
       "      <td>2004</td>\n",
       "      <td>automatik</td>\n",
       "      <td>163</td>\n",
       "      <td>grand</td>\n",
       "      <td>125000</td>\n",
       "      <td>8</td>\n",
       "      <td>diesel</td>\n",
       "      <td>jeep</td>\n",
       "      <td>nein</td>\n",
       "      <td>22 days 12:47:46</td>\n",
       "    </tr>\n",
       "    <tr>\n",
       "      <th>3</th>\n",
       "      <td>1500</td>\n",
       "      <td>test</td>\n",
       "      <td>kleinwagen</td>\n",
       "      <td>2001</td>\n",
       "      <td>manuell</td>\n",
       "      <td>75</td>\n",
       "      <td>golf</td>\n",
       "      <td>150000</td>\n",
       "      <td>6</td>\n",
       "      <td>benzin</td>\n",
       "      <td>volkswagen</td>\n",
       "      <td>nein</td>\n",
       "      <td>0 days 17:40:17</td>\n",
       "    </tr>\n",
       "    <tr>\n",
       "      <th>4</th>\n",
       "      <td>3600</td>\n",
       "      <td>test</td>\n",
       "      <td>kleinwagen</td>\n",
       "      <td>2008</td>\n",
       "      <td>manuell</td>\n",
       "      <td>69</td>\n",
       "      <td>fabia</td>\n",
       "      <td>90000</td>\n",
       "      <td>7</td>\n",
       "      <td>diesel</td>\n",
       "      <td>skoda</td>\n",
       "      <td>nein</td>\n",
       "      <td>6 days 10:17:21</td>\n",
       "    </tr>\n",
       "    <tr>\n",
       "      <th>5</th>\n",
       "      <td>650</td>\n",
       "      <td>test</td>\n",
       "      <td>limousine</td>\n",
       "      <td>1995</td>\n",
       "      <td>manuell</td>\n",
       "      <td>102</td>\n",
       "      <td>3er</td>\n",
       "      <td>150000</td>\n",
       "      <td>10</td>\n",
       "      <td>benzin</td>\n",
       "      <td>bmw</td>\n",
       "      <td>ja</td>\n",
       "      <td>2 days 19:17:07</td>\n",
       "    </tr>\n",
       "    <tr>\n",
       "      <th>6</th>\n",
       "      <td>2200</td>\n",
       "      <td>test</td>\n",
       "      <td>cabrio</td>\n",
       "      <td>2004</td>\n",
       "      <td>manuell</td>\n",
       "      <td>109</td>\n",
       "      <td>2_reihe</td>\n",
       "      <td>150000</td>\n",
       "      <td>8</td>\n",
       "      <td>benzin</td>\n",
       "      <td>peugeot</td>\n",
       "      <td>nein</td>\n",
       "      <td>4 days 18:18:39</td>\n",
       "    </tr>\n",
       "  </tbody>\n",
       "</table>\n",
       "</div>"
      ],
      "text/plain": [
       "   price abtest vehicleType  yearOfRegistration    gearbox  powerPS    model  \\\n",
       "2   9800   test         suv                2004  automatik      163    grand   \n",
       "3   1500   test  kleinwagen                2001    manuell       75     golf   \n",
       "4   3600   test  kleinwagen                2008    manuell       69    fabia   \n",
       "5    650   test   limousine                1995    manuell      102      3er   \n",
       "6   2200   test      cabrio                2004    manuell      109  2_reihe   \n",
       "\n",
       "   kilometer  monthOfRegistration fuelType       brand notRepairedDamage  \\\n",
       "2     125000                    8   diesel        jeep              nein   \n",
       "3     150000                    6   benzin  volkswagen              nein   \n",
       "4      90000                    7   diesel       skoda              nein   \n",
       "5     150000                   10   benzin         bmw                ja   \n",
       "6     150000                    8   benzin     peugeot              nein   \n",
       "\n",
       "            uptime  \n",
       "2 22 days 12:47:46  \n",
       "3  0 days 17:40:17  \n",
       "4  6 days 10:17:21  \n",
       "5  2 days 19:17:07  \n",
       "6  4 days 18:18:39  "
      ]
     },
     "execution_count": 318,
     "metadata": {},
     "output_type": "execute_result"
    }
   ],
   "source": [
    "df.head()"
   ]
  },
  {
   "cell_type": "markdown",
   "metadata": {},
   "source": [
    "Uptime looks good but we need to convert it to a more usable data type. "
   ]
  },
  {
   "cell_type": "code",
   "execution_count": 319,
   "metadata": {
    "scrolled": true
   },
   "outputs": [
    {
     "data": {
      "text/html": [
       "<div>\n",
       "<style scoped>\n",
       "    .dataframe tbody tr th:only-of-type {\n",
       "        vertical-align: middle;\n",
       "    }\n",
       "\n",
       "    .dataframe tbody tr th {\n",
       "        vertical-align: top;\n",
       "    }\n",
       "\n",
       "    .dataframe thead th {\n",
       "        text-align: right;\n",
       "    }\n",
       "</style>\n",
       "<table border=\"1\" class=\"dataframe\">\n",
       "  <thead>\n",
       "    <tr style=\"text-align: right;\">\n",
       "      <th></th>\n",
       "      <th>price</th>\n",
       "      <th>abtest</th>\n",
       "      <th>vehicleType</th>\n",
       "      <th>yearOfRegistration</th>\n",
       "      <th>gearbox</th>\n",
       "      <th>powerPS</th>\n",
       "      <th>model</th>\n",
       "      <th>kilometer</th>\n",
       "      <th>monthOfRegistration</th>\n",
       "      <th>fuelType</th>\n",
       "      <th>brand</th>\n",
       "      <th>notRepairedDamage</th>\n",
       "      <th>uptime</th>\n",
       "      <th>total_hours_uptime</th>\n",
       "    </tr>\n",
       "  </thead>\n",
       "  <tbody>\n",
       "    <tr>\n",
       "      <th>2</th>\n",
       "      <td>9800</td>\n",
       "      <td>test</td>\n",
       "      <td>suv</td>\n",
       "      <td>2004</td>\n",
       "      <td>automatik</td>\n",
       "      <td>163</td>\n",
       "      <td>grand</td>\n",
       "      <td>125000</td>\n",
       "      <td>8</td>\n",
       "      <td>diesel</td>\n",
       "      <td>jeep</td>\n",
       "      <td>nein</td>\n",
       "      <td>22 days 12:47:46</td>\n",
       "      <td>540.796111</td>\n",
       "    </tr>\n",
       "    <tr>\n",
       "      <th>3</th>\n",
       "      <td>1500</td>\n",
       "      <td>test</td>\n",
       "      <td>kleinwagen</td>\n",
       "      <td>2001</td>\n",
       "      <td>manuell</td>\n",
       "      <td>75</td>\n",
       "      <td>golf</td>\n",
       "      <td>150000</td>\n",
       "      <td>6</td>\n",
       "      <td>benzin</td>\n",
       "      <td>volkswagen</td>\n",
       "      <td>nein</td>\n",
       "      <td>0 days 17:40:17</td>\n",
       "      <td>17.671389</td>\n",
       "    </tr>\n",
       "    <tr>\n",
       "      <th>4</th>\n",
       "      <td>3600</td>\n",
       "      <td>test</td>\n",
       "      <td>kleinwagen</td>\n",
       "      <td>2008</td>\n",
       "      <td>manuell</td>\n",
       "      <td>69</td>\n",
       "      <td>fabia</td>\n",
       "      <td>90000</td>\n",
       "      <td>7</td>\n",
       "      <td>diesel</td>\n",
       "      <td>skoda</td>\n",
       "      <td>nein</td>\n",
       "      <td>6 days 10:17:21</td>\n",
       "      <td>154.289167</td>\n",
       "    </tr>\n",
       "    <tr>\n",
       "      <th>5</th>\n",
       "      <td>650</td>\n",
       "      <td>test</td>\n",
       "      <td>limousine</td>\n",
       "      <td>1995</td>\n",
       "      <td>manuell</td>\n",
       "      <td>102</td>\n",
       "      <td>3er</td>\n",
       "      <td>150000</td>\n",
       "      <td>10</td>\n",
       "      <td>benzin</td>\n",
       "      <td>bmw</td>\n",
       "      <td>ja</td>\n",
       "      <td>2 days 19:17:07</td>\n",
       "      <td>67.285278</td>\n",
       "    </tr>\n",
       "    <tr>\n",
       "      <th>6</th>\n",
       "      <td>2200</td>\n",
       "      <td>test</td>\n",
       "      <td>cabrio</td>\n",
       "      <td>2004</td>\n",
       "      <td>manuell</td>\n",
       "      <td>109</td>\n",
       "      <td>2_reihe</td>\n",
       "      <td>150000</td>\n",
       "      <td>8</td>\n",
       "      <td>benzin</td>\n",
       "      <td>peugeot</td>\n",
       "      <td>nein</td>\n",
       "      <td>4 days 18:18:39</td>\n",
       "      <td>114.310833</td>\n",
       "    </tr>\n",
       "  </tbody>\n",
       "</table>\n",
       "</div>"
      ],
      "text/plain": [
       "   price abtest vehicleType  yearOfRegistration    gearbox  powerPS    model  \\\n",
       "2   9800   test         suv                2004  automatik      163    grand   \n",
       "3   1500   test  kleinwagen                2001    manuell       75     golf   \n",
       "4   3600   test  kleinwagen                2008    manuell       69    fabia   \n",
       "5    650   test   limousine                1995    manuell      102      3er   \n",
       "6   2200   test      cabrio                2004    manuell      109  2_reihe   \n",
       "\n",
       "   kilometer  monthOfRegistration fuelType       brand notRepairedDamage  \\\n",
       "2     125000                    8   diesel        jeep              nein   \n",
       "3     150000                    6   benzin  volkswagen              nein   \n",
       "4      90000                    7   diesel       skoda              nein   \n",
       "5     150000                   10   benzin         bmw                ja   \n",
       "6     150000                    8   benzin     peugeot              nein   \n",
       "\n",
       "            uptime  total_hours_uptime  \n",
       "2 22 days 12:47:46          540.796111  \n",
       "3  0 days 17:40:17           17.671389  \n",
       "4  6 days 10:17:21          154.289167  \n",
       "5  2 days 19:17:07           67.285278  \n",
       "6  4 days 18:18:39          114.310833  "
      ]
     },
     "execution_count": 319,
     "metadata": {},
     "output_type": "execute_result"
    }
   ],
   "source": [
    "df['total_hours_uptime'] = df['uptime'].dt.total_seconds() / (60 * 60)\n",
    "df.head()"
   ]
  },
  {
   "cell_type": "markdown",
   "metadata": {},
   "source": [
    "Now we can explore the data. "
   ]
  },
  {
   "cell_type": "markdown",
   "metadata": {},
   "source": [
    "Well, one take away from this chart is there there are some extreme outliers in how long a classified will stay up. We might have to approach this differently. "
   ]
  },
  {
   "cell_type": "code",
   "execution_count": 320,
   "metadata": {},
   "outputs": [
    {
     "data": {
      "text/html": [
       "<div>\n",
       "<style scoped>\n",
       "    .dataframe tbody tr th:only-of-type {\n",
       "        vertical-align: middle;\n",
       "    }\n",
       "\n",
       "    .dataframe tbody tr th {\n",
       "        vertical-align: top;\n",
       "    }\n",
       "\n",
       "    .dataframe thead th {\n",
       "        text-align: right;\n",
       "    }\n",
       "</style>\n",
       "<table border=\"1\" class=\"dataframe\">\n",
       "  <thead>\n",
       "    <tr style=\"text-align: right;\">\n",
       "      <th></th>\n",
       "      <th>price</th>\n",
       "      <th>yearOfRegistration</th>\n",
       "      <th>powerPS</th>\n",
       "      <th>kilometer</th>\n",
       "      <th>monthOfRegistration</th>\n",
       "      <th>total_hours_uptime</th>\n",
       "    </tr>\n",
       "    <tr>\n",
       "      <th>gearbox</th>\n",
       "      <th></th>\n",
       "      <th></th>\n",
       "      <th></th>\n",
       "      <th></th>\n",
       "      <th></th>\n",
       "      <th></th>\n",
       "    </tr>\n",
       "  </thead>\n",
       "  <tbody>\n",
       "    <tr>\n",
       "      <th>automatik</th>\n",
       "      <td>15997.060571</td>\n",
       "      <td>2004.341506</td>\n",
       "      <td>175.228243</td>\n",
       "      <td>122223.444997</td>\n",
       "      <td>6.272234</td>\n",
       "      <td>243.037340</td>\n",
       "    </tr>\n",
       "    <tr>\n",
       "      <th>manuell</th>\n",
       "      <td>6342.874638</td>\n",
       "      <td>2002.520627</td>\n",
       "      <td>108.333261</td>\n",
       "      <td>126217.044361</td>\n",
       "      <td>6.022420</td>\n",
       "      <td>224.950743</td>\n",
       "    </tr>\n",
       "  </tbody>\n",
       "</table>\n",
       "</div>"
      ],
      "text/plain": [
       "                  price  yearOfRegistration     powerPS      kilometer  \\\n",
       "gearbox                                                                  \n",
       "automatik  15997.060571         2004.341506  175.228243  122223.444997   \n",
       "manuell     6342.874638         2002.520627  108.333261  126217.044361   \n",
       "\n",
       "           monthOfRegistration  total_hours_uptime  \n",
       "gearbox                                             \n",
       "automatik             6.272234          243.037340  \n",
       "manuell               6.022420          224.950743  "
      ]
     },
     "execution_count": 320,
     "metadata": {},
     "output_type": "execute_result"
    }
   ],
   "source": [
    "df.groupby(['gearbox']).mean()"
   ]
  },
  {
   "cell_type": "code",
   "execution_count": 321,
   "metadata": {},
   "outputs": [
    {
     "data": {
      "text/plain": [
       "price                  0\n",
       "abtest                 0\n",
       "vehicleType            0\n",
       "yearOfRegistration     0\n",
       "gearbox                0\n",
       "powerPS                0\n",
       "model                  0\n",
       "kilometer              0\n",
       "monthOfRegistration    0\n",
       "fuelType               0\n",
       "brand                  0\n",
       "notRepairedDamage      0\n",
       "uptime                 0\n",
       "total_hours_uptime     0\n",
       "dtype: int64"
      ]
     },
     "execution_count": 321,
     "metadata": {},
     "output_type": "execute_result"
    }
   ],
   "source": [
    "df.isnull().sum()"
   ]
  },
  {
   "cell_type": "code",
   "execution_count": 287,
   "metadata": {},
   "outputs": [
    {
     "data": {
      "text/plain": [
       "count    299864.000000\n",
       "mean       2002.934464\n",
       "std           6.579942\n",
       "min        1910.000000\n",
       "25%        1999.000000\n",
       "50%        2003.000000\n",
       "75%        2007.000000\n",
       "max        2018.000000\n",
       "Name: yearOfRegistration, dtype: float64"
      ]
     },
     "execution_count": 287,
     "metadata": {},
     "output_type": "execute_result"
    }
   ],
   "source": [
    "df[\"yearOfRegistration\"].describe()"
   ]
  },
  {
   "cell_type": "markdown",
   "metadata": {},
   "source": [
    "1910 is a little old, but it's possible there are cars listed at that price, they're probably fairly expensive, however, being antiques. "
   ]
  },
  {
   "cell_type": "code",
   "execution_count": 324,
   "metadata": {
    "scrolled": true
   },
   "outputs": [
    {
     "data": {
      "text/plain": [
       "Text(0.5,1,'Price frequency in german auto classifieds')"
      ]
     },
     "execution_count": 324,
     "metadata": {},
     "output_type": "execute_result"
    },
    {
     "data": {
      "image/png": "[encoded data removed]",
      "text/plain": [
       "<Figure size 432x288 with 1 Axes>"
      ]
     },
     "metadata": {
      "needs_background": "light"
     },
     "output_type": "display_data"
    }
   ],
   "source": [
    "df['price'].hist()\n",
    "plt.xlabel(\"Price Range\")\n",
    "plt.ylabel(\"Frequency\")\n",
    "plt.title('Price frequency in german auto classifieds')"
   ]
  },
  {
   "cell_type": "code",
   "execution_count": 326,
   "metadata": {},
   "outputs": [
    {
     "data": {
      "text/plain": [
       "count    2.998640e+05\n",
       "mean     8.537011e+03\n",
       "std      4.196486e+05\n",
       "min      0.000000e+00\n",
       "25%      1.400000e+03\n",
       "50%      3.500000e+03\n",
       "75%      7.999000e+03\n",
       "max      1.000000e+08\n",
       "Name: price, dtype: float64"
      ]
     },
     "execution_count": 326,
     "metadata": {},
     "output_type": "execute_result"
    }
   ],
   "source": [
    "df['price'].describe()"
   ]
  },
  {
   "cell_type": "markdown",
   "metadata": {},
   "source": [
    "There's obviously some heavy skew, skew that is relevant to our output variable, but skew nonethe less, I'll check the sizes of different parts of the data set below and above some reasonable paramateres, see if there "
   ]
  },
  {
   "cell_type": "code",
   "execution_count": 289,
   "metadata": {},
   "outputs": [
    {
     "data": {
      "text/plain": [
       "(237, 14)"
      ]
     },
     "execution_count": 289,
     "metadata": {},
     "output_type": "execute_result"
    }
   ],
   "source": [
    "df[df.price > 100000].shape"
   ]
  },
  {
   "cell_type": "code",
   "execution_count": 290,
   "metadata": {},
   "outputs": [
    {
     "data": {
      "text/plain": [
       "(5987, 14)"
      ]
     },
     "execution_count": 290,
     "metadata": {},
     "output_type": "execute_result"
    }
   ],
   "source": [
    "df[df.price < 100].shape"
   ]
  },
  {
   "cell_type": "code",
   "execution_count": 291,
   "metadata": {},
   "outputs": [
    {
     "data": {
      "text/plain": [
       "(5044, 14)"
      ]
     },
     "execution_count": 291,
     "metadata": {},
     "output_type": "execute_result"
    }
   ],
   "source": [
    "df[df.price < 1].shape"
   ]
  },
  {
   "cell_type": "markdown",
   "metadata": {},
   "source": [
    "So, there's a substantial number of cars with 0 value, I guess some people simply want to get rid of old cars. It's something that is good to know, but difficult for our model to train and test on. We'll take note of it and remove them from the set. The cars that go over 100000 euros might be worth taking a look at. Just to get the idea of what sort of cars demand that sort of pricing. "
   ]
  },
  {
   "cell_type": "markdown",
   "metadata": {},
   "source": [
    "I know some cars are expensive, but that seems unreasonable, let's look into them. "
   ]
  },
  {
   "cell_type": "code",
   "execution_count": 325,
   "metadata": {},
   "outputs": [
    {
     "data": {
      "text/html": [
       "<div>\n",
       "<style scoped>\n",
       "    .dataframe tbody tr th:only-of-type {\n",
       "        vertical-align: middle;\n",
       "    }\n",
       "\n",
       "    .dataframe tbody tr th {\n",
       "        vertical-align: top;\n",
       "    }\n",
       "\n",
       "    .dataframe thead th {\n",
       "        text-align: right;\n",
       "    }\n",
       "</style>\n",
       "<table border=\"1\" class=\"dataframe\">\n",
       "  <thead>\n",
       "    <tr style=\"text-align: right;\">\n",
       "      <th></th>\n",
       "      <th>price</th>\n",
       "      <th>abtest</th>\n",
       "      <th>vehicleType</th>\n",
       "      <th>yearOfRegistration</th>\n",
       "      <th>gearbox</th>\n",
       "      <th>powerPS</th>\n",
       "      <th>model</th>\n",
       "      <th>kilometer</th>\n",
       "      <th>monthOfRegistration</th>\n",
       "      <th>fuelType</th>\n",
       "      <th>brand</th>\n",
       "      <th>notRepairedDamage</th>\n",
       "      <th>uptime</th>\n",
       "      <th>total_hours_uptime</th>\n",
       "    </tr>\n",
       "  </thead>\n",
       "  <tbody>\n",
       "    <tr>\n",
       "      <th>77520</th>\n",
       "      <td>99999999</td>\n",
       "      <td>control</td>\n",
       "      <td>limousine</td>\n",
       "      <td>1999</td>\n",
       "      <td>automatik</td>\n",
       "      <td>224</td>\n",
       "      <td>s_klasse</td>\n",
       "      <td>150000</td>\n",
       "      <td>9</td>\n",
       "      <td>benzin</td>\n",
       "      <td>mercedes_benz</td>\n",
       "      <td>nein</td>\n",
       "      <td>15 days 05:15:30</td>\n",
       "      <td>365.258333</td>\n",
       "    </tr>\n",
       "    <tr>\n",
       "      <th>139052</th>\n",
       "      <td>99999999</td>\n",
       "      <td>control</td>\n",
       "      <td>coupe</td>\n",
       "      <td>2009</td>\n",
       "      <td>automatik</td>\n",
       "      <td>224</td>\n",
       "      <td>andere</td>\n",
       "      <td>150000</td>\n",
       "      <td>11</td>\n",
       "      <td>diesel</td>\n",
       "      <td>mercedes_benz</td>\n",
       "      <td>ja</td>\n",
       "      <td>0 days 22:40:52</td>\n",
       "      <td>22.681111</td>\n",
       "    </tr>\n",
       "    <tr>\n",
       "      <th>280059</th>\n",
       "      <td>99999999</td>\n",
       "      <td>control</td>\n",
       "      <td>andere</td>\n",
       "      <td>1974</td>\n",
       "      <td>manuell</td>\n",
       "      <td>0</td>\n",
       "      <td>golf</td>\n",
       "      <td>150000</td>\n",
       "      <td>6</td>\n",
       "      <td>benzin</td>\n",
       "      <td>volkswagen</td>\n",
       "      <td>nein</td>\n",
       "      <td>19 days 16:15:27</td>\n",
       "      <td>472.257500</td>\n",
       "    </tr>\n",
       "    <tr>\n",
       "      <th>127820</th>\n",
       "      <td>99999999</td>\n",
       "      <td>test</td>\n",
       "      <td>kombi</td>\n",
       "      <td>1999</td>\n",
       "      <td>manuell</td>\n",
       "      <td>165</td>\n",
       "      <td>a6</td>\n",
       "      <td>5000</td>\n",
       "      <td>12</td>\n",
       "      <td>benzin</td>\n",
       "      <td>audi</td>\n",
       "      <td>nein</td>\n",
       "      <td>0 days 17:49:54</td>\n",
       "      <td>17.831667</td>\n",
       "    </tr>\n",
       "    <tr>\n",
       "      <th>251980</th>\n",
       "      <td>99000000</td>\n",
       "      <td>test</td>\n",
       "      <td>limousine</td>\n",
       "      <td>2009</td>\n",
       "      <td>automatik</td>\n",
       "      <td>190</td>\n",
       "      <td>a6</td>\n",
       "      <td>150000</td>\n",
       "      <td>11</td>\n",
       "      <td>diesel</td>\n",
       "      <td>audi</td>\n",
       "      <td>nein</td>\n",
       "      <td>4 days 04:45:53</td>\n",
       "      <td>100.764722</td>\n",
       "    </tr>\n",
       "    <tr>\n",
       "      <th>183361</th>\n",
       "      <td>32545461</td>\n",
       "      <td>control</td>\n",
       "      <td>limousine</td>\n",
       "      <td>2004</td>\n",
       "      <td>automatik</td>\n",
       "      <td>175</td>\n",
       "      <td>5er</td>\n",
       "      <td>5000</td>\n",
       "      <td>10</td>\n",
       "      <td>lpg</td>\n",
       "      <td>bmw</td>\n",
       "      <td>nein</td>\n",
       "      <td>2 days 00:18:31</td>\n",
       "      <td>48.308611</td>\n",
       "    </tr>\n",
       "    <tr>\n",
       "      <th>87799</th>\n",
       "      <td>27322222</td>\n",
       "      <td>control</td>\n",
       "      <td>limousine</td>\n",
       "      <td>2014</td>\n",
       "      <td>manuell</td>\n",
       "      <td>163</td>\n",
       "      <td>c4</td>\n",
       "      <td>40000</td>\n",
       "      <td>2</td>\n",
       "      <td>diesel</td>\n",
       "      <td>citroen</td>\n",
       "      <td>nein</td>\n",
       "      <td>0 days 20:39:05</td>\n",
       "      <td>20.651389</td>\n",
       "    </tr>\n",
       "    <tr>\n",
       "      <th>279937</th>\n",
       "      <td>14000500</td>\n",
       "      <td>control</td>\n",
       "      <td>coupe</td>\n",
       "      <td>2008</td>\n",
       "      <td>automatik</td>\n",
       "      <td>231</td>\n",
       "      <td>clk</td>\n",
       "      <td>125000</td>\n",
       "      <td>5</td>\n",
       "      <td>benzin</td>\n",
       "      <td>mercedes_benz</td>\n",
       "      <td>nein</td>\n",
       "      <td>0 days 11:56:00</td>\n",
       "      <td>11.933333</td>\n",
       "    </tr>\n",
       "    <tr>\n",
       "      <th>241847</th>\n",
       "      <td>12345678</td>\n",
       "      <td>control</td>\n",
       "      <td>limousine</td>\n",
       "      <td>2001</td>\n",
       "      <td>manuell</td>\n",
       "      <td>101</td>\n",
       "      <td>vectra</td>\n",
       "      <td>150000</td>\n",
       "      <td>3</td>\n",
       "      <td>benzin</td>\n",
       "      <td>opel</td>\n",
       "      <td>nein</td>\n",
       "      <td>0 days 18:56:54</td>\n",
       "      <td>18.948333</td>\n",
       "    </tr>\n",
       "    <tr>\n",
       "      <th>287835</th>\n",
       "      <td>12345678</td>\n",
       "      <td>test</td>\n",
       "      <td>kombi</td>\n",
       "      <td>2001</td>\n",
       "      <td>manuell</td>\n",
       "      <td>101</td>\n",
       "      <td>focus</td>\n",
       "      <td>150000</td>\n",
       "      <td>0</td>\n",
       "      <td>benzin</td>\n",
       "      <td>ford</td>\n",
       "      <td>nein</td>\n",
       "      <td>6 days 21:18:10</td>\n",
       "      <td>165.302778</td>\n",
       "    </tr>\n",
       "    <tr>\n",
       "      <th>210657</th>\n",
       "      <td>11111111</td>\n",
       "      <td>test</td>\n",
       "      <td>limousine</td>\n",
       "      <td>1973</td>\n",
       "      <td>manuell</td>\n",
       "      <td>48</td>\n",
       "      <td>escort</td>\n",
       "      <td>50000</td>\n",
       "      <td>3</td>\n",
       "      <td>benzin</td>\n",
       "      <td>ford</td>\n",
       "      <td>nein</td>\n",
       "      <td>0 days 22:45:27</td>\n",
       "      <td>22.757500</td>\n",
       "    </tr>\n",
       "    <tr>\n",
       "      <th>127769</th>\n",
       "      <td>11111111</td>\n",
       "      <td>test</td>\n",
       "      <td>limousine</td>\n",
       "      <td>2003</td>\n",
       "      <td>manuell</td>\n",
       "      <td>75</td>\n",
       "      <td>golf</td>\n",
       "      <td>125000</td>\n",
       "      <td>9</td>\n",
       "      <td>benzin</td>\n",
       "      <td>volkswagen</td>\n",
       "      <td>nein</td>\n",
       "      <td>2 days 03:18:00</td>\n",
       "      <td>51.300000</td>\n",
       "    </tr>\n",
       "    <tr>\n",
       "      <th>14663</th>\n",
       "      <td>11111111</td>\n",
       "      <td>control</td>\n",
       "      <td>coupe</td>\n",
       "      <td>2003</td>\n",
       "      <td>manuell</td>\n",
       "      <td>64</td>\n",
       "      <td>polo</td>\n",
       "      <td>150000</td>\n",
       "      <td>2</td>\n",
       "      <td>benzin</td>\n",
       "      <td>volkswagen</td>\n",
       "      <td>nein</td>\n",
       "      <td>4 days 10:16:51</td>\n",
       "      <td>106.280833</td>\n",
       "    </tr>\n",
       "    <tr>\n",
       "      <th>54295</th>\n",
       "      <td>10000000</td>\n",
       "      <td>control</td>\n",
       "      <td>bus</td>\n",
       "      <td>2007</td>\n",
       "      <td>manuell</td>\n",
       "      <td>143</td>\n",
       "      <td>5_reihe</td>\n",
       "      <td>150000</td>\n",
       "      <td>2</td>\n",
       "      <td>diesel</td>\n",
       "      <td>mazda</td>\n",
       "      <td>nein</td>\n",
       "      <td>2 days 14:17:16</td>\n",
       "      <td>62.287778</td>\n",
       "    </tr>\n",
       "    <tr>\n",
       "      <th>91106</th>\n",
       "      <td>9999999</td>\n",
       "      <td>test</td>\n",
       "      <td>limousine</td>\n",
       "      <td>1996</td>\n",
       "      <td>manuell</td>\n",
       "      <td>380</td>\n",
       "      <td>a4</td>\n",
       "      <td>60000</td>\n",
       "      <td>5</td>\n",
       "      <td>benzin</td>\n",
       "      <td>audi</td>\n",
       "      <td>nein</td>\n",
       "      <td>0 days 19:46:05</td>\n",
       "      <td>19.768056</td>\n",
       "    </tr>\n",
       "    <tr>\n",
       "      <th>21467</th>\n",
       "      <td>9999999</td>\n",
       "      <td>control</td>\n",
       "      <td>coupe</td>\n",
       "      <td>1967</td>\n",
       "      <td>manuell</td>\n",
       "      <td>215</td>\n",
       "      <td>911</td>\n",
       "      <td>50000</td>\n",
       "      <td>10</td>\n",
       "      <td>benzin</td>\n",
       "      <td>porsche</td>\n",
       "      <td>nein</td>\n",
       "      <td>13 days 10:45:30</td>\n",
       "      <td>322.758333</td>\n",
       "    </tr>\n",
       "    <tr>\n",
       "      <th>20143</th>\n",
       "      <td>1250000</td>\n",
       "      <td>test</td>\n",
       "      <td>coupe</td>\n",
       "      <td>2016</td>\n",
       "      <td>manuell</td>\n",
       "      <td>500</td>\n",
       "      <td>911</td>\n",
       "      <td>5000</td>\n",
       "      <td>3</td>\n",
       "      <td>benzin</td>\n",
       "      <td>porsche</td>\n",
       "      <td>nein</td>\n",
       "      <td>3 days 04:48:27</td>\n",
       "      <td>76.807500</td>\n",
       "    </tr>\n",
       "    <tr>\n",
       "      <th>78480</th>\n",
       "      <td>1250000</td>\n",
       "      <td>test</td>\n",
       "      <td>coupe</td>\n",
       "      <td>2016</td>\n",
       "      <td>manuell</td>\n",
       "      <td>500</td>\n",
       "      <td>911</td>\n",
       "      <td>5000</td>\n",
       "      <td>3</td>\n",
       "      <td>benzin</td>\n",
       "      <td>porsche</td>\n",
       "      <td>nein</td>\n",
       "      <td>5 days 15:19:48</td>\n",
       "      <td>135.330000</td>\n",
       "    </tr>\n",
       "    <tr>\n",
       "      <th>45833</th>\n",
       "      <td>1000000</td>\n",
       "      <td>control</td>\n",
       "      <td>coupe</td>\n",
       "      <td>1981</td>\n",
       "      <td>manuell</td>\n",
       "      <td>300</td>\n",
       "      <td>911</td>\n",
       "      <td>150000</td>\n",
       "      <td>1</td>\n",
       "      <td>benzin</td>\n",
       "      <td>porsche</td>\n",
       "      <td>nein</td>\n",
       "      <td>7 days 09:18:05</td>\n",
       "      <td>177.301389</td>\n",
       "    </tr>\n",
       "    <tr>\n",
       "      <th>53507</th>\n",
       "      <td>1000000</td>\n",
       "      <td>test</td>\n",
       "      <td>suv</td>\n",
       "      <td>1992</td>\n",
       "      <td>manuell</td>\n",
       "      <td>69</td>\n",
       "      <td>andere</td>\n",
       "      <td>100000</td>\n",
       "      <td>0</td>\n",
       "      <td>benzin</td>\n",
       "      <td>suzuki</td>\n",
       "      <td>nein</td>\n",
       "      <td>25 days 21:17:47</td>\n",
       "      <td>621.296389</td>\n",
       "    </tr>\n",
       "    <tr>\n",
       "      <th>306469</th>\n",
       "      <td>1000000</td>\n",
       "      <td>control</td>\n",
       "      <td>coupe</td>\n",
       "      <td>1985</td>\n",
       "      <td>manuell</td>\n",
       "      <td>75</td>\n",
       "      <td>polo</td>\n",
       "      <td>150000</td>\n",
       "      <td>0</td>\n",
       "      <td>benzin</td>\n",
       "      <td>volkswagen</td>\n",
       "      <td>ja</td>\n",
       "      <td>1 days 18:32:52</td>\n",
       "      <td>42.547778</td>\n",
       "    </tr>\n",
       "    <tr>\n",
       "      <th>312909</th>\n",
       "      <td>999999</td>\n",
       "      <td>test</td>\n",
       "      <td>kombi</td>\n",
       "      <td>2009</td>\n",
       "      <td>manuell</td>\n",
       "      <td>101</td>\n",
       "      <td>focus</td>\n",
       "      <td>125000</td>\n",
       "      <td>4</td>\n",
       "      <td>benzin</td>\n",
       "      <td>ford</td>\n",
       "      <td>nein</td>\n",
       "      <td>20 days 07:17:35</td>\n",
       "      <td>487.293056</td>\n",
       "    </tr>\n",
       "    <tr>\n",
       "      <th>118233</th>\n",
       "      <td>999999</td>\n",
       "      <td>test</td>\n",
       "      <td>suv</td>\n",
       "      <td>1998</td>\n",
       "      <td>automatik</td>\n",
       "      <td>241</td>\n",
       "      <td>grand</td>\n",
       "      <td>150000</td>\n",
       "      <td>1</td>\n",
       "      <td>benzin</td>\n",
       "      <td>jeep</td>\n",
       "      <td>nein</td>\n",
       "      <td>28 days 00:16:46</td>\n",
       "      <td>672.279444</td>\n",
       "    </tr>\n",
       "    <tr>\n",
       "      <th>38445</th>\n",
       "      <td>999999</td>\n",
       "      <td>test</td>\n",
       "      <td>bus</td>\n",
       "      <td>1981</td>\n",
       "      <td>manuell</td>\n",
       "      <td>70</td>\n",
       "      <td>transporter</td>\n",
       "      <td>150000</td>\n",
       "      <td>1</td>\n",
       "      <td>benzin</td>\n",
       "      <td>volkswagen</td>\n",
       "      <td>nein</td>\n",
       "      <td>7 days 17:18:28</td>\n",
       "      <td>185.307778</td>\n",
       "    </tr>\n",
       "    <tr>\n",
       "      <th>359083</th>\n",
       "      <td>999990</td>\n",
       "      <td>test</td>\n",
       "      <td>limousine</td>\n",
       "      <td>1985</td>\n",
       "      <td>manuell</td>\n",
       "      <td>111</td>\n",
       "      <td>jetta</td>\n",
       "      <td>150000</td>\n",
       "      <td>12</td>\n",
       "      <td>benzin</td>\n",
       "      <td>volkswagen</td>\n",
       "      <td>ja</td>\n",
       "      <td>0 days 11:38:54</td>\n",
       "      <td>11.648333</td>\n",
       "    </tr>\n",
       "    <tr>\n",
       "      <th>85047</th>\n",
       "      <td>911911</td>\n",
       "      <td>test</td>\n",
       "      <td>cabrio</td>\n",
       "      <td>1967</td>\n",
       "      <td>manuell</td>\n",
       "      <td>160</td>\n",
       "      <td>911</td>\n",
       "      <td>5000</td>\n",
       "      <td>12</td>\n",
       "      <td>benzin</td>\n",
       "      <td>porsche</td>\n",
       "      <td>nein</td>\n",
       "      <td>0 days 12:45:00</td>\n",
       "      <td>12.750000</td>\n",
       "    </tr>\n",
       "    <tr>\n",
       "      <th>194217</th>\n",
       "      <td>849000</td>\n",
       "      <td>test</td>\n",
       "      <td>kombi</td>\n",
       "      <td>1998</td>\n",
       "      <td>manuell</td>\n",
       "      <td>75</td>\n",
       "      <td>golf</td>\n",
       "      <td>150000</td>\n",
       "      <td>1</td>\n",
       "      <td>benzin</td>\n",
       "      <td>volkswagen</td>\n",
       "      <td>nein</td>\n",
       "      <td>0 days 15:52:51</td>\n",
       "      <td>15.880833</td>\n",
       "    </tr>\n",
       "    <tr>\n",
       "      <th>344196</th>\n",
       "      <td>745000</td>\n",
       "      <td>control</td>\n",
       "      <td>coupe</td>\n",
       "      <td>2016</td>\n",
       "      <td>manuell</td>\n",
       "      <td>500</td>\n",
       "      <td>911</td>\n",
       "      <td>5000</td>\n",
       "      <td>3</td>\n",
       "      <td>benzin</td>\n",
       "      <td>porsche</td>\n",
       "      <td>nein</td>\n",
       "      <td>7 days 18:45:25</td>\n",
       "      <td>186.756944</td>\n",
       "    </tr>\n",
       "    <tr>\n",
       "      <th>118143</th>\n",
       "      <td>745000</td>\n",
       "      <td>test</td>\n",
       "      <td>coupe</td>\n",
       "      <td>2016</td>\n",
       "      <td>manuell</td>\n",
       "      <td>500</td>\n",
       "      <td>911</td>\n",
       "      <td>5000</td>\n",
       "      <td>3</td>\n",
       "      <td>benzin</td>\n",
       "      <td>porsche</td>\n",
       "      <td>nein</td>\n",
       "      <td>1 days 17:30:34</td>\n",
       "      <td>41.509444</td>\n",
       "    </tr>\n",
       "    <tr>\n",
       "      <th>137856</th>\n",
       "      <td>619000</td>\n",
       "      <td>control</td>\n",
       "      <td>coupe</td>\n",
       "      <td>2016</td>\n",
       "      <td>manuell</td>\n",
       "      <td>500</td>\n",
       "      <td>911</td>\n",
       "      <td>5000</td>\n",
       "      <td>3</td>\n",
       "      <td>benzin</td>\n",
       "      <td>porsche</td>\n",
       "      <td>nein</td>\n",
       "      <td>1 days 16:30:13</td>\n",
       "      <td>40.503611</td>\n",
       "    </tr>\n",
       "    <tr>\n",
       "      <th>...</th>\n",
       "      <td>...</td>\n",
       "      <td>...</td>\n",
       "      <td>...</td>\n",
       "      <td>...</td>\n",
       "      <td>...</td>\n",
       "      <td>...</td>\n",
       "      <td>...</td>\n",
       "      <td>...</td>\n",
       "      <td>...</td>\n",
       "      <td>...</td>\n",
       "      <td>...</td>\n",
       "      <td>...</td>\n",
       "      <td>...</td>\n",
       "      <td>...</td>\n",
       "    </tr>\n",
       "    <tr>\n",
       "      <th>25046</th>\n",
       "      <td>0</td>\n",
       "      <td>test</td>\n",
       "      <td>kleinwagen</td>\n",
       "      <td>2004</td>\n",
       "      <td>manuell</td>\n",
       "      <td>0</td>\n",
       "      <td>fiesta</td>\n",
       "      <td>125000</td>\n",
       "      <td>0</td>\n",
       "      <td>benzin</td>\n",
       "      <td>ford</td>\n",
       "      <td>nein</td>\n",
       "      <td>11 days 09:46:25</td>\n",
       "      <td>273.773611</td>\n",
       "    </tr>\n",
       "    <tr>\n",
       "      <th>41203</th>\n",
       "      <td>0</td>\n",
       "      <td>control</td>\n",
       "      <td>kombi</td>\n",
       "      <td>1999</td>\n",
       "      <td>manuell</td>\n",
       "      <td>82</td>\n",
       "      <td>astra</td>\n",
       "      <td>150000</td>\n",
       "      <td>9</td>\n",
       "      <td>diesel</td>\n",
       "      <td>opel</td>\n",
       "      <td>ja</td>\n",
       "      <td>0 days 13:49:59</td>\n",
       "      <td>13.833056</td>\n",
       "    </tr>\n",
       "    <tr>\n",
       "      <th>269395</th>\n",
       "      <td>0</td>\n",
       "      <td>control</td>\n",
       "      <td>kleinwagen</td>\n",
       "      <td>1993</td>\n",
       "      <td>manuell</td>\n",
       "      <td>48</td>\n",
       "      <td>polo</td>\n",
       "      <td>150000</td>\n",
       "      <td>0</td>\n",
       "      <td>diesel</td>\n",
       "      <td>volkswagen</td>\n",
       "      <td>nein</td>\n",
       "      <td>3 days 07:15:50</td>\n",
       "      <td>79.263889</td>\n",
       "    </tr>\n",
       "    <tr>\n",
       "      <th>102023</th>\n",
       "      <td>0</td>\n",
       "      <td>test</td>\n",
       "      <td>kleinwagen</td>\n",
       "      <td>1962</td>\n",
       "      <td>manuell</td>\n",
       "      <td>26</td>\n",
       "      <td>andere</td>\n",
       "      <td>100000</td>\n",
       "      <td>10</td>\n",
       "      <td>benzin</td>\n",
       "      <td>trabant</td>\n",
       "      <td>nein</td>\n",
       "      <td>21 days 04:44:29</td>\n",
       "      <td>508.741389</td>\n",
       "    </tr>\n",
       "    <tr>\n",
       "      <th>62212</th>\n",
       "      <td>0</td>\n",
       "      <td>test</td>\n",
       "      <td>kleinwagen</td>\n",
       "      <td>1994</td>\n",
       "      <td>manuell</td>\n",
       "      <td>0</td>\n",
       "      <td>golf</td>\n",
       "      <td>150000</td>\n",
       "      <td>11</td>\n",
       "      <td>benzin</td>\n",
       "      <td>volkswagen</td>\n",
       "      <td>nein</td>\n",
       "      <td>14 days 03:16:56</td>\n",
       "      <td>339.282222</td>\n",
       "    </tr>\n",
       "    <tr>\n",
       "      <th>348669</th>\n",
       "      <td>0</td>\n",
       "      <td>control</td>\n",
       "      <td>kombi</td>\n",
       "      <td>2008</td>\n",
       "      <td>automatik</td>\n",
       "      <td>0</td>\n",
       "      <td>e_klasse</td>\n",
       "      <td>150000</td>\n",
       "      <td>0</td>\n",
       "      <td>diesel</td>\n",
       "      <td>mercedes_benz</td>\n",
       "      <td>ja</td>\n",
       "      <td>0 days 17:16:23</td>\n",
       "      <td>17.273056</td>\n",
       "    </tr>\n",
       "    <tr>\n",
       "      <th>62211</th>\n",
       "      <td>0</td>\n",
       "      <td>control</td>\n",
       "      <td>limousine</td>\n",
       "      <td>2000</td>\n",
       "      <td>manuell</td>\n",
       "      <td>180</td>\n",
       "      <td>a6</td>\n",
       "      <td>150000</td>\n",
       "      <td>12</td>\n",
       "      <td>diesel</td>\n",
       "      <td>audi</td>\n",
       "      <td>nein</td>\n",
       "      <td>2 days 10:44:33</td>\n",
       "      <td>58.742500</td>\n",
       "    </tr>\n",
       "    <tr>\n",
       "      <th>5598</th>\n",
       "      <td>0</td>\n",
       "      <td>test</td>\n",
       "      <td>limousine</td>\n",
       "      <td>1999</td>\n",
       "      <td>manuell</td>\n",
       "      <td>90</td>\n",
       "      <td>focus</td>\n",
       "      <td>150000</td>\n",
       "      <td>6</td>\n",
       "      <td>diesel</td>\n",
       "      <td>ford</td>\n",
       "      <td>nein</td>\n",
       "      <td>31 days 21:17:13</td>\n",
       "      <td>765.286944</td>\n",
       "    </tr>\n",
       "    <tr>\n",
       "      <th>204608</th>\n",
       "      <td>0</td>\n",
       "      <td>control</td>\n",
       "      <td>kleinwagen</td>\n",
       "      <td>1998</td>\n",
       "      <td>manuell</td>\n",
       "      <td>0</td>\n",
       "      <td>twingo</td>\n",
       "      <td>125000</td>\n",
       "      <td>0</td>\n",
       "      <td>benzin</td>\n",
       "      <td>renault</td>\n",
       "      <td>nein</td>\n",
       "      <td>5 days 16:15:35</td>\n",
       "      <td>136.259722</td>\n",
       "    </tr>\n",
       "    <tr>\n",
       "      <th>116327</th>\n",
       "      <td>0</td>\n",
       "      <td>test</td>\n",
       "      <td>limousine</td>\n",
       "      <td>1999</td>\n",
       "      <td>manuell</td>\n",
       "      <td>0</td>\n",
       "      <td>3er</td>\n",
       "      <td>150000</td>\n",
       "      <td>6</td>\n",
       "      <td>benzin</td>\n",
       "      <td>bmw</td>\n",
       "      <td>nein</td>\n",
       "      <td>7 days 23:46:19</td>\n",
       "      <td>191.771944</td>\n",
       "    </tr>\n",
       "    <tr>\n",
       "      <th>348561</th>\n",
       "      <td>0</td>\n",
       "      <td>test</td>\n",
       "      <td>limousine</td>\n",
       "      <td>1996</td>\n",
       "      <td>manuell</td>\n",
       "      <td>0</td>\n",
       "      <td>3er</td>\n",
       "      <td>150000</td>\n",
       "      <td>0</td>\n",
       "      <td>benzin</td>\n",
       "      <td>bmw</td>\n",
       "      <td>nein</td>\n",
       "      <td>0 days 07:57:11</td>\n",
       "      <td>7.953056</td>\n",
       "    </tr>\n",
       "    <tr>\n",
       "      <th>136791</th>\n",
       "      <td>0</td>\n",
       "      <td>control</td>\n",
       "      <td>limousine</td>\n",
       "      <td>1992</td>\n",
       "      <td>manuell</td>\n",
       "      <td>174</td>\n",
       "      <td>80</td>\n",
       "      <td>150000</td>\n",
       "      <td>4</td>\n",
       "      <td>benzin</td>\n",
       "      <td>audi</td>\n",
       "      <td>nein</td>\n",
       "      <td>31 days 02:17:24</td>\n",
       "      <td>746.290000</td>\n",
       "    </tr>\n",
       "    <tr>\n",
       "      <th>348445</th>\n",
       "      <td>0</td>\n",
       "      <td>test</td>\n",
       "      <td>kombi</td>\n",
       "      <td>2004</td>\n",
       "      <td>manuell</td>\n",
       "      <td>0</td>\n",
       "      <td>megane</td>\n",
       "      <td>150000</td>\n",
       "      <td>7</td>\n",
       "      <td>diesel</td>\n",
       "      <td>renault</td>\n",
       "      <td>ja</td>\n",
       "      <td>0 days 16:42:05</td>\n",
       "      <td>16.701389</td>\n",
       "    </tr>\n",
       "    <tr>\n",
       "      <th>204199</th>\n",
       "      <td>0</td>\n",
       "      <td>control</td>\n",
       "      <td>kleinwagen</td>\n",
       "      <td>1999</td>\n",
       "      <td>manuell</td>\n",
       "      <td>60</td>\n",
       "      <td>ka</td>\n",
       "      <td>150000</td>\n",
       "      <td>6</td>\n",
       "      <td>benzin</td>\n",
       "      <td>ford</td>\n",
       "      <td>nein</td>\n",
       "      <td>0 days 22:51:55</td>\n",
       "      <td>22.865278</td>\n",
       "    </tr>\n",
       "    <tr>\n",
       "      <th>348361</th>\n",
       "      <td>0</td>\n",
       "      <td>control</td>\n",
       "      <td>kleinwagen</td>\n",
       "      <td>1998</td>\n",
       "      <td>manuell</td>\n",
       "      <td>58</td>\n",
       "      <td>clio</td>\n",
       "      <td>150000</td>\n",
       "      <td>12</td>\n",
       "      <td>benzin</td>\n",
       "      <td>renault</td>\n",
       "      <td>ja</td>\n",
       "      <td>2 days 11:46:47</td>\n",
       "      <td>59.779722</td>\n",
       "    </tr>\n",
       "    <tr>\n",
       "      <th>269865</th>\n",
       "      <td>0</td>\n",
       "      <td>control</td>\n",
       "      <td>kleinwagen</td>\n",
       "      <td>1996</td>\n",
       "      <td>manuell</td>\n",
       "      <td>60</td>\n",
       "      <td>polo</td>\n",
       "      <td>150000</td>\n",
       "      <td>8</td>\n",
       "      <td>benzin</td>\n",
       "      <td>volkswagen</td>\n",
       "      <td>nein</td>\n",
       "      <td>4 days 14:47:09</td>\n",
       "      <td>110.785833</td>\n",
       "    </tr>\n",
       "    <tr>\n",
       "      <th>348396</th>\n",
       "      <td>0</td>\n",
       "      <td>control</td>\n",
       "      <td>bus</td>\n",
       "      <td>1989</td>\n",
       "      <td>manuell</td>\n",
       "      <td>112</td>\n",
       "      <td>transporter</td>\n",
       "      <td>150000</td>\n",
       "      <td>8</td>\n",
       "      <td>benzin</td>\n",
       "      <td>volkswagen</td>\n",
       "      <td>nein</td>\n",
       "      <td>2 days 17:15:30</td>\n",
       "      <td>65.258333</td>\n",
       "    </tr>\n",
       "    <tr>\n",
       "      <th>24923</th>\n",
       "      <td>0</td>\n",
       "      <td>test</td>\n",
       "      <td>kombi</td>\n",
       "      <td>2000</td>\n",
       "      <td>manuell</td>\n",
       "      <td>101</td>\n",
       "      <td>focus</td>\n",
       "      <td>150000</td>\n",
       "      <td>3</td>\n",
       "      <td>benzin</td>\n",
       "      <td>ford</td>\n",
       "      <td>nein</td>\n",
       "      <td>0 days 14:49:37</td>\n",
       "      <td>14.826944</td>\n",
       "    </tr>\n",
       "    <tr>\n",
       "      <th>58155</th>\n",
       "      <td>0</td>\n",
       "      <td>test</td>\n",
       "      <td>kleinwagen</td>\n",
       "      <td>1998</td>\n",
       "      <td>manuell</td>\n",
       "      <td>58</td>\n",
       "      <td>twingo</td>\n",
       "      <td>150000</td>\n",
       "      <td>9</td>\n",
       "      <td>benzin</td>\n",
       "      <td>renault</td>\n",
       "      <td>nein</td>\n",
       "      <td>3 days 00:45:05</td>\n",
       "      <td>72.751389</td>\n",
       "    </tr>\n",
       "    <tr>\n",
       "      <th>348421</th>\n",
       "      <td>0</td>\n",
       "      <td>control</td>\n",
       "      <td>limousine</td>\n",
       "      <td>1998</td>\n",
       "      <td>manuell</td>\n",
       "      <td>75</td>\n",
       "      <td>golf</td>\n",
       "      <td>150000</td>\n",
       "      <td>0</td>\n",
       "      <td>benzin</td>\n",
       "      <td>volkswagen</td>\n",
       "      <td>nein</td>\n",
       "      <td>0 days 12:50:12</td>\n",
       "      <td>12.836667</td>\n",
       "    </tr>\n",
       "    <tr>\n",
       "      <th>102073</th>\n",
       "      <td>0</td>\n",
       "      <td>test</td>\n",
       "      <td>kombi</td>\n",
       "      <td>2000</td>\n",
       "      <td>manuell</td>\n",
       "      <td>79</td>\n",
       "      <td>megane</td>\n",
       "      <td>150000</td>\n",
       "      <td>3</td>\n",
       "      <td>benzin</td>\n",
       "      <td>renault</td>\n",
       "      <td>nein</td>\n",
       "      <td>13 days 14:45:43</td>\n",
       "      <td>326.761944</td>\n",
       "    </tr>\n",
       "    <tr>\n",
       "      <th>204510</th>\n",
       "      <td>0</td>\n",
       "      <td>test</td>\n",
       "      <td>kombi</td>\n",
       "      <td>1996</td>\n",
       "      <td>manuell</td>\n",
       "      <td>150</td>\n",
       "      <td>5er</td>\n",
       "      <td>150000</td>\n",
       "      <td>0</td>\n",
       "      <td>benzin</td>\n",
       "      <td>bmw</td>\n",
       "      <td>nein</td>\n",
       "      <td>3 days 21:46:45</td>\n",
       "      <td>93.779167</td>\n",
       "    </tr>\n",
       "    <tr>\n",
       "      <th>91101</th>\n",
       "      <td>0</td>\n",
       "      <td>control</td>\n",
       "      <td>coupe</td>\n",
       "      <td>1993</td>\n",
       "      <td>manuell</td>\n",
       "      <td>150</td>\n",
       "      <td>3er</td>\n",
       "      <td>150000</td>\n",
       "      <td>0</td>\n",
       "      <td>benzin</td>\n",
       "      <td>bmw</td>\n",
       "      <td>nein</td>\n",
       "      <td>30 days 20:45:22</td>\n",
       "      <td>740.756111</td>\n",
       "    </tr>\n",
       "    <tr>\n",
       "      <th>204436</th>\n",
       "      <td>0</td>\n",
       "      <td>test</td>\n",
       "      <td>andere</td>\n",
       "      <td>1998</td>\n",
       "      <td>manuell</td>\n",
       "      <td>145</td>\n",
       "      <td>3er</td>\n",
       "      <td>150000</td>\n",
       "      <td>5</td>\n",
       "      <td>benzin</td>\n",
       "      <td>bmw</td>\n",
       "      <td>nein</td>\n",
       "      <td>2 days 20:15:42</td>\n",
       "      <td>68.261667</td>\n",
       "    </tr>\n",
       "    <tr>\n",
       "      <th>91107</th>\n",
       "      <td>0</td>\n",
       "      <td>test</td>\n",
       "      <td>limousine</td>\n",
       "      <td>2007</td>\n",
       "      <td>manuell</td>\n",
       "      <td>0</td>\n",
       "      <td>punto</td>\n",
       "      <td>150000</td>\n",
       "      <td>4</td>\n",
       "      <td>benzin</td>\n",
       "      <td>fiat</td>\n",
       "      <td>nein</td>\n",
       "      <td>0 days 19:51:00</td>\n",
       "      <td>19.850000</td>\n",
       "    </tr>\n",
       "    <tr>\n",
       "      <th>269599</th>\n",
       "      <td>0</td>\n",
       "      <td>control</td>\n",
       "      <td>kombi</td>\n",
       "      <td>1998</td>\n",
       "      <td>manuell</td>\n",
       "      <td>95</td>\n",
       "      <td>megane</td>\n",
       "      <td>125000</td>\n",
       "      <td>11</td>\n",
       "      <td>benzin</td>\n",
       "      <td>renault</td>\n",
       "      <td>ja</td>\n",
       "      <td>2 days 10:47:17</td>\n",
       "      <td>58.788056</td>\n",
       "    </tr>\n",
       "    <tr>\n",
       "      <th>136820</th>\n",
       "      <td>0</td>\n",
       "      <td>control</td>\n",
       "      <td>kombi</td>\n",
       "      <td>1998</td>\n",
       "      <td>manuell</td>\n",
       "      <td>150</td>\n",
       "      <td>a6</td>\n",
       "      <td>5000</td>\n",
       "      <td>0</td>\n",
       "      <td>benzin</td>\n",
       "      <td>audi</td>\n",
       "      <td>nein</td>\n",
       "      <td>6 days 10:17:42</td>\n",
       "      <td>154.295000</td>\n",
       "    </tr>\n",
       "    <tr>\n",
       "      <th>5620</th>\n",
       "      <td>0</td>\n",
       "      <td>test</td>\n",
       "      <td>limousine</td>\n",
       "      <td>2004</td>\n",
       "      <td>manuell</td>\n",
       "      <td>105</td>\n",
       "      <td>3_reihe</td>\n",
       "      <td>150000</td>\n",
       "      <td>11</td>\n",
       "      <td>benzin</td>\n",
       "      <td>mazda</td>\n",
       "      <td>nein</td>\n",
       "      <td>3 days 13:44:36</td>\n",
       "      <td>85.743333</td>\n",
       "    </tr>\n",
       "    <tr>\n",
       "      <th>136812</th>\n",
       "      <td>0</td>\n",
       "      <td>control</td>\n",
       "      <td>limousine</td>\n",
       "      <td>2003</td>\n",
       "      <td>manuell</td>\n",
       "      <td>82</td>\n",
       "      <td>a_klasse</td>\n",
       "      <td>150000</td>\n",
       "      <td>0</td>\n",
       "      <td>benzin</td>\n",
       "      <td>mercedes_benz</td>\n",
       "      <td>nein</td>\n",
       "      <td>10 days 00:17:50</td>\n",
       "      <td>240.297222</td>\n",
       "    </tr>\n",
       "    <tr>\n",
       "      <th>163232</th>\n",
       "      <td>0</td>\n",
       "      <td>control</td>\n",
       "      <td>andere</td>\n",
       "      <td>2001</td>\n",
       "      <td>manuell</td>\n",
       "      <td>115</td>\n",
       "      <td>3er</td>\n",
       "      <td>150000</td>\n",
       "      <td>12</td>\n",
       "      <td>benzin</td>\n",
       "      <td>bmw</td>\n",
       "      <td>nein</td>\n",
       "      <td>7 days 05:16:00</td>\n",
       "      <td>173.266667</td>\n",
       "    </tr>\n",
       "  </tbody>\n",
       "</table>\n",
       "<p>299864 rows × 14 columns</p>\n",
       "</div>"
      ],
      "text/plain": [
       "           price   abtest vehicleType  yearOfRegistration    gearbox  powerPS  \\\n",
       "77520   99999999  control   limousine                1999  automatik      224   \n",
       "139052  99999999  control       coupe                2009  automatik      224   \n",
       "280059  99999999  control      andere                1974    manuell        0   \n",
       "127820  99999999     test       kombi                1999    manuell      165   \n",
       "251980  99000000     test   limousine                2009  automatik      190   \n",
       "183361  32545461  control   limousine                2004  automatik      175   \n",
       "87799   27322222  control   limousine                2014    manuell      163   \n",
       "279937  14000500  control       coupe                2008  automatik      231   \n",
       "241847  12345678  control   limousine                2001    manuell      101   \n",
       "287835  12345678     test       kombi                2001    manuell      101   \n",
       "210657  11111111     test   limousine                1973    manuell       48   \n",
       "127769  11111111     test   limousine                2003    manuell       75   \n",
       "14663   11111111  control       coupe                2003    manuell       64   \n",
       "54295   10000000  control         bus                2007    manuell      143   \n",
       "91106    9999999     test   limousine                1996    manuell      380   \n",
       "21467    9999999  control       coupe                1967    manuell      215   \n",
       "20143    1250000     test       coupe                2016    manuell      500   \n",
       "78480    1250000     test       coupe                2016    manuell      500   \n",
       "45833    1000000  control       coupe                1981    manuell      300   \n",
       "53507    1000000     test         suv                1992    manuell       69   \n",
       "306469   1000000  control       coupe                1985    manuell       75   \n",
       "312909    999999     test       kombi                2009    manuell      101   \n",
       "118233    999999     test         suv                1998  automatik      241   \n",
       "38445     999999     test         bus                1981    manuell       70   \n",
       "359083    999990     test   limousine                1985    manuell      111   \n",
       "85047     911911     test      cabrio                1967    manuell      160   \n",
       "194217    849000     test       kombi                1998    manuell       75   \n",
       "344196    745000  control       coupe                2016    manuell      500   \n",
       "118143    745000     test       coupe                2016    manuell      500   \n",
       "137856    619000  control       coupe                2016    manuell      500   \n",
       "...          ...      ...         ...                 ...        ...      ...   \n",
       "25046          0     test  kleinwagen                2004    manuell        0   \n",
       "41203          0  control       kombi                1999    manuell       82   \n",
       "269395         0  control  kleinwagen                1993    manuell       48   \n",
       "102023         0     test  kleinwagen                1962    manuell       26   \n",
       "62212          0     test  kleinwagen                1994    manuell        0   \n",
       "348669         0  control       kombi                2008  automatik        0   \n",
       "62211          0  control   limousine                2000    manuell      180   \n",
       "5598           0     test   limousine                1999    manuell       90   \n",
       "204608         0  control  kleinwagen                1998    manuell        0   \n",
       "116327         0     test   limousine                1999    manuell        0   \n",
       "348561         0     test   limousine                1996    manuell        0   \n",
       "136791         0  control   limousine                1992    manuell      174   \n",
       "348445         0     test       kombi                2004    manuell        0   \n",
       "204199         0  control  kleinwagen                1999    manuell       60   \n",
       "348361         0  control  kleinwagen                1998    manuell       58   \n",
       "269865         0  control  kleinwagen                1996    manuell       60   \n",
       "348396         0  control         bus                1989    manuell      112   \n",
       "24923          0     test       kombi                2000    manuell      101   \n",
       "58155          0     test  kleinwagen                1998    manuell       58   \n",
       "348421         0  control   limousine                1998    manuell       75   \n",
       "102073         0     test       kombi                2000    manuell       79   \n",
       "204510         0     test       kombi                1996    manuell      150   \n",
       "91101          0  control       coupe                1993    manuell      150   \n",
       "204436         0     test      andere                1998    manuell      145   \n",
       "91107          0     test   limousine                2007    manuell        0   \n",
       "269599         0  control       kombi                1998    manuell       95   \n",
       "136820         0  control       kombi                1998    manuell      150   \n",
       "5620           0     test   limousine                2004    manuell      105   \n",
       "136812         0  control   limousine                2003    manuell       82   \n",
       "163232         0  control      andere                2001    manuell      115   \n",
       "\n",
       "              model  kilometer  monthOfRegistration fuelType          brand  \\\n",
       "77520      s_klasse     150000                    9   benzin  mercedes_benz   \n",
       "139052       andere     150000                   11   diesel  mercedes_benz   \n",
       "280059         golf     150000                    6   benzin     volkswagen   \n",
       "127820           a6       5000                   12   benzin           audi   \n",
       "251980           a6     150000                   11   diesel           audi   \n",
       "183361          5er       5000                   10      lpg            bmw   \n",
       "87799            c4      40000                    2   diesel        citroen   \n",
       "279937          clk     125000                    5   benzin  mercedes_benz   \n",
       "241847       vectra     150000                    3   benzin           opel   \n",
       "287835        focus     150000                    0   benzin           ford   \n",
       "210657       escort      50000                    3   benzin           ford   \n",
       "127769         golf     125000                    9   benzin     volkswagen   \n",
       "14663          polo     150000                    2   benzin     volkswagen   \n",
       "54295       5_reihe     150000                    2   diesel          mazda   \n",
       "91106            a4      60000                    5   benzin           audi   \n",
       "21467           911      50000                   10   benzin        porsche   \n",
       "20143           911       5000                    3   benzin        porsche   \n",
       "78480           911       5000                    3   benzin        porsche   \n",
       "45833           911     150000                    1   benzin        porsche   \n",
       "53507        andere     100000                    0   benzin         suzuki   \n",
       "306469         polo     150000                    0   benzin     volkswagen   \n",
       "312909        focus     125000                    4   benzin           ford   \n",
       "118233        grand     150000                    1   benzin           jeep   \n",
       "38445   transporter     150000                    1   benzin     volkswagen   \n",
       "359083        jetta     150000                   12   benzin     volkswagen   \n",
       "85047           911       5000                   12   benzin        porsche   \n",
       "194217         golf     150000                    1   benzin     volkswagen   \n",
       "344196          911       5000                    3   benzin        porsche   \n",
       "118143          911       5000                    3   benzin        porsche   \n",
       "137856          911       5000                    3   benzin        porsche   \n",
       "...             ...        ...                  ...      ...            ...   \n",
       "25046        fiesta     125000                    0   benzin           ford   \n",
       "41203         astra     150000                    9   diesel           opel   \n",
       "269395         polo     150000                    0   diesel     volkswagen   \n",
       "102023       andere     100000                   10   benzin        trabant   \n",
       "62212          golf     150000                   11   benzin     volkswagen   \n",
       "348669     e_klasse     150000                    0   diesel  mercedes_benz   \n",
       "62211            a6     150000                   12   diesel           audi   \n",
       "5598          focus     150000                    6   diesel           ford   \n",
       "204608       twingo     125000                    0   benzin        renault   \n",
       "116327          3er     150000                    6   benzin            bmw   \n",
       "348561          3er     150000                    0   benzin            bmw   \n",
       "136791           80     150000                    4   benzin           audi   \n",
       "348445       megane     150000                    7   diesel        renault   \n",
       "204199           ka     150000                    6   benzin           ford   \n",
       "348361         clio     150000                   12   benzin        renault   \n",
       "269865         polo     150000                    8   benzin     volkswagen   \n",
       "348396  transporter     150000                    8   benzin     volkswagen   \n",
       "24923         focus     150000                    3   benzin           ford   \n",
       "58155        twingo     150000                    9   benzin        renault   \n",
       "348421         golf     150000                    0   benzin     volkswagen   \n",
       "102073       megane     150000                    3   benzin        renault   \n",
       "204510          5er     150000                    0   benzin            bmw   \n",
       "91101           3er     150000                    0   benzin            bmw   \n",
       "204436          3er     150000                    5   benzin            bmw   \n",
       "91107         punto     150000                    4   benzin           fiat   \n",
       "269599       megane     125000                   11   benzin        renault   \n",
       "136820           a6       5000                    0   benzin           audi   \n",
       "5620        3_reihe     150000                   11   benzin          mazda   \n",
       "136812     a_klasse     150000                    0   benzin  mercedes_benz   \n",
       "163232          3er     150000                   12   benzin            bmw   \n",
       "\n",
       "       notRepairedDamage           uptime  total_hours_uptime  \n",
       "77520               nein 15 days 05:15:30          365.258333  \n",
       "139052                ja  0 days 22:40:52           22.681111  \n",
       "280059              nein 19 days 16:15:27          472.257500  \n",
       "127820              nein  0 days 17:49:54           17.831667  \n",
       "251980              nein  4 days 04:45:53          100.764722  \n",
       "183361              nein  2 days 00:18:31           48.308611  \n",
       "87799               nein  0 days 20:39:05           20.651389  \n",
       "279937              nein  0 days 11:56:00           11.933333  \n",
       "241847              nein  0 days 18:56:54           18.948333  \n",
       "287835              nein  6 days 21:18:10          165.302778  \n",
       "210657              nein  0 days 22:45:27           22.757500  \n",
       "127769              nein  2 days 03:18:00           51.300000  \n",
       "14663               nein  4 days 10:16:51          106.280833  \n",
       "54295               nein  2 days 14:17:16           62.287778  \n",
       "91106               nein  0 days 19:46:05           19.768056  \n",
       "21467               nein 13 days 10:45:30          322.758333  \n",
       "20143               nein  3 days 04:48:27           76.807500  \n",
       "78480               nein  5 days 15:19:48          135.330000  \n",
       "45833               nein  7 days 09:18:05          177.301389  \n",
       "53507               nein 25 days 21:17:47          621.296389  \n",
       "306469                ja  1 days 18:32:52           42.547778  \n",
       "312909              nein 20 days 07:17:35          487.293056  \n",
       "118233              nein 28 days 00:16:46          672.279444  \n",
       "38445               nein  7 days 17:18:28          185.307778  \n",
       "359083                ja  0 days 11:38:54           11.648333  \n",
       "85047               nein  0 days 12:45:00           12.750000  \n",
       "194217              nein  0 days 15:52:51           15.880833  \n",
       "344196              nein  7 days 18:45:25          186.756944  \n",
       "118143              nein  1 days 17:30:34           41.509444  \n",
       "137856              nein  1 days 16:30:13           40.503611  \n",
       "...                  ...              ...                 ...  \n",
       "25046               nein 11 days 09:46:25          273.773611  \n",
       "41203                 ja  0 days 13:49:59           13.833056  \n",
       "269395              nein  3 days 07:15:50           79.263889  \n",
       "102023              nein 21 days 04:44:29          508.741389  \n",
       "62212               nein 14 days 03:16:56          339.282222  \n",
       "348669                ja  0 days 17:16:23           17.273056  \n",
       "62211               nein  2 days 10:44:33           58.742500  \n",
       "5598                nein 31 days 21:17:13          765.286944  \n",
       "204608              nein  5 days 16:15:35          136.259722  \n",
       "116327              nein  7 days 23:46:19          191.771944  \n",
       "348561              nein  0 days 07:57:11            7.953056  \n",
       "136791              nein 31 days 02:17:24          746.290000  \n",
       "348445                ja  0 days 16:42:05           16.701389  \n",
       "204199              nein  0 days 22:51:55           22.865278  \n",
       "348361                ja  2 days 11:46:47           59.779722  \n",
       "269865              nein  4 days 14:47:09          110.785833  \n",
       "348396              nein  2 days 17:15:30           65.258333  \n",
       "24923               nein  0 days 14:49:37           14.826944  \n",
       "58155               nein  3 days 00:45:05           72.751389  \n",
       "348421              nein  0 days 12:50:12           12.836667  \n",
       "102073              nein 13 days 14:45:43          326.761944  \n",
       "204510              nein  3 days 21:46:45           93.779167  \n",
       "91101               nein 30 days 20:45:22          740.756111  \n",
       "204436              nein  2 days 20:15:42           68.261667  \n",
       "91107               nein  0 days 19:51:00           19.850000  \n",
       "269599                ja  2 days 10:47:17           58.788056  \n",
       "136820              nein  6 days 10:17:42          154.295000  \n",
       "5620                nein  3 days 13:44:36           85.743333  \n",
       "136812              nein 10 days 00:17:50          240.297222  \n",
       "163232              nein  7 days 05:16:00          173.266667  \n",
       "\n",
       "[299864 rows x 14 columns]"
      ]
     },
     "execution_count": 325,
     "metadata": {},
     "output_type": "execute_result"
    }
   ],
   "source": [
    "df.sort_values(by='price',  ascending=False)"
   ]
  },
  {
   "cell_type": "markdown",
   "metadata": {},
   "source": [
    "Looking these cars up, it's fairy unlikely that their owners actually evaluated them this high, it's more likely that these were either a result of input error or some glitch in the system. While eye opening to the administrators of the site, there isn't much analytical value in leaving them in."
   ]
  },
  {
   "cell_type": "code",
   "execution_count": 327,
   "metadata": {},
   "outputs": [],
   "source": [
    "df = df.drop(df[df.price > 100000].index)\n",
    "df = df.drop(df[df.price < 100].index)"
   ]
  },
  {
   "cell_type": "code",
   "execution_count": 328,
   "metadata": {},
   "outputs": [
    {
     "data": {
      "text/plain": [
       "<matplotlib.axes._subplots.AxesSubplot at 0x247849a7710>"
      ]
     },
     "execution_count": 328,
     "metadata": {},
     "output_type": "execute_result"
    },
    {
     "data": {
      "image/png": "[encoded data removed]",
      "text/plain": [
       "<Figure size 432x288 with 1 Axes>"
      ]
     },
     "metadata": {
      "needs_background": "light"
     },
     "output_type": "display_data"
    }
   ],
   "source": [
    "#checking to see if the code above had the intended effect \n",
    "df['price'].hist()"
   ]
  },
  {
   "cell_type": "markdown",
   "metadata": {},
   "source": [
    "There's still a glut of cars offered at 0$. While it does make the model less accurate, its also a relevant predictor, some cars probably do have 0 to negative value in their owners and sellers eyes, and it is a legitimate part of the outcome variable. That said, a lot of this data is heavily skewed in a way that seems unreasonable, given the info we pulled up above, we can standardize it a bit more. "
   ]
  },
  {
   "cell_type": "code",
   "execution_count": 329,
   "metadata": {
    "scrolled": true
   },
   "outputs": [
    {
     "data": {
      "text/plain": [
       "count    293640.000000\n",
       "mean       6295.082823\n",
       "std        7735.521247\n",
       "min         100.000000\n",
       "25%        1499.000000\n",
       "50%        3542.000000\n",
       "75%        8190.000000\n",
       "max      100000.000000\n",
       "Name: price, dtype: float64"
      ]
     },
     "execution_count": 329,
     "metadata": {},
     "output_type": "execute_result"
    }
   ],
   "source": [
    "df['price'].describe()"
   ]
  },
  {
   "cell_type": "code",
   "execution_count": 330,
   "metadata": {
    "scrolled": true
   },
   "outputs": [
    {
     "data": {
      "text/plain": [
       "6295.082822503746"
      ]
     },
     "execution_count": 330,
     "metadata": {},
     "output_type": "execute_result"
    }
   ],
   "source": [
    "df['price'].mean()"
   ]
  },
  {
   "cell_type": "code",
   "execution_count": 371,
   "metadata": {},
   "outputs": [
    {
     "data": {
      "text/plain": [
       "(17736, 14)"
      ]
     },
     "execution_count": 371,
     "metadata": {},
     "output_type": "execute_result"
    }
   ],
   "source": [
    "df[df.price > (df['price'].median() + 2*df['price'].std())].shape"
   ]
  },
  {
   "cell_type": "markdown",
   "metadata": {},
   "source": [
    "I'm comfortable loosing 18k data points, given the size the data set and the extent of the skew."
   ]
  },
  {
   "cell_type": "code",
   "execution_count": 344,
   "metadata": {},
   "outputs": [
    {
     "data": {
      "text/plain": [
       "(0, 14)"
      ]
     },
     "execution_count": 344,
     "metadata": {},
     "output_type": "execute_result"
    }
   ],
   "source": [
    "df[df.price < (df['price'].median() - 2*df['price'].std())].shape"
   ]
  },
  {
   "cell_type": "markdown",
   "metadata": {},
   "source": [
    "And we don't even have to trim anything off the bottom to remain consistent. "
   ]
  },
  {
   "cell_type": "code",
   "execution_count": 336,
   "metadata": {},
   "outputs": [
    {
     "data": {
      "text/plain": [
       "['price',\n",
       " 'abtest',\n",
       " 'vehicleType',\n",
       " 'yearOfRegistration',\n",
       " 'gearbox',\n",
       " 'powerPS',\n",
       " 'model',\n",
       " 'kilometer',\n",
       " 'monthOfRegistration',\n",
       " 'fuelType',\n",
       " 'brand',\n",
       " 'notRepairedDamage',\n",
       " 'uptime',\n",
       " 'total_hours_uptime']"
      ]
     },
     "execution_count": 336,
     "metadata": {},
     "output_type": "execute_result"
    }
   ],
   "source": [
    "list(dfc)"
   ]
  },
  {
   "cell_type": "code",
   "execution_count": 337,
   "metadata": {},
   "outputs": [
    {
     "data": {
      "text/plain": [
       "price                  0\n",
       "abtest                 0\n",
       "vehicleType            0\n",
       "yearOfRegistration     0\n",
       "gearbox                0\n",
       "powerPS                0\n",
       "model                  0\n",
       "kilometer              0\n",
       "monthOfRegistration    0\n",
       "fuelType               0\n",
       "brand                  0\n",
       "notRepairedDamage      0\n",
       "uptime                 0\n",
       "total_hours_uptime     0\n",
       "dtype: int64"
      ]
     },
     "execution_count": 337,
     "metadata": {},
     "output_type": "execute_result"
    }
   ],
   "source": [
    "dfc.isnull().sum()"
   ]
  },
  {
   "cell_type": "code",
   "execution_count": 375,
   "metadata": {},
   "outputs": [
    {
     "name": "stdout",
     "output_type": "stream",
     "text": [
      "(280097, 14)\n",
      "(293640, 14)\n"
     ]
    }
   ],
   "source": [
    "print(dfc.shape)\n",
    "\n",
    "print(df.shape)"
   ]
  },
  {
   "cell_type": "markdown",
   "metadata": {},
   "source": [
    "We have a decent frame in which to drop outliers out of our dataset. But before I declare that dataframe, I found an alternative to get dummies, which might work better for our data. Let's work on that. "
   ]
  },
  {
   "cell_type": "code",
   "execution_count": 376,
   "metadata": {},
   "outputs": [
    {
     "data": {
      "text/html": [
       "<div>\n",
       "<style scoped>\n",
       "    .dataframe tbody tr th:only-of-type {\n",
       "        vertical-align: middle;\n",
       "    }\n",
       "\n",
       "    .dataframe tbody tr th {\n",
       "        vertical-align: top;\n",
       "    }\n",
       "\n",
       "    .dataframe thead th {\n",
       "        text-align: right;\n",
       "    }\n",
       "</style>\n",
       "<table border=\"1\" class=\"dataframe\">\n",
       "  <thead>\n",
       "    <tr style=\"text-align: right;\">\n",
       "      <th></th>\n",
       "      <th>price</th>\n",
       "      <th>abtest</th>\n",
       "      <th>vehicleType</th>\n",
       "      <th>yearOfRegistration</th>\n",
       "      <th>gearbox</th>\n",
       "      <th>powerPS</th>\n",
       "      <th>model</th>\n",
       "      <th>kilometer</th>\n",
       "      <th>monthOfRegistration</th>\n",
       "      <th>fuelType</th>\n",
       "      <th>brand</th>\n",
       "      <th>notRepairedDamage</th>\n",
       "      <th>uptime</th>\n",
       "      <th>total_hours_uptime</th>\n",
       "    </tr>\n",
       "  </thead>\n",
       "  <tbody>\n",
       "    <tr>\n",
       "      <th>2</th>\n",
       "      <td>9800</td>\n",
       "      <td>1</td>\n",
       "      <td>7</td>\n",
       "      <td>2004</td>\n",
       "      <td>0</td>\n",
       "      <td>163</td>\n",
       "      <td>119</td>\n",
       "      <td>125000</td>\n",
       "      <td>8</td>\n",
       "      <td>3</td>\n",
       "      <td>14</td>\n",
       "      <td>1</td>\n",
       "      <td>22 days 12:47:46</td>\n",
       "      <td>540.796111</td>\n",
       "    </tr>\n",
       "    <tr>\n",
       "      <th>3</th>\n",
       "      <td>1500</td>\n",
       "      <td>1</td>\n",
       "      <td>4</td>\n",
       "      <td>2001</td>\n",
       "      <td>1</td>\n",
       "      <td>75</td>\n",
       "      <td>118</td>\n",
       "      <td>150000</td>\n",
       "      <td>6</td>\n",
       "      <td>1</td>\n",
       "      <td>37</td>\n",
       "      <td>1</td>\n",
       "      <td>0 days 17:40:17</td>\n",
       "      <td>17.671389</td>\n",
       "    </tr>\n",
       "    <tr>\n",
       "      <th>4</th>\n",
       "      <td>3600</td>\n",
       "      <td>1</td>\n",
       "      <td>4</td>\n",
       "      <td>2008</td>\n",
       "      <td>1</td>\n",
       "      <td>69</td>\n",
       "      <td>103</td>\n",
       "      <td>90000</td>\n",
       "      <td>7</td>\n",
       "      <td>3</td>\n",
       "      <td>31</td>\n",
       "      <td>1</td>\n",
       "      <td>6 days 10:17:21</td>\n",
       "      <td>154.289167</td>\n",
       "    </tr>\n",
       "    <tr>\n",
       "      <th>5</th>\n",
       "      <td>650</td>\n",
       "      <td>1</td>\n",
       "      <td>6</td>\n",
       "      <td>1995</td>\n",
       "      <td>1</td>\n",
       "      <td>102</td>\n",
       "      <td>11</td>\n",
       "      <td>150000</td>\n",
       "      <td>10</td>\n",
       "      <td>1</td>\n",
       "      <td>2</td>\n",
       "      <td>0</td>\n",
       "      <td>2 days 19:17:07</td>\n",
       "      <td>67.285278</td>\n",
       "    </tr>\n",
       "    <tr>\n",
       "      <th>6</th>\n",
       "      <td>2200</td>\n",
       "      <td>1</td>\n",
       "      <td>2</td>\n",
       "      <td>2004</td>\n",
       "      <td>1</td>\n",
       "      <td>109</td>\n",
       "      <td>8</td>\n",
       "      <td>150000</td>\n",
       "      <td>8</td>\n",
       "      <td>1</td>\n",
       "      <td>25</td>\n",
       "      <td>1</td>\n",
       "      <td>4 days 18:18:39</td>\n",
       "      <td>114.310833</td>\n",
       "    </tr>\n",
       "  </tbody>\n",
       "</table>\n",
       "</div>"
      ],
      "text/plain": [
       "   price  abtest  vehicleType  yearOfRegistration  gearbox  powerPS  model  \\\n",
       "2   9800       1            7                2004        0      163    119   \n",
       "3   1500       1            4                2001        1       75    118   \n",
       "4   3600       1            4                2008        1       69    103   \n",
       "5    650       1            6                1995        1      102     11   \n",
       "6   2200       1            2                2004        1      109      8   \n",
       "\n",
       "   kilometer  monthOfRegistration  fuelType  brand  notRepairedDamage  \\\n",
       "2     125000                    8         3     14                  1   \n",
       "3     150000                    6         1     37                  1   \n",
       "4      90000                    7         3     31                  1   \n",
       "5     150000                   10         1      2                  0   \n",
       "6     150000                    8         1     25                  1   \n",
       "\n",
       "            uptime  total_hours_uptime  \n",
       "2 22 days 12:47:46          540.796111  \n",
       "3  0 days 17:40:17           17.671389  \n",
       "4  6 days 10:17:21          154.289167  \n",
       "5  2 days 19:17:07           67.285278  \n",
       "6  4 days 18:18:39          114.310833  "
      ]
     },
     "execution_count": 376,
     "metadata": {},
     "output_type": "execute_result"
    }
   ],
   "source": [
    "from sklearn.preprocessing import LabelEncoder\n",
    "\n",
    "df[\"vehicleType\"] =LabelEncoder().fit_transform(df[\"vehicleType\"])\n",
    "df[\"fuelType\"] =LabelEncoder().fit_transform(df[\"fuelType\"])\n",
    "df[\"gearbox\"] =LabelEncoder().fit_transform(df[\"gearbox\"])\n",
    "df[\"notRepairedDamage\"] =LabelEncoder().fit_transform(df[\"notRepairedDamage\"])\n",
    "df[\"brand\"] =LabelEncoder().fit_transform(df[\"brand\"])\n",
    "df[\"model\"] =LabelEncoder().fit_transform(df[\"model\"])\n",
    "df[\"abtest\"] =LabelEncoder().fit_transform(df[\"abtest\"])\n",
    "df.head()\n"
   ]
  },
  {
   "cell_type": "code",
   "execution_count": 377,
   "metadata": {},
   "outputs": [],
   "source": [
    "dfc = df[df['price'] < (df['price'].mean() + 2*df['price'].std())]"
   ]
  },
  {
   "cell_type": "code",
   "execution_count": 378,
   "metadata": {},
   "outputs": [
    {
     "data": {
      "text/plain": [
       "<matplotlib.axes._subplots.AxesSubplot at 0x2473924e6d8>"
      ]
     },
     "execution_count": 378,
     "metadata": {},
     "output_type": "execute_result"
    },
    {
     "data": {
      "image/png": "[encoded data removed]",
      "text/plain": [
       "<Figure size 432x288 with 1 Axes>"
      ]
     },
     "metadata": {},
     "output_type": "display_data"
    }
   ],
   "source": [
    "dfc.price.hist()"
   ]
  },
  {
   "cell_type": "code",
   "execution_count": 379,
   "metadata": {},
   "outputs": [
    {
     "name": "stdout",
     "output_type": "stream",
     "text": [
      "(224077,) (224077, 10) (224077,) (56020,)\n"
     ]
    }
   ],
   "source": [
    "\n",
    "dft = dfc.drop(['price', 'abtest', 'total_hours_uptime', 'uptime'], axis = 1)\n",
    "x_train, x_test, y_train, y_test = train_test_split(dft, dfc.price, test_size=.20)\n",
    "y = y_train\n",
    "X = x_train\n",
    "print(y.shape, X.shape, y_train.shape, y_test.shape)"
   ]
  },
  {
   "cell_type": "code",
   "execution_count": 380,
   "metadata": {},
   "outputs": [
    {
     "data": {
      "text/plain": [
       "0.8874270217726145"
      ]
     },
     "execution_count": 380,
     "metadata": {},
     "output_type": "execute_result"
    }
   ],
   "source": [
    "rfr = RandomForestRegressor(max_depth=20)\n",
    "rfr.fit(X, y)\n",
    "rfr.score(x_test, y_test)"
   ]
  },
  {
   "cell_type": "markdown",
   "metadata": {},
   "source": [
    "Hey not bad, we can predict the price with an 89% R2 score. Now lets see if we can predict the uptime for any classified posted with a given price. First let's give it a bit of normalization. I experimented with removing some of the features that were given to the model. Surprisingly, removal of the mileage on a car, and the unrepaired damage category had relatively little impact. However, things like horsepower, year and month of registration, brand had a ton of impact, and the "
   ]
  },
  {
   "cell_type": "markdown",
   "metadata": {},
   "source": [
    "Bellow is the code to produce the visualizations for the random trees, they are computationally intensive, and only provide output in the form of an SVG provided on the chart. For this reason they are commented out of the code for efficiencies sake, but any reviewer may look or run the code if they are interested. "
   ]
  },
  {
   "cell_type": "code",
   "execution_count": 381,
   "metadata": {},
   "outputs": [],
   "source": [
    "\n",
    "# from sklearn.datasets import *\n",
    "# from sklearn import tree\n",
    "# from dtreeviz.trees import *\n",
    "# Regressor = tree.DecisionTreeRegressor(max_depth = 3)\n",
    "# Regressor.fit(X, y)\n",
    "\n",
    "# viz = dtreeviz(Regressor, \n",
    "#                x_test, \n",
    "#                y_test,\n",
    "#                target_name='price',\n",
    "#               feature_names=list(X)\n",
    "#                   )  \n",
    "              \n",
    "# viz.view() "
   ]
  },
  {
   "cell_type": "markdown",
   "metadata": {},
   "source": [
    "Now onto uptime of a classified. "
   ]
  },
  {
   "cell_type": "code",
   "execution_count": 351,
   "metadata": {
    "scrolled": true
   },
   "outputs": [
    {
     "data": {
      "text/plain": [
       "count    293640.000000\n",
       "mean        229.931100\n",
       "std         207.389772\n",
       "min           0.603889\n",
       "25%          63.766389\n",
       "50%         161.796667\n",
       "75%         345.786111\n",
       "max        9219.750278\n",
       "Name: total_hours_uptime, dtype: float64"
      ]
     },
     "execution_count": 351,
     "metadata": {},
     "output_type": "execute_result"
    }
   ],
   "source": [
    "df['total_hours_uptime'].describe()"
   ]
  },
  {
   "cell_type": "markdown",
   "metadata": {},
   "source": [
    "Evidently one classified stayed up over a year. We'll trim off some of the outliers here. Lets limit it to those that lasted a day before being taken down, and those that were taken down within a month. "
   ]
  },
  {
   "cell_type": "code",
   "execution_count": 352,
   "metadata": {},
   "outputs": [
    {
     "data": {
      "text/plain": [
       "(207, 14)"
      ]
     },
     "execution_count": 352,
     "metadata": {},
     "output_type": "execute_result"
    }
   ],
   "source": [
    "df[df.total_hours_uptime > 1000].shape"
   ]
  },
  {
   "cell_type": "code",
   "execution_count": 353,
   "metadata": {},
   "outputs": [
    {
     "data": {
      "text/plain": [
       "(302, 14)"
      ]
     },
     "execution_count": 353,
     "metadata": {},
     "output_type": "execute_result"
    }
   ],
   "source": [
    "df[df.total_hours_uptime < 5].shape"
   ]
  },
  {
   "cell_type": "code",
   "execution_count": 354,
   "metadata": {},
   "outputs": [],
   "source": [
    "dftime = df[(df.total_hours_uptime > 5) & (df.total_hours_uptime < 1000) ]"
   ]
  },
  {
   "cell_type": "code",
   "execution_count": 355,
   "metadata": {},
   "outputs": [
    {
     "data": {
      "text/plain": [
       "<matplotlib.axes._subplots.AxesSubplot at 0x24784f2c8d0>"
      ]
     },
     "execution_count": 355,
     "metadata": {},
     "output_type": "execute_result"
    },
    {
     "data": {
      "image/png": "[encoded data removed]",
      "text/plain": [
       "<Figure size 432x288 with 1 Axes>"
      ]
     },
     "metadata": {
      "needs_background": "light"
     },
     "output_type": "display_data"
    }
   ],
   "source": [
    "dftime.total_hours_uptime.hist()"
   ]
  },
  {
   "cell_type": "code",
   "execution_count": 356,
   "metadata": {},
   "outputs": [
    {
     "data": {
      "text/plain": [
       "<matplotlib.axes._subplots.AxesSubplot at 0x24739417dd8>"
      ]
     },
     "execution_count": 356,
     "metadata": {},
     "output_type": "execute_result"
    },
    {
     "data": {
      "image/png": "[encoded data removed]",
      "text/plain": [
       "<Figure size 432x288 with 1 Axes>"
      ]
     },
     "metadata": {
      "needs_background": "light"
     },
     "output_type": "display_data"
    }
   ],
   "source": [
    "\n",
    "np.log(dftime.total_hours_uptime).hist()"
   ]
  },
  {
   "cell_type": "code",
   "execution_count": 357,
   "metadata": {},
   "outputs": [
    {
     "name": "stderr",
     "output_type": "stream",
     "text": [
      "C:\\Users\\Ebel\\Anaconda3\\lib\\site-packages\\ipykernel_launcher.py:1: SettingWithCopyWarning: \n",
      "A value is trying to be set on a copy of a slice from a DataFrame.\n",
      "Try using .loc[row_indexer,col_indexer] = value instead\n",
      "\n",
      "See the caveats in the documentation: http://pandas.pydata.org/pandas-docs/stable/indexing.html#indexing-view-versus-copy\n",
      "  \"\"\"Entry point for launching an IPython kernel.\n"
     ]
    }
   ],
   "source": [
    "dftime['total_hours_uptime'] = np.log(dftime['total_hours_uptime'])"
   ]
  },
  {
   "cell_type": "code",
   "execution_count": 358,
   "metadata": {},
   "outputs": [
    {
     "data": {
      "text/plain": [
       "<matplotlib.axes._subplots.AxesSubplot at 0x247396cc4e0>"
      ]
     },
     "execution_count": 358,
     "metadata": {},
     "output_type": "execute_result"
    },
    {
     "data": {
      "image/png": "[encoded data removed]",
      "text/plain": [
       "<Figure size 432x288 with 1 Axes>"
      ]
     },
     "metadata": {
      "needs_background": "light"
     },
     "output_type": "display_data"
    }
   ],
   "source": [
    "dftime.total_hours_uptime.hist()"
   ]
  },
  {
   "cell_type": "code",
   "execution_count": 359,
   "metadata": {},
   "outputs": [
    {
     "name": "stdout",
     "output_type": "stream",
     "text": [
      "(234504,) (234504, 12) (58627, 12) (58627,)\n"
     ]
    }
   ],
   "source": [
    "\n",
    "\n",
    "\n",
    "dft = dftime.drop(['uptime', 'total_hours_uptime'], axis = 1)\n",
    "\n",
    "x_train, x_test, y_train, y_test = train_test_split(dft, dftime['total_hours_uptime'], test_size=.20)\n",
    "y = y_train\n",
    "X = x_train\n",
    "print(y.shape, X.shape, x_test.shape, y_test.shape)"
   ]
  },
  {
   "cell_type": "code",
   "execution_count": 360,
   "metadata": {},
   "outputs": [
    {
     "data": {
      "text/plain": [
       "0.0847106165396605"
      ]
     },
     "execution_count": 360,
     "metadata": {},
     "output_type": "execute_result"
    }
   ],
   "source": [
    "rfr = RandomForestRegressor(max_depth=10)\n",
    "rfr.fit(X, y)\n",
    "rfr.score(x_test, y_test)"
   ]
  },
  {
   "cell_type": "markdown",
   "metadata": {},
   "source": [
    "So even after standardizing the values a fair amount, we find ourselves without a reasonable ability to predict the uptime of a particular classified ad. I'll try boosting instead of bagging and see if that makes a difference, and then we might have to rethink our approach. If we can't accurately predict the time in a regression then we might switch to a simpler logistic classifier, that might be able to provide some utility in giving a warning to all listings that appear to be risking an inordinately long time. \n",
    "\n",
    "First we'll try boosting. "
   ]
  },
  {
   "cell_type": "code",
   "execution_count": 49,
   "metadata": {},
   "outputs": [
    {
     "data": {
      "text/plain": [
       "0.0651408483497371"
      ]
     },
     "execution_count": 49,
     "metadata": {},
     "output_type": "execute_result"
    }
   ],
   "source": [
    "gbr = GradientBoostingRegressor()\n",
    "gbr.fit(X, y)\n",
    "gbr.score(x_test, y_test)"
   ]
  },
  {
   "cell_type": "markdown",
   "metadata": {},
   "source": [
    "Did not work well. Time to think about how to make a classifier for this outcome, first defining a long wait will reqiure us to look at the data. "
   ]
  },
  {
   "cell_type": "code",
   "execution_count": 364,
   "metadata": {},
   "outputs": [
    {
     "name": "stdout",
     "output_type": "stream",
     "text": [
      "162.2630555555555\n"
     ]
    }
   ],
   "source": [
    "#We'll undo the log with a natural exponent. \n",
    "print(np.exp(dftime['total_hours_uptime'].median()))"
   ]
  },
  {
   "cell_type": "markdown",
   "metadata": {},
   "source": [
    "So... 162 hours is the median, that's a little under a week, or 168 hours. That seems like a reasonable amount of time to sell in a car, but it does represent the best place to divide our data in two groups, and determining what causes above average sell times.  So let's go ahead and set it to 3 weeks or 504 hours. "
   ]
  },
  {
   "cell_type": "code",
   "execution_count": 365,
   "metadata": {},
   "outputs": [
    {
     "name": "stderr",
     "output_type": "stream",
     "text": [
      "C:\\Users\\Ebel\\Anaconda3\\lib\\site-packages\\ipykernel_launcher.py:1: SettingWithCopyWarning: \n",
      "A value is trying to be set on a copy of a slice from a DataFrame.\n",
      "Try using .loc[row_indexer,col_indexer] = value instead\n",
      "\n",
      "See the caveats in the documentation: http://pandas.pydata.org/pandas-docs/stable/indexing.html#indexing-view-versus-copy\n",
      "  \"\"\"Entry point for launching an IPython kernel.\n"
     ]
    },
    {
     "data": {
      "text/plain": [
       "0.4927455642698998"
      ]
     },
     "execution_count": 365,
     "metadata": {},
     "output_type": "execute_result"
    }
   ],
   "source": [
    "dftime['LongWait'] = np.where(dftime['total_hours_uptime'] > np.log(168), 1, 0)\n",
    "dftime['LongWait'].mean()"
   ]
  },
  {
   "cell_type": "code",
   "execution_count": 367,
   "metadata": {},
   "outputs": [
    {
     "name": "stdout",
     "output_type": "stream",
     "text": [
      "(234504,) (234504, 12) (58627, 12) (58627,)\n"
     ]
    }
   ],
   "source": [
    "#Unlike before, price would probably be known to the program as it had been put in by the seller. We'll be able to use it here.\n",
    "dft = dftime.drop(['uptime', 'total_hours_uptime', 'LongWait'], axis = 1)\n",
    "\n",
    "x_train, x_test, y_train, y_test = train_test_split(dft, dftime['LongWait'], test_size=.20)\n",
    "y = y_train\n",
    "X = x_train\n",
    "print(y.shape, X.shape, x_test.shape, y_test.shape)"
   ]
  },
  {
   "cell_type": "code",
   "execution_count": 368,
   "metadata": {},
   "outputs": [
    {
     "data": {
      "text/plain": [
       "0.584099476350487"
      ]
     },
     "execution_count": 368,
     "metadata": {},
     "output_type": "execute_result"
    }
   ],
   "source": [
    "rfc = RandomForestClassifier(max_depth=10)\n",
    "rfc.fit(X, y)\n",
    "rfc.score(x_test, y_test)"
   ]
  },
  {
   "cell_type": "code",
   "execution_count": 57,
   "metadata": {},
   "outputs": [],
   "source": [
    "# classifier = tree.DecisionTreeClassifier(max_depth = 4 )\n",
    "# classifier.fit(X, y)\n",
    "\n",
    "# viz = dtreeviz(classifier, \n",
    "#                X, \n",
    "#                y,\n",
    "#                target_name='LongWait',\n",
    "#               feature_names=list(X), \n",
    "#                class_names=[1, 0]  # need class_names for classifier\n",
    "#               )  \n",
    "              \n",
    "# viz.view() "
   ]
  },
  {
   "cell_type": "markdown",
   "metadata": {},
   "source": [
    "For reference I ran a couple of different iterations with different features removed. The most had a negligble but cumulative difference that influenced it's accuracy. The features that did have an impact were; Price and kilometer. The other featuers had negligible impact, but still had a cumulative effect when dropped together. Overall, this model preforms slightly better than the dominant class. Not really useful from a practical standpoint, but it can help demonstrate what goes into how long a car takes to be bought. That said, it might be time to move past the blackbox methods and see what I might accomplish with some regular visulizations, T-Tests, and possibly some regressions. "
   ]
  },
  {
   "cell_type": "code",
   "execution_count": 369,
   "metadata": {},
   "outputs": [
    {
     "data": {
      "text/plain": [
       "Text(0.5,1,'Uptime of different types of gearboxes in classified advertisements of car sale for normalized data')"
      ]
     },
     "execution_count": 369,
     "metadata": {},
     "output_type": "execute_result"
    },
    {
     "data": {
      "image/png": "[encoded data removed]",
      "text/plain": [
       "<Figure size 432x288 with 1 Axes>"
      ]
     },
     "metadata": {},
     "output_type": "display_data"
    }
   ],
   "source": [
    "sns.set(style=\"darkgrid\")\n",
    "\n",
    "ax = sns.boxplot(x='gearbox',y='total_hours_uptime', data=dftime ,palette='pastel')  \n",
    "\n",
    "plt.title('Uptime of different types of gearboxes in classified advertisements of car sale for normalized data')\n"
   ]
  },
  {
   "cell_type": "code",
   "execution_count": 395,
   "metadata": {},
   "outputs": [
    {
     "data": {
      "text/plain": [
       "1    226618\n",
       "0     67022\n",
       "Name: gearbox, dtype: int64"
      ]
     },
     "execution_count": 395,
     "metadata": {},
     "output_type": "execute_result"
    }
   ],
   "source": [
    "#This is mostly to doublecheck the labels are right, manuel was the the dominant class, so whether 0 or 1s are dominant is a good way to double check which is which. \n",
    "df.gearbox.value_counts()"
   ]
  },
  {
   "cell_type": "markdown",
   "metadata": {},
   "source": [
    "This makes it look pretty insignificant, but we'll run a T-Test to be sure. "
   ]
  },
  {
   "cell_type": "code",
   "execution_count": 383,
   "metadata": {},
   "outputs": [],
   "source": [
    "man = dftime[dftime['gearbox'] > .5]\n",
    "auto = dftime[dftime['gearbox'] < .5]"
   ]
  },
  {
   "cell_type": "code",
   "execution_count": 387,
   "metadata": {},
   "outputs": [
    {
     "data": {
      "text/plain": [
       "Ttest_indResult(statistic=-20.02316880070217, pvalue=3.970604778533975e-89)"
      ]
     },
     "execution_count": 387,
     "metadata": {},
     "output_type": "execute_result"
    }
   ],
   "source": [
    "scipy.stats.ttest_ind(man.total_hours_uptime, auto.total_hours_uptime, equal_var=True)"
   ]
  },
  {
   "cell_type": "markdown",
   "metadata": {},
   "source": [
    "So gearbox, which was used by the model produces some very significant differences. Good to have the methodology validated a bit. Let's try using something not used by the model. "
   ]
  },
  {
   "cell_type": "code",
   "execution_count": 390,
   "metadata": {},
   "outputs": [
    {
     "data": {
      "text/plain": [
       "1    191520\n",
       "3     96213\n",
       "6      4541\n",
       "2       489\n",
       "5       218\n",
       "0        88\n",
       "4        62\n",
       "Name: fuelType, dtype: int64"
      ]
     },
     "execution_count": 390,
     "metadata": {},
     "output_type": "execute_result"
    }
   ],
   "source": [
    "dftime[\"fuelType\"].value_counts()"
   ]
  },
  {
   "cell_type": "code",
   "execution_count": 392,
   "metadata": {},
   "outputs": [],
   "source": [
    "gasoline = dftime[dftime['fuelType'] > .5]\n",
    "diesel = dftime[dftime['fuelType'] < .5]"
   ]
  },
  {
   "cell_type": "code",
   "execution_count": 393,
   "metadata": {},
   "outputs": [
    {
     "data": {
      "text/plain": [
       "Ttest_indResult(statistic=-2.089452690905778, pvalue=0.03666785229355743)"
      ]
     },
     "execution_count": 393,
     "metadata": {},
     "output_type": "execute_result"
    }
   ],
   "source": [
    "scipy.stats.ttest_ind(gasoline.total_hours_uptime, diesel.total_hours_uptime, equal_var=True)"
   ]
  },
  {
   "cell_type": "markdown",
   "metadata": {},
   "source": [
    "Still significant, but not as significant as other features with more importance in the random forest. This can give some insight and back up our finding that some features are less important than others to car value. "
   ]
  },
  {
   "cell_type": "markdown",
   "metadata": {},
   "source": [
    "I kinda need to undo a lot of what I did to the data set, especially the label encoding, if I'm going to try the models below. For that reason I'm reloading the data frame and putting it through it's cleaning paces again. A lot of the steps below are repeats of the steps above, so I'm not really denoting them. "
   ]
  },
  {
   "cell_type": "code",
   "execution_count": 413,
   "metadata": {},
   "outputs": [],
   "source": [
    "df = pd.read_csv(r\"D:\\Data For Python\\used-cars-database\\autos.csv\", encoding='latin1')"
   ]
  },
  {
   "cell_type": "code",
   "execution_count": 414,
   "metadata": {},
   "outputs": [],
   "source": [
    "df[\"notRepairedDamage\"].fillna(\"nein\",inplace = True)"
   ]
  },
  {
   "cell_type": "code",
   "execution_count": 415,
   "metadata": {},
   "outputs": [
    {
     "data": {
      "text/plain": [
       "(299864, 20)"
      ]
     },
     "execution_count": 415,
     "metadata": {},
     "output_type": "execute_result"
    }
   ],
   "source": [
    "df = df.dropna()\n",
    "df.shape"
   ]
  },
  {
   "cell_type": "code",
   "execution_count": 416,
   "metadata": {},
   "outputs": [],
   "source": [
    "df[\"notRepairedDamage\"].fillna(\"nein\",inplace = True)"
   ]
  },
  {
   "cell_type": "code",
   "execution_count": 417,
   "metadata": {
    "scrolled": false
   },
   "outputs": [
    {
     "data": {
      "text/plain": [
       "2   22 days 12:47:46\n",
       "3    0 days 17:40:17\n",
       "4    6 days 10:17:21\n",
       "5    2 days 19:17:07\n",
       "6    4 days 18:18:39\n",
       "Name: uptime, dtype: timedelta64[ns]"
      ]
     },
     "execution_count": 417,
     "metadata": {},
     "output_type": "execute_result"
    }
   ],
   "source": [
    "df['lastSeen'] = pd.to_datetime(df['lastSeen'])\n",
    "df['dateCreated'] = pd.to_datetime(df['dateCreated'])\n",
    "df['uptime'] = df['lastSeen']-df['dateCreated']\n",
    "df['uptime'].head()"
   ]
  },
  {
   "cell_type": "code",
   "execution_count": 418,
   "metadata": {
    "scrolled": true
   },
   "outputs": [
    {
     "data": {
      "text/html": [
       "<div>\n",
       "<style scoped>\n",
       "    .dataframe tbody tr th:only-of-type {\n",
       "        vertical-align: middle;\n",
       "    }\n",
       "\n",
       "    .dataframe tbody tr th {\n",
       "        vertical-align: top;\n",
       "    }\n",
       "\n",
       "    .dataframe thead th {\n",
       "        text-align: right;\n",
       "    }\n",
       "</style>\n",
       "<table border=\"1\" class=\"dataframe\">\n",
       "  <thead>\n",
       "    <tr style=\"text-align: right;\">\n",
       "      <th></th>\n",
       "      <th>dateCrawled</th>\n",
       "      <th>name</th>\n",
       "      <th>seller</th>\n",
       "      <th>offerType</th>\n",
       "      <th>price</th>\n",
       "      <th>abtest</th>\n",
       "      <th>vehicleType</th>\n",
       "      <th>yearOfRegistration</th>\n",
       "      <th>gearbox</th>\n",
       "      <th>powerPS</th>\n",
       "      <th>...</th>\n",
       "      <th>monthOfRegistration</th>\n",
       "      <th>fuelType</th>\n",
       "      <th>brand</th>\n",
       "      <th>notRepairedDamage</th>\n",
       "      <th>dateCreated</th>\n",
       "      <th>nrOfPictures</th>\n",
       "      <th>postalCode</th>\n",
       "      <th>lastSeen</th>\n",
       "      <th>uptime</th>\n",
       "      <th>total_hours_uptime</th>\n",
       "    </tr>\n",
       "  </thead>\n",
       "  <tbody>\n",
       "    <tr>\n",
       "      <th>2</th>\n",
       "      <td>2016-03-14 12:52:21</td>\n",
       "      <td>Jeep_Grand_Cherokee_\"Overland\"</td>\n",
       "      <td>privat</td>\n",
       "      <td>Angebot</td>\n",
       "      <td>9800</td>\n",
       "      <td>test</td>\n",
       "      <td>suv</td>\n",
       "      <td>2004</td>\n",
       "      <td>automatik</td>\n",
       "      <td>163</td>\n",
       "      <td>...</td>\n",
       "      <td>8</td>\n",
       "      <td>diesel</td>\n",
       "      <td>jeep</td>\n",
       "      <td>nein</td>\n",
       "      <td>2016-03-14</td>\n",
       "      <td>0</td>\n",
       "      <td>90480</td>\n",
       "      <td>2016-04-05 12:47:46</td>\n",
       "      <td>22 days 12:47:46</td>\n",
       "      <td>540.796111</td>\n",
       "    </tr>\n",
       "    <tr>\n",
       "      <th>3</th>\n",
       "      <td>2016-03-17 16:54:04</td>\n",
       "      <td>GOLF_4_1_4__3TÜRER</td>\n",
       "      <td>privat</td>\n",
       "      <td>Angebot</td>\n",
       "      <td>1500</td>\n",
       "      <td>test</td>\n",
       "      <td>kleinwagen</td>\n",
       "      <td>2001</td>\n",
       "      <td>manuell</td>\n",
       "      <td>75</td>\n",
       "      <td>...</td>\n",
       "      <td>6</td>\n",
       "      <td>benzin</td>\n",
       "      <td>volkswagen</td>\n",
       "      <td>nein</td>\n",
       "      <td>2016-03-17</td>\n",
       "      <td>0</td>\n",
       "      <td>91074</td>\n",
       "      <td>2016-03-17 17:40:17</td>\n",
       "      <td>0 days 17:40:17</td>\n",
       "      <td>17.671389</td>\n",
       "    </tr>\n",
       "    <tr>\n",
       "      <th>4</th>\n",
       "      <td>2016-03-31 17:25:20</td>\n",
       "      <td>Skoda_Fabia_1.4_TDI_PD_Classic</td>\n",
       "      <td>privat</td>\n",
       "      <td>Angebot</td>\n",
       "      <td>3600</td>\n",
       "      <td>test</td>\n",
       "      <td>kleinwagen</td>\n",
       "      <td>2008</td>\n",
       "      <td>manuell</td>\n",
       "      <td>69</td>\n",
       "      <td>...</td>\n",
       "      <td>7</td>\n",
       "      <td>diesel</td>\n",
       "      <td>skoda</td>\n",
       "      <td>nein</td>\n",
       "      <td>2016-03-31</td>\n",
       "      <td>0</td>\n",
       "      <td>60437</td>\n",
       "      <td>2016-04-06 10:17:21</td>\n",
       "      <td>6 days 10:17:21</td>\n",
       "      <td>154.289167</td>\n",
       "    </tr>\n",
       "    <tr>\n",
       "      <th>5</th>\n",
       "      <td>2016-04-04 17:36:23</td>\n",
       "      <td>BMW_316i___e36_Limousine___Bastlerfahrzeug__Ex...</td>\n",
       "      <td>privat</td>\n",
       "      <td>Angebot</td>\n",
       "      <td>650</td>\n",
       "      <td>test</td>\n",
       "      <td>limousine</td>\n",
       "      <td>1995</td>\n",
       "      <td>manuell</td>\n",
       "      <td>102</td>\n",
       "      <td>...</td>\n",
       "      <td>10</td>\n",
       "      <td>benzin</td>\n",
       "      <td>bmw</td>\n",
       "      <td>ja</td>\n",
       "      <td>2016-04-04</td>\n",
       "      <td>0</td>\n",
       "      <td>33775</td>\n",
       "      <td>2016-04-06 19:17:07</td>\n",
       "      <td>2 days 19:17:07</td>\n",
       "      <td>67.285278</td>\n",
       "    </tr>\n",
       "    <tr>\n",
       "      <th>6</th>\n",
       "      <td>2016-04-01 20:48:51</td>\n",
       "      <td>Peugeot_206_CC_110_Platinum</td>\n",
       "      <td>privat</td>\n",
       "      <td>Angebot</td>\n",
       "      <td>2200</td>\n",
       "      <td>test</td>\n",
       "      <td>cabrio</td>\n",
       "      <td>2004</td>\n",
       "      <td>manuell</td>\n",
       "      <td>109</td>\n",
       "      <td>...</td>\n",
       "      <td>8</td>\n",
       "      <td>benzin</td>\n",
       "      <td>peugeot</td>\n",
       "      <td>nein</td>\n",
       "      <td>2016-04-01</td>\n",
       "      <td>0</td>\n",
       "      <td>67112</td>\n",
       "      <td>2016-04-05 18:18:39</td>\n",
       "      <td>4 days 18:18:39</td>\n",
       "      <td>114.310833</td>\n",
       "    </tr>\n",
       "  </tbody>\n",
       "</table>\n",
       "<p>5 rows × 22 columns</p>\n",
       "</div>"
      ],
      "text/plain": [
       "           dateCrawled                                               name  \\\n",
       "2  2016-03-14 12:52:21                     Jeep_Grand_Cherokee_\"Overland\"   \n",
       "3  2016-03-17 16:54:04                                 GOLF_4_1_4__3TÜRER   \n",
       "4  2016-03-31 17:25:20                     Skoda_Fabia_1.4_TDI_PD_Classic   \n",
       "5  2016-04-04 17:36:23  BMW_316i___e36_Limousine___Bastlerfahrzeug__Ex...   \n",
       "6  2016-04-01 20:48:51                        Peugeot_206_CC_110_Platinum   \n",
       "\n",
       "   seller offerType  price abtest vehicleType  yearOfRegistration    gearbox  \\\n",
       "2  privat   Angebot   9800   test         suv                2004  automatik   \n",
       "3  privat   Angebot   1500   test  kleinwagen                2001    manuell   \n",
       "4  privat   Angebot   3600   test  kleinwagen                2008    manuell   \n",
       "5  privat   Angebot    650   test   limousine                1995    manuell   \n",
       "6  privat   Angebot   2200   test      cabrio                2004    manuell   \n",
       "\n",
       "   powerPS        ...         monthOfRegistration  fuelType       brand  \\\n",
       "2      163        ...                           8    diesel        jeep   \n",
       "3       75        ...                           6    benzin  volkswagen   \n",
       "4       69        ...                           7    diesel       skoda   \n",
       "5      102        ...                          10    benzin         bmw   \n",
       "6      109        ...                           8    benzin     peugeot   \n",
       "\n",
       "  notRepairedDamage dateCreated nrOfPictures postalCode            lastSeen  \\\n",
       "2              nein  2016-03-14            0      90480 2016-04-05 12:47:46   \n",
       "3              nein  2016-03-17            0      91074 2016-03-17 17:40:17   \n",
       "4              nein  2016-03-31            0      60437 2016-04-06 10:17:21   \n",
       "5                ja  2016-04-04            0      33775 2016-04-06 19:17:07   \n",
       "6              nein  2016-04-01            0      67112 2016-04-05 18:18:39   \n",
       "\n",
       "            uptime total_hours_uptime  \n",
       "2 22 days 12:47:46         540.796111  \n",
       "3  0 days 17:40:17          17.671389  \n",
       "4  6 days 10:17:21         154.289167  \n",
       "5  2 days 19:17:07          67.285278  \n",
       "6  4 days 18:18:39         114.310833  \n",
       "\n",
       "[5 rows x 22 columns]"
      ]
     },
     "execution_count": 418,
     "metadata": {},
     "output_type": "execute_result"
    }
   ],
   "source": [
    "df['total_hours_uptime'] = df['uptime'].dt.total_seconds() / (60 * 60)\n",
    "df.head()"
   ]
  },
  {
   "cell_type": "code",
   "execution_count": 420,
   "metadata": {},
   "outputs": [],
   "source": [
    "df = df.drop(df[df.price > 150000].index)\n",
    "df = df.drop(df[df.price < 100].index)\n",
    "dfnt = df.drop(['total_hours_uptime', 'uptime'], axis =1 )"
   ]
  },
  {
   "cell_type": "code",
   "execution_count": 421,
   "metadata": {},
   "outputs": [],
   "source": [
    "df = df.drop(['nrOfPictures', 'seller', 'postalCode', 'offerType', 'name', 'lastSeen', 'dateCreated', 'dateCrawled'], axis = 1)"
   ]
  },
  {
   "cell_type": "markdown",
   "metadata": {},
   "source": [
    "This is the big difference between the two preps, I'll be using dummies instead of scalar values this time. "
   ]
  },
  {
   "cell_type": "code",
   "execution_count": 90,
   "metadata": {
    "scrolled": true
   },
   "outputs": [
    {
     "data": {
      "text/plain": [
       "(293758, 319)"
      ]
     },
     "execution_count": 90,
     "metadata": {},
     "output_type": "execute_result"
    }
   ],
   "source": [
    "dfm = pd.get_dummies(df)\n",
    "dfm.shape"
   ]
  },
  {
   "cell_type": "code",
   "execution_count": 422,
   "metadata": {
    "scrolled": true
   },
   "outputs": [
    {
     "data": {
      "image/png": "[encoded data removed]",
      "text/plain": [
       "<Figure size 432x288 with 1 Axes>"
      ]
     },
     "metadata": {},
     "output_type": "display_data"
    }
   ],
   "source": [
    "sns.set_style(\"whitegrid\")\n",
    "ax = sns.violinplot(x=\"notRepairedDamage\", y=\"price\", data=df)\n",
    "ax.set(ylim=(0, 20000))\n",
    "ax.set_title('Distribution of prices in cars with unrepaired damage and all damage repaired respectively')\n",
    "sns.despine()\n"
   ]
  },
  {
   "cell_type": "code",
   "execution_count": 423,
   "metadata": {},
   "outputs": [
    {
     "data": {
      "text/html": [
       "<div>\n",
       "<style scoped>\n",
       "    .dataframe tbody tr th:only-of-type {\n",
       "        vertical-align: middle;\n",
       "    }\n",
       "\n",
       "    .dataframe tbody tr th {\n",
       "        vertical-align: top;\n",
       "    }\n",
       "\n",
       "    .dataframe thead th {\n",
       "        text-align: right;\n",
       "    }\n",
       "</style>\n",
       "<table border=\"1\" class=\"dataframe\">\n",
       "  <thead>\n",
       "    <tr style=\"text-align: right;\">\n",
       "      <th></th>\n",
       "      <th>price</th>\n",
       "      <th>abtest</th>\n",
       "      <th>vehicleType</th>\n",
       "      <th>yearOfRegistration</th>\n",
       "      <th>gearbox</th>\n",
       "      <th>powerPS</th>\n",
       "      <th>model</th>\n",
       "      <th>kilometer</th>\n",
       "      <th>monthOfRegistration</th>\n",
       "      <th>fuelType</th>\n",
       "      <th>brand</th>\n",
       "      <th>notRepairedDamage</th>\n",
       "      <th>uptime</th>\n",
       "      <th>total_hours_uptime</th>\n",
       "    </tr>\n",
       "  </thead>\n",
       "  <tbody>\n",
       "    <tr>\n",
       "      <th>2</th>\n",
       "      <td>9800</td>\n",
       "      <td>test</td>\n",
       "      <td>suv</td>\n",
       "      <td>2004</td>\n",
       "      <td>automatik</td>\n",
       "      <td>163</td>\n",
       "      <td>grand</td>\n",
       "      <td>125000</td>\n",
       "      <td>8</td>\n",
       "      <td>diesel</td>\n",
       "      <td>jeep</td>\n",
       "      <td>nein</td>\n",
       "      <td>22 days 12:47:46</td>\n",
       "      <td>540.796111</td>\n",
       "    </tr>\n",
       "    <tr>\n",
       "      <th>3</th>\n",
       "      <td>1500</td>\n",
       "      <td>test</td>\n",
       "      <td>kleinwagen</td>\n",
       "      <td>2001</td>\n",
       "      <td>manuell</td>\n",
       "      <td>75</td>\n",
       "      <td>golf</td>\n",
       "      <td>150000</td>\n",
       "      <td>6</td>\n",
       "      <td>benzin</td>\n",
       "      <td>volkswagen</td>\n",
       "      <td>nein</td>\n",
       "      <td>0 days 17:40:17</td>\n",
       "      <td>17.671389</td>\n",
       "    </tr>\n",
       "    <tr>\n",
       "      <th>4</th>\n",
       "      <td>3600</td>\n",
       "      <td>test</td>\n",
       "      <td>kleinwagen</td>\n",
       "      <td>2008</td>\n",
       "      <td>manuell</td>\n",
       "      <td>69</td>\n",
       "      <td>fabia</td>\n",
       "      <td>90000</td>\n",
       "      <td>7</td>\n",
       "      <td>diesel</td>\n",
       "      <td>skoda</td>\n",
       "      <td>nein</td>\n",
       "      <td>6 days 10:17:21</td>\n",
       "      <td>154.289167</td>\n",
       "    </tr>\n",
       "    <tr>\n",
       "      <th>5</th>\n",
       "      <td>650</td>\n",
       "      <td>test</td>\n",
       "      <td>limousine</td>\n",
       "      <td>1995</td>\n",
       "      <td>manuell</td>\n",
       "      <td>102</td>\n",
       "      <td>3er</td>\n",
       "      <td>150000</td>\n",
       "      <td>10</td>\n",
       "      <td>benzin</td>\n",
       "      <td>bmw</td>\n",
       "      <td>ja</td>\n",
       "      <td>2 days 19:17:07</td>\n",
       "      <td>67.285278</td>\n",
       "    </tr>\n",
       "    <tr>\n",
       "      <th>6</th>\n",
       "      <td>2200</td>\n",
       "      <td>test</td>\n",
       "      <td>cabrio</td>\n",
       "      <td>2004</td>\n",
       "      <td>manuell</td>\n",
       "      <td>109</td>\n",
       "      <td>2_reihe</td>\n",
       "      <td>150000</td>\n",
       "      <td>8</td>\n",
       "      <td>benzin</td>\n",
       "      <td>peugeot</td>\n",
       "      <td>nein</td>\n",
       "      <td>4 days 18:18:39</td>\n",
       "      <td>114.310833</td>\n",
       "    </tr>\n",
       "  </tbody>\n",
       "</table>\n",
       "</div>"
      ],
      "text/plain": [
       "   price abtest vehicleType  yearOfRegistration    gearbox  powerPS    model  \\\n",
       "2   9800   test         suv                2004  automatik      163    grand   \n",
       "3   1500   test  kleinwagen                2001    manuell       75     golf   \n",
       "4   3600   test  kleinwagen                2008    manuell       69    fabia   \n",
       "5    650   test   limousine                1995    manuell      102      3er   \n",
       "6   2200   test      cabrio                2004    manuell      109  2_reihe   \n",
       "\n",
       "   kilometer  monthOfRegistration fuelType       brand notRepairedDamage  \\\n",
       "2     125000                    8   diesel        jeep              nein   \n",
       "3     150000                    6   benzin  volkswagen              nein   \n",
       "4      90000                    7   diesel       skoda              nein   \n",
       "5     150000                   10   benzin         bmw                ja   \n",
       "6     150000                    8   benzin     peugeot              nein   \n",
       "\n",
       "            uptime  total_hours_uptime  \n",
       "2 22 days 12:47:46          540.796111  \n",
       "3  0 days 17:40:17           17.671389  \n",
       "4  6 days 10:17:21          154.289167  \n",
       "5  2 days 19:17:07           67.285278  \n",
       "6  4 days 18:18:39          114.310833  "
      ]
     },
     "execution_count": 423,
     "metadata": {},
     "output_type": "execute_result"
    }
   ],
   "source": [
    "df.head()"
   ]
  },
  {
   "cell_type": "code",
   "execution_count": 424,
   "metadata": {},
   "outputs": [],
   "source": [
    "dftime = dfm[(dfm.total_hours_uptime > 5) & (dfm.total_hours_uptime < 1000) ]"
   ]
  },
  {
   "cell_type": "code",
   "execution_count": 425,
   "metadata": {},
   "outputs": [
    {
     "data": {
      "text/plain": [
       "<matplotlib.axes._subplots.AxesSubplot at 0x247a51550f0>"
      ]
     },
     "execution_count": 425,
     "metadata": {},
     "output_type": "execute_result"
    },
    {
     "data": {
      "image/png": "[encoded data removed]",
      "text/plain": [
       "<Figure size 432x288 with 1 Axes>"
      ]
     },
     "metadata": {},
     "output_type": "display_data"
    }
   ],
   "source": [
    "dftime.total_hours_uptime.hist()"
   ]
  },
  {
   "cell_type": "code",
   "execution_count": 426,
   "metadata": {
    "scrolled": true
   },
   "outputs": [
    {
     "data": {
      "text/plain": [
       "<matplotlib.axes._subplots.AxesSubplot at 0x247a8c168d0>"
      ]
     },
     "execution_count": 426,
     "metadata": {},
     "output_type": "execute_result"
    },
    {
     "data": {
      "image/png": "[encoded data removed]",
      "text/plain": [
       "<Figure size 432x288 with 1 Axes>"
      ]
     },
     "metadata": {},
     "output_type": "display_data"
    }
   ],
   "source": [
    "\n",
    "np.log(dftime.total_hours_uptime).hist()"
   ]
  },
  {
   "cell_type": "code",
   "execution_count": 427,
   "metadata": {},
   "outputs": [
    {
     "name": "stderr",
     "output_type": "stream",
     "text": [
      "C:\\Users\\Ebel\\Anaconda3\\lib\\site-packages\\ipykernel_launcher.py:1: SettingWithCopyWarning: \n",
      "A value is trying to be set on a copy of a slice from a DataFrame.\n",
      "Try using .loc[row_indexer,col_indexer] = value instead\n",
      "\n",
      "See the caveats in the documentation: http://pandas.pydata.org/pandas-docs/stable/indexing.html#indexing-view-versus-copy\n",
      "  \"\"\"Entry point for launching an IPython kernel.\n"
     ]
    }
   ],
   "source": [
    "dftime['total_hours_uptime'] = np.log(dftime['total_hours_uptime'])"
   ]
  },
  {
   "cell_type": "code",
   "execution_count": 428,
   "metadata": {},
   "outputs": [
    {
     "data": {
      "text/plain": [
       "<matplotlib.axes._subplots.AxesSubplot at 0x247963a5e80>"
      ]
     },
     "execution_count": 428,
     "metadata": {},
     "output_type": "execute_result"
    },
    {
     "data": {
      "image/png": "[encoded data removed]",
      "text/plain": [
       "<Figure size 432x288 with 1 Axes>"
      ]
     },
     "metadata": {},
     "output_type": "display_data"
    }
   ],
   "source": [
    "dftime.total_hours_uptime.hist()"
   ]
  },
  {
   "cell_type": "code",
   "execution_count": 429,
   "metadata": {},
   "outputs": [
    {
     "data": {
      "text/plain": [
       "['price',\n",
       " 'yearOfRegistration',\n",
       " 'powerPS',\n",
       " 'kilometer',\n",
       " 'monthOfRegistration',\n",
       " 'High_sale',\n",
       " 'uptime',\n",
       " 'total_hours_uptime',\n",
       " 'abtest_control',\n",
       " 'abtest_test',\n",
       " 'vehicleType_andere',\n",
       " 'vehicleType_bus',\n",
       " 'vehicleType_cabrio',\n",
       " 'vehicleType_coupe',\n",
       " 'vehicleType_kleinwagen',\n",
       " 'vehicleType_kombi',\n",
       " 'vehicleType_limousine',\n",
       " 'vehicleType_suv',\n",
       " 'gearbox_automatik',\n",
       " 'gearbox_manuell',\n",
       " 'model_100',\n",
       " 'model_145',\n",
       " 'model_147',\n",
       " 'model_156',\n",
       " 'model_159',\n",
       " 'model_1_reihe',\n",
       " 'model_1er',\n",
       " 'model_200',\n",
       " 'model_2_reihe',\n",
       " 'model_300c',\n",
       " 'model_3_reihe',\n",
       " 'model_3er',\n",
       " 'model_4_reihe',\n",
       " 'model_500',\n",
       " 'model_5_reihe',\n",
       " 'model_5er',\n",
       " 'model_601',\n",
       " 'model_6_reihe',\n",
       " 'model_6er',\n",
       " 'model_7er',\n",
       " 'model_80',\n",
       " 'model_850',\n",
       " 'model_90',\n",
       " 'model_900',\n",
       " 'model_9000',\n",
       " 'model_911',\n",
       " 'model_a1',\n",
       " 'model_a2',\n",
       " 'model_a3',\n",
       " 'model_a4',\n",
       " 'model_a5',\n",
       " 'model_a6',\n",
       " 'model_a8',\n",
       " 'model_a_klasse',\n",
       " 'model_accord',\n",
       " 'model_agila',\n",
       " 'model_alhambra',\n",
       " 'model_almera',\n",
       " 'model_altea',\n",
       " 'model_amarok',\n",
       " 'model_andere',\n",
       " 'model_antara',\n",
       " 'model_arosa',\n",
       " 'model_astra',\n",
       " 'model_auris',\n",
       " 'model_avensis',\n",
       " 'model_aveo',\n",
       " 'model_aygo',\n",
       " 'model_b_klasse',\n",
       " 'model_b_max',\n",
       " 'model_beetle',\n",
       " 'model_berlingo',\n",
       " 'model_bora',\n",
       " 'model_boxster',\n",
       " 'model_bravo',\n",
       " 'model_c1',\n",
       " 'model_c2',\n",
       " 'model_c3',\n",
       " 'model_c4',\n",
       " 'model_c5',\n",
       " 'model_c_klasse',\n",
       " 'model_c_max',\n",
       " 'model_c_reihe',\n",
       " 'model_caddy',\n",
       " 'model_calibra',\n",
       " 'model_captiva',\n",
       " 'model_carisma',\n",
       " 'model_carnival',\n",
       " 'model_cayenne',\n",
       " 'model_cc',\n",
       " 'model_ceed',\n",
       " 'model_charade',\n",
       " 'model_cherokee',\n",
       " 'model_citigo',\n",
       " 'model_civic',\n",
       " 'model_cl',\n",
       " 'model_clio',\n",
       " 'model_clk',\n",
       " 'model_clubman',\n",
       " 'model_colt',\n",
       " 'model_combo',\n",
       " 'model_cooper',\n",
       " 'model_cordoba',\n",
       " 'model_corolla',\n",
       " 'model_corsa',\n",
       " 'model_cr_reihe',\n",
       " 'model_croma',\n",
       " 'model_crossfire',\n",
       " 'model_cuore',\n",
       " 'model_cx_reihe',\n",
       " 'model_defender',\n",
       " 'model_delta',\n",
       " 'model_discovery',\n",
       " 'model_discovery_sport',\n",
       " 'model_doblo',\n",
       " 'model_ducato',\n",
       " 'model_duster',\n",
       " 'model_e_klasse',\n",
       " 'model_elefantino',\n",
       " 'model_eos',\n",
       " 'model_escort',\n",
       " 'model_espace',\n",
       " 'model_exeo',\n",
       " 'model_fabia',\n",
       " 'model_fiesta',\n",
       " 'model_focus',\n",
       " 'model_forester',\n",
       " 'model_forfour',\n",
       " 'model_fortwo',\n",
       " 'model_fox',\n",
       " 'model_freelander',\n",
       " 'model_fusion',\n",
       " 'model_g_klasse',\n",
       " 'model_galant',\n",
       " 'model_galaxy',\n",
       " 'model_getz',\n",
       " 'model_gl',\n",
       " 'model_glk',\n",
       " 'model_golf',\n",
       " 'model_grand',\n",
       " 'model_i3',\n",
       " 'model_i_reihe',\n",
       " 'model_ibiza',\n",
       " 'model_impreza',\n",
       " 'model_insignia',\n",
       " 'model_jazz',\n",
       " 'model_jetta',\n",
       " 'model_jimny',\n",
       " 'model_juke',\n",
       " 'model_justy',\n",
       " 'model_ka',\n",
       " 'model_kadett',\n",
       " 'model_kaefer',\n",
       " 'model_kalina',\n",
       " 'model_kalos',\n",
       " 'model_kangoo',\n",
       " 'model_kappa',\n",
       " 'model_kuga',\n",
       " 'model_laguna',\n",
       " 'model_lancer',\n",
       " 'model_lanos',\n",
       " 'model_legacy',\n",
       " 'model_leon',\n",
       " 'model_lodgy',\n",
       " 'model_logan',\n",
       " 'model_lupo',\n",
       " 'model_lybra',\n",
       " 'model_m_klasse',\n",
       " 'model_m_reihe',\n",
       " 'model_materia',\n",
       " 'model_matiz',\n",
       " 'model_megane',\n",
       " 'model_meriva',\n",
       " 'model_micra',\n",
       " 'model_mii',\n",
       " 'model_modus',\n",
       " 'model_mondeo',\n",
       " 'model_move',\n",
       " 'model_musa',\n",
       " 'model_mustang',\n",
       " 'model_mx_reihe',\n",
       " 'model_navara',\n",
       " 'model_niva',\n",
       " 'model_note',\n",
       " 'model_nubira',\n",
       " 'model_octavia',\n",
       " 'model_omega',\n",
       " 'model_one',\n",
       " 'model_outlander',\n",
       " 'model_pajero',\n",
       " 'model_panda',\n",
       " 'model_passat',\n",
       " 'model_phaeton',\n",
       " 'model_picanto',\n",
       " 'model_polo',\n",
       " 'model_primera',\n",
       " 'model_ptcruiser',\n",
       " 'model_punto',\n",
       " 'model_q3',\n",
       " 'model_q5',\n",
       " 'model_q7',\n",
       " 'model_qashqai',\n",
       " 'model_r19',\n",
       " 'model_range_rover',\n",
       " 'model_range_rover_evoque',\n",
       " 'model_range_rover_sport',\n",
       " 'model_rangerover',\n",
       " 'model_rav',\n",
       " 'model_rio',\n",
       " 'model_roadster',\n",
       " 'model_roomster',\n",
       " 'model_rx_reihe',\n",
       " 'model_s60',\n",
       " 'model_s_klasse',\n",
       " 'model_s_max',\n",
       " 'model_s_type',\n",
       " 'model_samara',\n",
       " 'model_sandero',\n",
       " 'model_santa',\n",
       " 'model_scenic',\n",
       " 'model_scirocco',\n",
       " 'model_seicento',\n",
       " 'model_serie_1',\n",
       " 'model_serie_2',\n",
       " 'model_serie_3',\n",
       " 'model_sharan',\n",
       " 'model_signum',\n",
       " 'model_sirion',\n",
       " 'model_sl',\n",
       " 'model_slk',\n",
       " 'model_sorento',\n",
       " 'model_spark',\n",
       " 'model_spider',\n",
       " 'model_sportage',\n",
       " 'model_sprinter',\n",
       " 'model_stilo',\n",
       " 'model_superb',\n",
       " 'model_swift',\n",
       " 'model_terios',\n",
       " 'model_tigra',\n",
       " 'model_tiguan',\n",
       " 'model_toledo',\n",
       " 'model_touareg',\n",
       " 'model_touran',\n",
       " 'model_transit',\n",
       " 'model_transporter',\n",
       " 'model_tt',\n",
       " 'model_tucson',\n",
       " 'model_twingo',\n",
       " 'model_up',\n",
       " 'model_v40',\n",
       " 'model_v50',\n",
       " 'model_v60',\n",
       " 'model_v70',\n",
       " 'model_v_klasse',\n",
       " 'model_vectra',\n",
       " 'model_verso',\n",
       " 'model_viano',\n",
       " 'model_vito',\n",
       " 'model_vivaro',\n",
       " 'model_voyager',\n",
       " 'model_wrangler',\n",
       " 'model_x_reihe',\n",
       " 'model_x_trail',\n",
       " 'model_x_type',\n",
       " 'model_xc_reihe',\n",
       " 'model_yaris',\n",
       " 'model_yeti',\n",
       " 'model_ypsilon',\n",
       " 'model_z_reihe',\n",
       " 'model_zafira',\n",
       " 'fuelType_andere',\n",
       " 'fuelType_benzin',\n",
       " 'fuelType_cng',\n",
       " 'fuelType_diesel',\n",
       " 'fuelType_elektro',\n",
       " 'fuelType_hybrid',\n",
       " 'fuelType_lpg',\n",
       " 'brand_alfa_romeo',\n",
       " 'brand_audi',\n",
       " 'brand_bmw',\n",
       " 'brand_chevrolet',\n",
       " 'brand_chrysler',\n",
       " 'brand_citroen',\n",
       " 'brand_dacia',\n",
       " 'brand_daewoo',\n",
       " 'brand_daihatsu',\n",
       " 'brand_fiat',\n",
       " 'brand_ford',\n",
       " 'brand_honda',\n",
       " 'brand_hyundai',\n",
       " 'brand_jaguar',\n",
       " 'brand_jeep',\n",
       " 'brand_kia',\n",
       " 'brand_lada',\n",
       " 'brand_lancia',\n",
       " 'brand_land_rover',\n",
       " 'brand_mazda',\n",
       " 'brand_mercedes_benz',\n",
       " 'brand_mini',\n",
       " 'brand_mitsubishi',\n",
       " 'brand_nissan',\n",
       " 'brand_opel',\n",
       " 'brand_peugeot',\n",
       " 'brand_porsche',\n",
       " 'brand_renault',\n",
       " 'brand_rover',\n",
       " 'brand_saab',\n",
       " 'brand_seat',\n",
       " 'brand_skoda',\n",
       " 'brand_smart',\n",
       " 'brand_subaru',\n",
       " 'brand_suzuki',\n",
       " 'brand_toyota',\n",
       " 'brand_trabant',\n",
       " 'brand_volkswagen',\n",
       " 'brand_volvo',\n",
       " 'notRepairedDamage_ja',\n",
       " 'notRepairedDamage_nein']"
      ]
     },
     "execution_count": 429,
     "metadata": {},
     "output_type": "execute_result"
    }
   ],
   "source": [
    "list(dftime)"
   ]
  },
  {
   "cell_type": "code",
   "execution_count": 434,
   "metadata": {},
   "outputs": [
    {
     "name": "stderr",
     "output_type": "stream",
     "text": [
      "C:\\Users\\Ebel\\Anaconda3\\lib\\site-packages\\ipykernel_launcher.py:1: SettingWithCopyWarning: \n",
      "A value is trying to be set on a copy of a slice from a DataFrame.\n",
      "Try using .loc[row_indexer,col_indexer] = value instead\n",
      "\n",
      "See the caveats in the documentation: http://pandas.pydata.org/pandas-docs/stable/indexing.html#indexing-view-versus-copy\n",
      "  \"\"\"Entry point for launching an IPython kernel.\n"
     ]
    },
    {
     "data": {
      "text/plain": [
       "0.4927859941551378"
      ]
     },
     "execution_count": 434,
     "metadata": {},
     "output_type": "execute_result"
    }
   ],
   "source": [
    "dftime['LongWait'] = np.where(dftime['total_hours_uptime'] > np.log(168), 1, 0)\n",
    "dftime['LongWait'].mean()"
   ]
  },
  {
   "cell_type": "code",
   "execution_count": 435,
   "metadata": {},
   "outputs": [
    {
     "name": "stdout",
     "output_type": "stream",
     "text": [
      "(234599,) (234599, 317) (58650, 317) (58650,)\n"
     ]
    }
   ],
   "source": [
    "\n",
    "\n",
    "\n",
    "dft = dftime.drop(['uptime', 'total_hours_uptime', 'LongWait'], axis = 1)\n",
    "\n",
    "x_train, x_test, y_train, y_test = train_test_split(dft, dftime['LongWait'], test_size=.20)\n",
    "y = y_train\n",
    "X = x_train\n",
    "print(y.shape, X.shape, x_test.shape, y_test.shape)"
   ]
  },
  {
   "cell_type": "code",
   "execution_count": null,
   "metadata": {},
   "outputs": [],
   "source": []
  },
  {
   "cell_type": "code",
   "execution_count": 442,
   "metadata": {},
   "outputs": [
    {
     "name": "stdout",
     "output_type": "stream",
     "text": [
      "Coefficients\n",
      "[[ 2.62998238e-05 -4.44093602e-05 -1.76867155e-05  7.49395629e-08\n",
      "  -3.94367704e-03  3.94532600e-01 -5.66674929e-02 -5.82729590e-02\n",
      "   7.20516288e-04 -8.67676612e-02 -8.60138296e-02  7.05538306e-03\n",
      "  -8.29105229e-02 -6.93660410e-02 -8.92447080e-02 -2.38594863e-01\n",
      "  -2.04215337e-02  2.58316202e-02  5.20609425e-01  3.18939515e-02\n",
      "  -6.60187000e-02  0.00000000e+00  4.94183849e-02  2.92196878e-02\n",
      "   5.78603689e-03  0.00000000e+00 -5.44672218e-02 -1.64312241e-01\n",
      "   1.11080737e-02  2.54747766e-02  1.73157612e-01 -2.26599234e-01\n",
      "   1.78524245e-01  1.91768549e-02  0.00000000e+00  1.50484337e-01\n",
      "  -3.01105698e-01  6.60440367e-02  6.39584070e-01  2.78567866e-01\n",
      "   1.22173714e+00  1.96576668e-01  8.45250414e-01 -7.38050112e-01\n",
      "   5.82999422e-01  2.07814912e-01  1.93786916e-01  2.28332499e-01\n",
      "  -4.30219981e-02  2.44524353e-01  1.36154494e-01  8.55599364e-03\n",
      "   0.00000000e+00 -1.14229132e-01 -3.03968280e-01  1.29159964e-01\n",
      "   1.78460195e-01  0.00000000e+00  7.58545063e-02  1.49444694e-01\n",
      "  -7.35211795e-04 -7.77428570e-02  3.04283623e-01 -6.16274630e-02\n",
      "   0.00000000e+00  0.00000000e+00 -1.14969267e-01 -3.15846704e-01\n",
      "  -2.49866186e-03 -2.63368259e-01  4.29391522e-02  6.61246387e-02\n",
      "  -1.45843627e-01 -1.21586599e-01 -2.42695448e-01  9.06277263e-03\n",
      "   1.78985643e-01  5.07081463e-04 -1.86876654e-02 -9.30767427e-02\n",
      "   4.50559973e-01 -2.42955842e-01  4.39138972e-01  0.00000000e+00\n",
      "   1.64695943e-01  3.96711080e-01  5.80056366e-01  0.00000000e+00\n",
      "   4.82018505e-02  5.83703994e-01  5.82470853e-02  1.99883794e-01\n",
      "   1.27590500e-01 -3.70144461e-01 -1.38698408e-01 -5.27992214e-02\n",
      "  -5.32674299e-03 -7.31594827e-02 -1.06442339e-01  0.00000000e+00\n",
      "   1.79698458e-01  2.01652241e-02 -1.57780862e-01  1.02258897e-01\n",
      "   0.00000000e+00  0.00000000e+00 -1.14010192e-02  1.76216548e-01\n",
      "  -1.47674387e-01  9.14415485e-02  2.11878796e-01  0.00000000e+00\n",
      "  -3.84477834e-02 -2.62892855e-01  1.21586591e-01  8.95439160e-02\n",
      "   3.62608284e-01  1.15789016e-01  1.81696002e-01  8.35173068e-02\n",
      "  -1.19803550e-04 -1.47637143e-01 -3.06023502e-01 -3.36903262e-01\n",
      "  -3.69645320e-01 -2.40810651e-01  4.16954591e-02 -1.63380193e-01\n",
      "   5.30679864e-02 -3.07648553e-01 -2.54143069e-01  2.36055689e-01\n",
      "  -4.44720306e-01 -5.72868704e-02 -2.50025188e-01  6.94001212e-02\n",
      "  -7.78977231e-02  1.04218874e-01  0.00000000e+00 -3.61948295e-02\n",
      "   6.82341290e-03  0.00000000e+00 -1.04593714e-01 -4.56800326e-01\n",
      "   1.01016163e-01  0.00000000e+00 -1.37227973e-01  2.50978263e-01\n",
      "  -3.27062806e-01  3.31737973e-01 -1.29187750e-01  0.00000000e+00\n",
      "   5.76787796e-02 -1.96644920e-01  9.50261194e-01 -1.23360798e-01\n",
      "  -4.31175014e-02  2.16519942e-01  0.00000000e+00  0.00000000e+00\n",
      "   2.16136187e-03  0.00000000e+00 -2.88542177e-01 -2.40306183e-02\n",
      "   2.31891644e-01 -1.47544396e-01 -4.12389196e-01  0.00000000e+00\n",
      "   0.00000000e+00 -1.07980966e-01 -3.45569863e-02  2.06549005e-02\n",
      "  -3.10435836e-01  0.00000000e+00 -2.32662849e-01  2.94446361e-02\n",
      "   6.82334750e-02 -5.47023050e-01 -2.14398144e-03  3.66233385e-01\n",
      "  -3.68447848e-02 -1.20581082e-01  2.43256001e-01 -5.84989791e-02\n",
      "   1.13931531e-01 -2.35721520e-02  4.66004061e-01 -5.70380727e-03\n",
      "  -1.85938872e-01 -2.06495022e-01 -1.64297905e-01  0.00000000e+00\n",
      "  -4.76697559e-02  8.27304919e-02 -1.84878611e-01 -3.23477812e-01\n",
      "   1.89219359e-01  9.34827743e-02 -3.29575515e-01  2.57020550e-01\n",
      "   6.70306053e-01  5.29740682e-01 -6.66491408e-01 -2.60165640e-01\n",
      "   0.00000000e+00 -4.59731628e-03 -4.26062381e-03  0.00000000e+00\n",
      "   0.00000000e+00  4.17938784e-01  0.00000000e+00 -4.10199071e-02\n",
      "  -2.90758227e-01  2.74336082e-01  5.49323550e-03 -3.21535007e-01\n",
      "   1.13337340e-02 -1.52874824e-01  1.03260146e-01 -2.00842822e-01\n",
      "   0.00000000e+00  0.00000000e+00  3.87767794e-01 -1.72060161e-01\n",
      "   9.12438127e-02  0.00000000e+00 -4.86156218e-01 -1.41840541e-01\n",
      "   1.71850404e-01  0.00000000e+00 -2.06990263e-01  2.43269195e-01\n",
      "  -1.80146554e-01 -1.78902479e-01  2.75252021e-01  2.76913359e-02\n",
      "  -2.65273616e-01  9.75603325e-02  1.09083835e-01  1.44668957e-01\n",
      "  -1.35046389e-01 -3.80506865e-01 -3.75532666e-01 -2.02385461e-01\n",
      "   1.00739084e-01 -1.98350554e-01 -1.05668105e-01  2.23303483e-01\n",
      "   1.91049587e-01  0.00000000e+00  1.29941616e-01  3.74850226e-02\n",
      "  -9.17692107e-02 -5.82243863e-02 -3.98434711e-02 -6.43052636e-01\n",
      "  -6.18368233e-03 -4.64518905e-01  0.00000000e+00 -4.22062889e-01\n",
      "  -1.06199359e-01  0.00000000e+00  4.79271702e-01 -2.28077063e-01\n",
      "   5.15773546e-02  2.16072536e-01  0.00000000e+00 -1.98791592e-01\n",
      "  -3.76762278e-01  5.88112481e-01  7.16099838e-03  3.62991360e-01\n",
      "  -1.49310737e-01  6.60560977e-01 -5.72266021e-02  1.10579123e-01\n",
      "   2.48224275e-01 -3.39486765e-01 -1.45744772e-01  3.36618221e-02\n",
      "   6.36222370e-02  4.46453856e-02  0.00000000e+00  0.00000000e+00\n",
      "   5.75759383e-02  1.68170230e-01  1.87424925e-01 -3.67348992e-03\n",
      "  -9.04125356e-03 -2.54165236e-01 -5.36882878e-04 -1.54284318e-01\n",
      "   1.94002873e-01  2.70131620e-01  0.00000000e+00 -9.75263850e-02\n",
      "  -1.10755192e-01 -1.35688788e-02  2.09198989e-02 -1.49412547e-01\n",
      "  -1.06680824e-02 -4.99430457e-02 -7.71129669e-01  7.37001384e-02\n",
      "   2.13931985e-02  1.18931065e-01  0.00000000e+00 -7.92028987e-02\n",
      "  -9.73555032e-03  2.98692455e-01 -8.06107692e-02 -1.79323097e-01\n",
      "   3.91254812e-01 -2.92074161e-02  1.84224798e-02 -1.35239875e-01\n",
      "  -1.51615052e-04]]\n",
      "[-0.00828327]\n",
      "['price', 'yearOfRegistration', 'powerPS', 'kilometer', 'monthOfRegistration', 'High_sale', 'abtest_control', 'abtest_test', 'vehicleType_andere', 'vehicleType_bus', 'vehicleType_cabrio', 'vehicleType_coupe', 'vehicleType_kleinwagen', 'vehicleType_kombi', 'vehicleType_limousine', 'vehicleType_suv', 'gearbox_automatik', 'gearbox_manuell', 'model_100', 'model_145', 'model_147', 'model_156', 'model_159', 'model_1_reihe', 'model_1er', 'model_200', 'model_2_reihe', 'model_300c', 'model_3_reihe', 'model_3er', 'model_4_reihe', 'model_500', 'model_5_reihe', 'model_5er', 'model_601', 'model_6_reihe', 'model_6er', 'model_7er', 'model_80', 'model_850', 'model_90', 'model_900', 'model_9000', 'model_911', 'model_a1', 'model_a2', 'model_a3', 'model_a4', 'model_a5', 'model_a6', 'model_a8', 'model_a_klasse', 'model_accord', 'model_agila', 'model_alhambra', 'model_almera', 'model_altea', 'model_amarok', 'model_andere', 'model_antara', 'model_arosa', 'model_astra', 'model_auris', 'model_avensis', 'model_aveo', 'model_aygo', 'model_b_klasse', 'model_b_max', 'model_beetle', 'model_berlingo', 'model_bora', 'model_boxster', 'model_bravo', 'model_c1', 'model_c2', 'model_c3', 'model_c4', 'model_c5', 'model_c_klasse', 'model_c_max', 'model_c_reihe', 'model_caddy', 'model_calibra', 'model_captiva', 'model_carisma', 'model_carnival', 'model_cayenne', 'model_cc', 'model_ceed', 'model_charade', 'model_cherokee', 'model_citigo', 'model_civic', 'model_cl', 'model_clio', 'model_clk', 'model_clubman', 'model_colt', 'model_combo', 'model_cooper', 'model_cordoba', 'model_corolla', 'model_corsa', 'model_cr_reihe', 'model_croma', 'model_crossfire', 'model_cuore', 'model_cx_reihe', 'model_defender', 'model_delta', 'model_discovery', 'model_discovery_sport', 'model_doblo', 'model_ducato', 'model_duster', 'model_e_klasse', 'model_elefantino', 'model_eos', 'model_escort', 'model_espace', 'model_exeo', 'model_fabia', 'model_fiesta', 'model_focus', 'model_forester', 'model_forfour', 'model_fortwo', 'model_fox', 'model_freelander', 'model_fusion', 'model_g_klasse', 'model_galant', 'model_galaxy', 'model_getz', 'model_gl', 'model_glk', 'model_golf', 'model_grand', 'model_i3', 'model_i_reihe', 'model_ibiza', 'model_impreza', 'model_insignia', 'model_jazz', 'model_jetta', 'model_jimny', 'model_juke', 'model_justy', 'model_ka', 'model_kadett', 'model_kaefer', 'model_kalina', 'model_kalos', 'model_kangoo', 'model_kappa', 'model_kuga', 'model_laguna', 'model_lancer', 'model_lanos', 'model_legacy', 'model_leon', 'model_lodgy', 'model_logan', 'model_lupo', 'model_lybra', 'model_m_klasse', 'model_m_reihe', 'model_materia', 'model_matiz', 'model_megane', 'model_meriva', 'model_micra', 'model_mii', 'model_modus', 'model_mondeo', 'model_move', 'model_musa', 'model_mustang', 'model_mx_reihe', 'model_navara', 'model_niva', 'model_note', 'model_nubira', 'model_octavia', 'model_omega', 'model_one', 'model_outlander', 'model_pajero', 'model_panda', 'model_passat', 'model_phaeton', 'model_picanto', 'model_polo', 'model_primera', 'model_ptcruiser', 'model_punto', 'model_q3', 'model_q5', 'model_q7', 'model_qashqai', 'model_r19', 'model_range_rover', 'model_range_rover_evoque', 'model_range_rover_sport', 'model_rangerover', 'model_rav', 'model_rio', 'model_roadster', 'model_roomster', 'model_rx_reihe', 'model_s60', 'model_s_klasse', 'model_s_max', 'model_s_type', 'model_samara', 'model_sandero', 'model_santa', 'model_scenic', 'model_scirocco', 'model_seicento', 'model_serie_1', 'model_serie_2', 'model_serie_3', 'model_sharan', 'model_signum', 'model_sirion', 'model_sl', 'model_slk', 'model_sorento', 'model_spark', 'model_spider', 'model_sportage', 'model_sprinter', 'model_stilo', 'model_superb', 'model_swift', 'model_terios', 'model_tigra', 'model_tiguan', 'model_toledo', 'model_touareg', 'model_touran', 'model_transit', 'model_transporter', 'model_tt', 'model_tucson', 'model_twingo', 'model_up', 'model_v40', 'model_v50', 'model_v60', 'model_v70', 'model_v_klasse', 'model_vectra', 'model_verso', 'model_viano', 'model_vito', 'model_vivaro', 'model_voyager', 'model_wrangler', 'model_x_reihe', 'model_x_trail', 'model_x_type', 'model_xc_reihe', 'model_yaris', 'model_yeti', 'model_ypsilon', 'model_z_reihe', 'model_zafira', 'fuelType_andere', 'fuelType_benzin', 'fuelType_cng', 'fuelType_diesel', 'fuelType_elektro', 'fuelType_hybrid', 'fuelType_lpg', 'brand_alfa_romeo', 'brand_audi', 'brand_bmw', 'brand_chevrolet', 'brand_chrysler', 'brand_citroen', 'brand_dacia', 'brand_daewoo', 'brand_daihatsu', 'brand_fiat', 'brand_ford', 'brand_honda', 'brand_hyundai', 'brand_jaguar', 'brand_jeep', 'brand_kia', 'brand_lada', 'brand_lancia', 'brand_land_rover', 'brand_mazda', 'brand_mercedes_benz', 'brand_mini', 'brand_mitsubishi', 'brand_nissan', 'brand_opel', 'brand_peugeot', 'brand_porsche', 'brand_renault', 'brand_rover', 'brand_saab', 'brand_seat', 'brand_skoda', 'brand_smart', 'brand_subaru', 'brand_suzuki', 'brand_toyota', 'brand_trabant', 'brand_volkswagen', 'brand_volvo', 'notRepairedDamage_ja', 'notRepairedDamage_nein']\n",
      "\n",
      " Accuracy by wait status\n",
      "LongWait      0      1\n",
      "row_0                 \n",
      "0         72919  53708\n",
      "1         45943  62029\n",
      "\n",
      " Percentage accuracy\n"
     ]
    },
    {
     "name": "stdout",
     "output_type": "stream",
     "text": [
      "0.5752582065567202\n"
     ]
    }
   ],
   "source": [
    "# Declare a logistic regression classifier.\n",
    "# Parameter regularization coefficient C described above.\n",
    "lrl = linear_model.LogisticRegression(penalty = 'l1', C=1)\n",
    "y = y_train\n",
    "X = x_train\n",
    "\n",
    "# Fit the model.\n",
    "fit = lrl.fit(X, y)\n",
    "\n",
    "# Display.\n",
    "print('Coefficients')\n",
    "print(fit.coef_)\n",
    "print(fit.intercept_)\n",
    "pred_y_sklearn = lr.predict(X)\n",
    "\n",
    "print(list(dft))\n",
    "\n",
    "print('\\n Accuracy by wait status')\n",
    "print(pd.crosstab(pred_y_sklearn, y))\n",
    "\n",
    "print('\\n Percentage accuracy')\n",
    "print(lrl.score(X, y))"
   ]
  },
  {
   "cell_type": "code",
   "execution_count": 440,
   "metadata": {},
   "outputs": [
    {
     "name": "stdout",
     "output_type": "stream",
     "text": [
      "Coefficients\n",
      "[[ 2.64773910e-05 -6.86706628e-05 -1.73137488e-05  8.66099485e-08\n",
      "  -3.90669004e-03  3.95070076e-01 -3.80201520e-02 -3.97581389e-02\n",
      "   1.08765359e-01  2.35361557e-02  1.73988518e-02  1.09117972e-01\n",
      "   2.22222895e-02  3.30682381e-02  1.22867476e-02 -1.38759451e-01\n",
      "  -4.18629823e-02  4.84429885e-03  5.68124646e-01  1.61789806e-01\n",
      "  -7.27269277e-02  5.91947486e-03  7.28891057e-02  5.43703786e-02\n",
      "  -9.69147104e-03 -7.11261280e-02 -3.38114259e-02 -2.03361982e-01\n",
      "   3.62078651e-02  8.79946720e-03  2.04037714e-01 -2.52597062e-01\n",
      "   2.06587622e-01  2.58999178e-03 -5.90015109e-02  1.79544241e-01\n",
      "  -3.38877640e-01  5.37728211e-02  6.78443110e-01  3.17313712e-01\n",
      "   1.32012820e+00  2.60239217e-01  1.10555261e+00 -7.16476024e-01\n",
      "   6.22234051e-01  2.52613951e-01  2.28772851e-01  2.63226274e-01\n",
      "  -1.51697868e-02  2.79519562e-01  1.79259407e-01  2.23407920e-03\n",
      "   4.64343796e-02 -1.25228571e-01 -2.91313170e-01  1.62044700e-01\n",
      "   2.18666950e-01  7.76122272e-02  8.16359478e-02  2.00131024e-01\n",
      "   2.23435929e-02 -7.50938050e-02  3.37431761e-01 -6.08256667e-02\n",
      "   0.00000000e+00  3.83574661e-03 -1.34936434e-01 -5.29218765e-01\n",
      "  -1.07025842e-02 -2.69693455e-01  4.68184127e-02  1.09602786e-01\n",
      "  -1.81433108e-01 -1.29660813e-01 -2.51745567e-01  2.19003889e-02\n",
      "   1.92886261e-01  1.55472884e-02 -2.65973232e-02 -1.40775160e-01\n",
      "   4.90696969e-01 -2.53129930e-01  4.69141720e-01 -1.45835720e-02\n",
      "   1.93575817e-01  4.42122433e-01  6.26813896e-01 -9.16210974e-04\n",
      "   1.00793592e-01  7.79101321e-01  1.24156644e-01  3.03722906e-01\n",
      "   1.77272035e-01 -3.93899002e-01 -1.53091297e-01 -6.33936169e-02\n",
      "  -9.18961801e-03 -6.42585474e-02 -1.21478859e-01  1.90419020e-02\n",
      "   2.27488744e-01  3.58894257e-02 -1.57094797e-01  1.62550261e-01\n",
      "  -1.11652115e-01  0.00000000e+00 -5.23194097e-02  2.42790037e-01\n",
      "  -1.25171168e-01  5.06659536e-01  3.15004935e-01  3.80427321e-01\n",
      "  -7.98250019e-02 -3.00542031e-01  2.02445928e-01  8.24981907e-02\n",
      "   1.33654153e+00  1.20101024e-01  1.54650905e-01  7.41637495e-02\n",
      "  -8.52211740e-03 -9.13949582e-02 -3.42788055e-01 -3.71410606e-01\n",
      "  -4.05119157e-01 -1.82485408e-01  1.14913877e-01 -1.74061812e-01\n",
      "   1.31406679e-01 -3.59486942e-01 -2.90215345e-01  2.73273604e-01\n",
      "  -4.90620855e-01 -6.60011178e-02 -3.38239507e-01  8.07753715e-02\n",
      "  -8.06580852e-02  1.33841184e-01  3.80757111e-02 -3.57852569e-02\n",
      "   4.06935830e-02  0.00000000e+00 -1.09139139e-01 -4.28598592e-01\n",
      "   1.14276226e-01  4.28581923e-02 -1.54866483e-01  2.85950617e-01\n",
      "  -3.64680971e-01  3.52994798e-01 -1.46957876e-01  1.55771768e-01\n",
      "   1.61139430e-01 -2.19626080e-01  1.57729021e+00 -1.67944625e-01\n",
      "  -5.69903212e-02  2.54295631e-01  7.36137649e-03  2.10685935e-02\n",
      "   3.97944478e-02  9.37931843e-02 -2.46065554e-01 -3.04423594e-02\n",
      "   5.56616663e-01 -1.58006978e-01 -4.46741026e-01 -5.02435319e-02\n",
      "   3.18575883e-02 -1.20672703e-01 -4.27945507e-02  4.70689002e-02\n",
      "  -3.32406667e-01 -1.22506060e-02 -2.67388940e-01  1.23416458e-01\n",
      "   5.32116118e-01 -6.01427967e-01  1.49648168e-02  4.39329311e-01\n",
      "  -1.27593450e-01 -1.37716439e-01  3.81459463e-01 -1.55857145e-03\n",
      "   1.21654103e-01 -1.06295980e-02  5.20559803e-01 -1.03059819e-02\n",
      "  -2.14018494e-01 -2.09178615e-01 -1.86266966e-01  2.52342458e-02\n",
      "  -5.23479381e-02  1.17788682e-01 -2.07266095e-01 -3.46094931e-01\n",
      "   2.40089259e-01  1.35877177e-01 -3.09046953e-01  2.91235657e-01\n",
      "   7.11523681e-01  6.44262565e-01 -6.74504062e-01 -2.44387164e-01\n",
      "   0.00000000e+00 -5.84689962e-03  7.95252641e-03  6.78134571e-02\n",
      "   6.59461163e-02  4.75284401e-01 -2.19757671e-03 -5.38640649e-02\n",
      "  -3.42924631e-01  3.64990707e-01  7.98486465e-01 -2.81977887e-01\n",
      "   3.17261645e-02 -1.73677384e-01  1.08240338e-01 -2.29884799e-01\n",
      "  -1.47817835e+00 -1.37566572e-01  2.39832299e+00 -1.85270971e-01\n",
      "   1.04382041e-01 -1.44861772e-02 -5.04491796e-01 -1.54544185e-01\n",
      "   2.21417636e-01  0.00000000e+00 -2.31309624e-01  2.94457277e-01\n",
      "  -2.01718127e-01 -2.05678268e-01  3.46106603e-01  5.33905051e-02\n",
      "  -4.16352629e-01  1.06415162e-01  1.12608250e-01  1.96112639e-01\n",
      "  -1.42668225e-01 -3.92152997e-01 -4.23278972e-01 -2.14324943e-01\n",
      "   1.37091835e-01 -2.12154203e-01 -1.19628087e-01  2.31478803e-01\n",
      "   2.14571301e-01  0.00000000e+00  2.58855888e-01  6.06962763e-02\n",
      "  -1.35844083e-01 -5.55251868e-02 -5.31238628e-02 -6.71451957e-01\n",
      "  -2.67652118e-02 -4.83486173e-01  2.18124239e-03 -4.13356658e-01\n",
      "  -1.24973626e-01  7.29067256e-03  5.62711252e-01 -2.23475174e-01\n",
      "   6.28098802e-02  2.98563276e-01  2.41979406e-01 -2.22651926e-01\n",
      "  -3.83431562e-01  6.46088134e-01  1.65953504e-02  3.82723125e-01\n",
      "  -1.40071401e-01  7.51817978e-01 -7.03806992e-02  1.20532820e-01\n",
      "   3.03840249e-01 -3.17408387e-01 -7.26320643e-02  8.46272659e-02\n",
      "   1.25803514e-01  9.55264051e-02  1.34505736e-04 -1.27028979e-04\n",
      "   1.39609551e-01  2.43803579e-01  2.78209356e-01  7.84056439e-03\n",
      "   4.29000162e-02 -2.51294429e-01  2.09180259e-02 -1.32286672e-01\n",
      "   3.07727902e-01  9.95175259e-02  0.00000000e+00 -6.56018999e-02\n",
      "  -4.64846435e-02  2.26318846e-02  6.26185760e-02 -1.18117544e-01\n",
      "   4.31325355e-02 -1.61388563e-02 -7.50635023e-01  1.41408054e-01\n",
      "   8.36354657e-02  1.57802964e-01  2.28130662e-02 -8.19862328e-02\n",
      "  -2.62586548e-02  3.58818483e-01 -4.46711284e-02 -1.31418495e-01\n",
      "   5.08459827e-01  2.99073128e-02  5.85638759e-02 -1.64458651e-01\n",
      "  -2.88863872e-02]]\n",
      "[-0.09976056]\n",
      "\n",
      " Accuracy by sale status\n",
      "LongWait      0      1\n",
      "row_0                 \n",
      "0         72919  53708\n",
      "1         45943  62029\n",
      "\n",
      " Percentage accuracy\n",
      "0.5753732965613664\n"
     ]
    }
   ],
   "source": [
    "# Declare a logistic regression classifier.\n",
    "# Parameter regularization coefficient C described above.\n",
    "lrr = linear_model.LogisticRegression(penalty = 'l1', C = 5)\n",
    "\n",
    "# Fit the model.\n",
    "fit = lrr.fit(X, y)\n",
    "\n",
    "# Display.\n",
    "print('Coefficients')\n",
    "print(fit.coef_)\n",
    "print(fit.intercept_)\n",
    "pred_y_sklearn = lr.predict(X)\n",
    "\n",
    "print('\\n Accuracy by wait status status')\n",
    "print(pd.crosstab(pred_y_sklearn, y))\n",
    "\n",
    "print('\\n Percentage accuracy')\n",
    "print(lrr.score(X, y))"
   ]
  },
  {
   "cell_type": "markdown",
   "metadata": {},
   "source": [
    "Well these aren't encouraging, the only thing left is to see if different regularization strengths can give better delivery. "
   ]
  },
  {
   "cell_type": "code",
   "execution_count": 446,
   "metadata": {},
   "outputs": [
    {
     "data": {
      "image/png": "[encoded data removed]",
      "text/plain": [
       "<Figure size 432x288 with 1 Axes>"
      ]
     },
     "metadata": {},
     "output_type": "display_data"
    }
   ],
   "source": [
    "#Creating the lists to pull the values. X_test2 throws up a shape error on the lasso regression,\n",
    "#So I'll leave it off for the test. The regression was trained on the same stuff, so hopefully that won't effect\n",
    "#the results to much. \n",
    "lrr.fit(X, y)\n",
    "lrl.fit(X, y)\n",
    "estimates = np.append([0], lrr.score(X, y))\n",
    "lestimates = np.append([0], lrl.score(X, y))\n",
    "\n",
    "\n",
    "# Store scores.\n",
    "score =[]\n",
    "# Storing legend information.\n",
    "labels = []\n",
    "\n",
    "#Run the model for many alphas for ridge regression\n",
    "for lambd in range(1, 99, 1):\n",
    "    a = 1/lambd\n",
    "    lrr = linear_model.LogisticRegression(penalty = 'l2', C=a, fit_intercept=False)\n",
    "    lrr.fit(X, y)\n",
    "    rscore = lrr.score(X, y)\n",
    "    estimates = np.row_stack((\n",
    "        estimates,\n",
    "        np.append([lambd], rscore)))\n",
    "\n",
    "#Running it again for lasso regression\n",
    "for lambd in range(1, 99, 1):\n",
    "    #Lasso regression goes on a scale from 0 to 1, so I'm going to adjust alphas accordingly. \n",
    "    a = 1/lambd\n",
    "    lrl = linear_model.LogisticRegression(penalty = 'l1', C=a, fit_intercept=False)\n",
    "    lrl.fit(X, y)\n",
    "    lscore = lrl.score(X, y)\n",
    "    lestimates = np.row_stack((\n",
    "        lestimates,\n",
    "        np.append([lambd], lscore)))\n",
    "#Removing a set of outliers created by how we made the array. \n",
    "estimates = np.delete(estimates, 0, 0)\n",
    "lestimates = np.delete(lestimates, 0, 0)\n",
    "# Plot a line for each alpha for it's R2\n",
    "plt.plot((estimates[:,0]), (estimates[:,1]*100), label='Ridge Regression')\n",
    "plt.plot((lestimates[:,0]), (lestimates[:,1]*100), label='Lasso Regression')\n",
    "#There is no regulization for the vannilla logistic regression, so I'll make it a flat line for comparison. \n",
    "plt.xlabel('regularization strength')\n",
    "plt.title('Percent accuracy for ridge and lasso regression across different penalty magnitudes')\n",
    "plt.ylabel('Percent')\n",
    "plt.legend()\n",
    "plt.show()"
   ]
  },
  {
   "cell_type": "markdown",
   "metadata": {},
   "source": [
    "So lasso regression got too tough to early for the way that I coded in it's C value. I couldn't code it away from the value at which it deprived all of the variables. I'll examine the same issue in reverse, going up from C = 1 instead of down. "
   ]
  },
  {
   "cell_type": "code",
   "execution_count": 447,
   "metadata": {},
   "outputs": [
    {
     "data": {
      "image/png": "[encoded data removed]",
      "text/plain": [
       "<Figure size 432x288 with 1 Axes>"
      ]
     },
     "metadata": {},
     "output_type": "display_data"
    }
   ],
   "source": [
    "#Creating the lists to pull the values. X_test2 throws up a shape error on the lasso regression,\n",
    "#So I'll leave it off for the test. The regression was trained on the same stuff, so hopefully that won't effect\n",
    "#the results to much. \n",
    "lrr.fit(X, y)\n",
    "lrl.fit(X, y)\n",
    "estimates = np.append([0], lrr.score(X, y))\n",
    "lestimates = np.append([0], lrl.score(X, y))\n",
    "\n",
    "\n",
    "# Store scores.\n",
    "score =[]\n",
    "# Storing legend information.\n",
    "labels = []\n",
    "\n",
    "#Run the model for many alphas for ridge regression\n",
    "for lambd in range(1, 99, 1):\n",
    "    a = lambd\n",
    "    lrr = linear_model.LogisticRegression(penalty = 'l2', C=a, fit_intercept=False)\n",
    "    lrr.fit(X, y)\n",
    "    rscore = lrr.score(X, y)\n",
    "    estimates = np.row_stack((\n",
    "        estimates,\n",
    "        np.append([lambd], rscore)))\n",
    "\n",
    "#Running it again for lasso regression\n",
    "for lambd in range(1, 99, 1):\n",
    "    #Lasso regression goes on a scale from 0 to 1, so I'm going to adjust alphas accordingly. \n",
    "    a = lambd\n",
    "    lrl = linear_model.LogisticRegression(penalty = 'l1', C=a, fit_intercept=False)\n",
    "    lrl.fit(X, y)\n",
    "    lscore = lrl.score(X, y)\n",
    "    lestimates = np.row_stack((\n",
    "        lestimates,\n",
    "        np.append([lambd], lscore)))\n",
    "#Removing a set of outliers created by how we made the array. \n",
    "estimates = np.delete(estimates, 0, 0)\n",
    "lestimates = np.delete(lestimates, 0, 0)\n",
    "# Plot a line for each alpha for it's R2\n",
    "plt.plot((estimates[:,0]), (estimates[:,1]*100), label='Ridge Regression')\n",
    "plt.plot((lestimates[:,0]), (lestimates[:,1]*100), label='Lasso Regression')\n",
    "#There is no regulization for the vannilla logistic regression, so I'll make it a flat line for comparison. \n",
    "plt.xlabel('Inverse of regularization strength')\n",
    "plt.title('Percent accuracy for ridge and lasso regression across different penalty magnitudes')\n",
    "plt.ylabel('Percent')\n",
    "plt.legend()\n",
    "plt.show()"
   ]
  },
  {
   "cell_type": "markdown",
   "metadata": {},
   "source": [
    "That isn't terribly encouraging. We might have to see about different penalty strengths and compare them. "
   ]
  },
  {
   "cell_type": "markdown",
   "metadata": {},
   "source": [
    "Our random forest regressor did fine on price, but I did do lasso and ridge regressions to check if I could do better. They don't fit well in the rest of the notebook, so their detached from the actual declared training and test sets, and frankly aren't a core part of this project, but if you are curious about said preformance you can look below. "
   ]
  },
  {
   "cell_type": "markdown",
   "metadata": {},
   "source": []
  },
  {
   "cell_type": "code",
   "execution_count": 92,
   "metadata": {},
   "outputs": [
    {
     "name": "stderr",
     "output_type": "stream",
     "text": [
      "C:\\Users\\Ebel\\Anaconda3\\lib\\site-packages\\sklearn\\linear_model\\coordinate_descent.py:491: ConvergenceWarning: Objective did not converge. You might want to increase the number of iterations. Fitting data with very small alpha may cause precision problems.\n",
      "  ConvergenceWarning)\n"
     ]
    },
    {
     "name": "stdout",
     "output_type": "stream",
     "text": [
      "R² for .25 alpha lasso regression:\n",
      "0.6628298918609863\n",
      "\n",
      "Parameter estimates for lasso regression:\n",
      "[ 2.86445709e+02  2.06472262e+00 -5.93447530e-02 -5.70797350e+00\n",
      "  2.82239884e+03  3.87365131e+00 -0.00000000e+00 -1.46297113e+02\n",
      " -1.68466932e+02  1.89202441e+03  1.90366529e+03 -2.11625443e+02\n",
      " -0.00000000e+00  0.00000000e+00  1.72050291e+03  1.94759472e+03\n",
      " -5.73209260e-13 -5.06114567e+03  0.00000000e+00 -3.27562674e+02\n",
      "  1.78368626e+02  0.00000000e+00  6.67519399e+02 -7.19088480e+03\n",
      " -0.00000000e+00  1.05658296e+02  2.88769822e+03  1.25963108e+03\n",
      " -7.45833608e+03  1.03055034e+03 -1.36005426e+03  2.03954636e+03\n",
      " -6.30029065e+03 -0.00000000e+00  1.90167727e+03  2.34250895e+03\n",
      " -5.17382342e+03 -6.33445159e+03  6.28005762e+02 -3.82520501e+03\n",
      "  2.58027683e+03  0.00000000e+00  2.68215458e+04 -7.02697644e+03\n",
      " -7.80743640e+03 -6.69280724e+03 -6.59960909e+03  3.36281013e+02\n",
      " -5.82138332e+03 -4.35737969e+03 -4.73406274e+03  7.81829147e+02\n",
      " -1.05994658e+03  1.73795021e+03  3.96200793e+01 -7.09015574e+02\n",
      "  5.47305734e+03  1.55561711e+03 -0.00000000e+00  4.94779929e+01\n",
      " -4.21355685e+02 -7.64981234e+02  8.89241795e+01 -4.24879835e+03\n",
      " -4.25344843e+03 -3.64579901e+03 -0.00000000e+00 -9.87852412e+02\n",
      "  4.54162088e+02 -6.46650054e+02 -5.19809631e+03  0.00000000e+00\n",
      " -2.86459611e+03 -2.72180374e+02 -1.16029658e+03 -1.03745565e+03\n",
      "  2.29390331e+02 -3.09985363e+03 -3.83387586e+02 -8.43040389e+02\n",
      " -1.03230441e+03  1.22354533e+02 -9.72329963e+02  9.09057890e+02\n",
      "  5.05807791e+02 -4.32362538e+03  3.05640728e+03  1.94526056e+01\n",
      "  0.00000000e+00 -1.81050721e+03 -4.23166745e+03  5.05798425e+02\n",
      "  5.46073199e+02 -3.94240834e+01 -4.93063543e+03 -0.00000000e+00\n",
      " -3.63894025e+02 -6.74659973e+02  1.96359428e+01  3.85467627e+02\n",
      "  0.00000000e+00 -5.48875994e+02  5.38257446e+02 -0.00000000e+00\n",
      "  0.00000000e+00  0.00000000e+00  5.81681975e+03  6.78513923e+03\n",
      "  3.79678985e+03 -1.41999038e+03  0.00000000e+00  0.00000000e+00\n",
      "  1.62348131e+03 -0.00000000e+00 -1.97362961e+03  0.00000000e+00\n",
      " -9.84752473e+02 -9.75382656e+01  9.12906287e+02  3.19689565e+01\n",
      " -1.19176735e+02 -1.26484632e+03 -2.52451010e+02  0.00000000e+00\n",
      "  0.00000000e+00 -3.49800741e+03 -3.43220078e+03 -7.77226653e+03\n",
      " -1.46537032e+03  1.20701635e+04  7.21406450e+02  7.92230773e+02\n",
      "  8.04485511e+02  1.59546991e+04  5.16891464e+03 -2.88779352e+02\n",
      "  1.02869175e+03 -0.00000000e+00 -1.23843028e+02 -1.18552180e+03\n",
      "  1.90223577e+03  2.05931160e+03 -1.35149256e+03 -3.06340967e+02\n",
      " -0.00000000e+00 -1.82049591e+01 -1.20739369e+03 -2.21564712e+03\n",
      "  2.46106794e+03  7.49291610e+03 -0.00000000e+00 -1.58278877e+02\n",
      "  0.00000000e+00 -0.00000000e+00  2.43158462e+03  3.63602529e+02\n",
      "  2.44461814e+03  0.00000000e+00  0.00000000e+00  4.35168650e+02\n",
      "  0.00000000e+00  1.23208827e+02 -9.14384498e+02 -0.00000000e+00\n",
      " -7.13658504e+02  1.13746363e+04 -0.00000000e+00 -2.91721657e+03\n",
      " -1.92718208e+02 -1.56248856e+03 -6.57921909e+02 -5.23596536e+03\n",
      " -1.25961455e+03 -0.00000000e+00  0.00000000e+00 -0.00000000e+00\n",
      "  1.28092859e+04  8.33214496e+02  3.12101719e+03 -3.09708740e+03\n",
      " -1.71796006e+03 -0.00000000e+00  2.53581785e+03 -0.00000000e+00\n",
      " -2.06381313e+03  1.62863154e+03  8.09795845e+02 -1.78371866e+03\n",
      " -5.74278212e+02  8.85821328e+02 -8.49864370e+02 -1.33048941e+03\n",
      "  4.55855432e+02  2.94013814e+02  4.72450635e+02  3.32825054e+03\n",
      "  4.89810633e+03  1.91094956e+03  1.61669224e+03  0.00000000e+00\n",
      " -8.86816271e+02  7.59297986e+03  4.42171860e+03  0.00000000e+00\n",
      "  0.00000000e+00 -0.00000000e+00 -2.69645356e+03 -0.00000000e+00\n",
      "  0.00000000e+00  0.00000000e+00  1.76946990e+03  2.11012202e+03\n",
      " -9.70723700e+03  0.00000000e+00 -4.87958967e+02  1.33862857e+03\n",
      "  4.63615686e+02  8.41500294e+01  3.66438664e+02 -0.00000000e+00\n",
      " -0.00000000e+00  0.00000000e+00  3.50386780e+02 -7.71183110e+02\n",
      " -0.00000000e+00  1.00891160e+04 -2.64983547e+03  8.75556534e+02\n",
      " -7.00916292e+03  3.86396031e+03  3.06143067e+03 -2.82751898e+03\n",
      "  4.40750986e+02  3.85699888e+03  8.79131593e+02 -0.00000000e+00\n",
      " -2.41220635e+03  2.79543877e+03  0.00000000e+00  3.65887383e+03\n",
      " -5.98334418e+02  0.00000000e+00  4.85512056e+03 -4.13662944e+03\n",
      "  0.00000000e+00 -0.00000000e+00 -6.30542566e+03 -1.43598091e+02\n",
      " -1.14637635e+03  3.29684353e+03  6.34994751e-01 -0.00000000e+00\n",
      " -0.00000000e+00  0.00000000e+00  4.28511618e+03 -3.25757299e+03\n",
      "  7.16733136e+02  1.02663023e+03  5.35244446e+03 -1.52471638e+03\n",
      " -0.00000000e+00 -8.83257848e+03  2.65119031e+03 -1.56558406e+03\n",
      "  1.70573934e+03 -5.24527450e+02 -4.03144244e+03 -1.83354325e+02\n",
      " -0.00000000e+00  0.00000000e+00  0.00000000e+00  1.00296782e+03\n",
      " -1.17433015e+03  7.94481217e+02 -6.26362953e+02 -0.00000000e+00\n",
      "  9.03787169e+03  9.75197337e+03  1.01775814e+03 -9.32893323e+02\n",
      " -7.75416609e+02 -2.91196367e+03 -0.00000000e+00 -1.24349956e+03\n",
      " -1.01442177e+03  4.27292693e+02 -0.00000000e+00 -2.23413725e+03\n",
      "  1.04834449e+04  2.02412185e+03 -1.76595866e+03 -1.56471233e+03\n",
      "  5.16951395e+02  8.72882132e+03 -1.32846990e+03  5.06695356e+03\n",
      "  1.82944757e+03 -7.33078042e+02  0.00000000e+00  4.20193408e+02\n",
      " -1.46257193e+03  1.98303878e+04 -4.22575507e+02 -7.43757338e+02\n",
      " -1.69282032e+02  4.82929331e+02 -1.23617370e+03 -1.14531410e+03\n",
      "  6.67950950e+02 -2.46459345e+03  3.10324305e+02  5.89377449e+02\n",
      "  1.75795653e+03  1.30822053e+03 -1.11604019e+03  0.00000000e+00\n",
      " -5.64117285e+05]\n",
      "R² for .25 alpha ridge regression:\n",
      "0.6635973988195818\n",
      "\n",
      "Parameter estimates for lasso regression:\n",
      "[ 2.92149669e+02  2.02295327e+00 -5.91816024e-02 -5.30347366e+00\n",
      "  2.77749848e+03  1.61738413e+00 -1.61738413e+00 -7.65545585e+02\n",
      " -7.55398813e+02  1.32928576e+03  1.24520081e+03 -6.91779524e+02\n",
      " -6.06367349e+02 -5.98024129e+02  8.42628993e+02  9.57746680e+02\n",
      " -9.57746680e+02 -5.59228135e+03  1.17114323e+03 -2.81174967e+01\n",
      "  8.01400502e+02  8.08573312e+02  1.05786323e+03 -8.65921542e+03\n",
      " -3.32388727e+03  4.68376016e+02  4.40090438e+03  1.71549756e+03\n",
      " -8.88988515e+03  1.63878292e+03 -1.27629852e+03  2.68107364e+03\n",
      " -7.72304825e+03 -2.27345927e+03  2.43956317e+03  1.28852424e+03\n",
      " -6.63914640e+03 -6.73395978e+03  1.09258344e+03 -5.13586555e+03\n",
      "  3.94916851e+03  3.05377541e+03  2.64342467e+04 -7.64424896e+03\n",
      " -8.48808952e+03 -7.08686156e+03 -6.96767770e+03  7.96320236e+01\n",
      " -6.17683823e+03 -4.82506926e+03 -4.94926097e+03  1.60401890e+03\n",
      " -1.94293091e+03  3.70864995e+03  9.68627772e+01  8.23411576e+02\n",
      "  6.99937338e+03  1.57534204e+03 -9.57192415e+02  1.79180496e+03\n",
      " -9.86017714e+02 -1.39086047e+03  5.18384908e+01 -5.60794803e+03\n",
      " -4.77346791e+03 -3.90256000e+03 -2.27500424e+03 -1.64528251e+03\n",
      "  5.34349416e+02 -1.27713579e+03 -5.94168050e+03  4.73952869e+02\n",
      " -3.23167698e+03 -6.39987915e+02 -1.43383230e+03 -1.22315675e+03\n",
      "  4.00200741e+02 -3.24718706e+03 -8.79523086e+02 -1.18057805e+03\n",
      " -1.61914215e+03  1.81927516e+02 -1.61652097e+03  1.63762147e+03\n",
      "  1.46556406e+03 -4.73835192e+03  3.04034703e+03  9.36674863e+02\n",
      "  1.44441021e+03 -2.18263005e+03 -4.74849992e+03  1.11926104e+03\n",
      "  7.52455287e+02 -7.41526252e-01 -5.07673644e+03 -1.79790368e+03\n",
      " -2.07198728e+01 -1.47148183e+03 -1.51308429e+03  2.37474217e+03\n",
      " -1.45045654e+02 -1.23250711e+03  1.50165447e+03 -1.25704153e+02\n",
      "  1.95245314e+03  1.04024013e+03  7.22205711e+03  5.23027807e+03\n",
      "  5.21508125e+03 -4.17013494e+03  1.38968444e+04  3.46968834e+02\n",
      "  2.09812699e+03  3.28024770e+03 -2.10462331e+03 -4.21031407e+02\n",
      " -1.70370804e+03 -5.70319799e+02  1.25101748e+03  2.50438299e+03\n",
      "  2.34392841e+02 -1.77382664e+03 -6.49434906e+02  1.10247619e+03\n",
      " -5.07202766e+01 -3.70984859e+03 -4.23553871e+03 -1.02439040e+04\n",
      " -2.21448875e+03  1.27096524e+04  1.59472882e+03  5.02568208e+02\n",
      "  1.05977793e+03  1.71946172e+04  5.62639109e+03 -8.40628918e+02\n",
      "  1.54590244e+03 -7.21839816e+03 -4.17697745e+00  4.35129450e+02\n",
      "  2.85386769e+03  1.63629431e+03 -1.18437748e+03 -1.08606649e+03\n",
      "  1.66235386e+02 -8.63116991e+02 -1.40639691e+03 -2.75133932e+03\n",
      "  2.31636410e+03  7.32005799e+03 -2.84351200e+03 -2.04165912e+03\n",
      "  2.66912173e+02 -1.25315906e+03  2.55347836e+03  6.19240257e+02\n",
      "  3.36505052e+03 -9.12640196e+02  9.80361796e+02  2.25905111e+03\n",
      "  3.81180899e+03  3.56309978e+03 -1.61932793e+03 -1.75422843e+03\n",
      " -6.17972202e+02  1.01993716e+04  7.96290358e+02 -3.89655981e+03\n",
      " -4.87671365e+01 -2.22601278e+03 -8.89669012e+02 -4.48267624e+03\n",
      " -1.41708565e+03 -3.88634442e+02  2.32246234e+03 -2.97597982e+03\n",
      "  1.28910829e+04  1.36346429e+03  4.06762519e+03 -3.70423761e+03\n",
      " -2.44269960e+03 -1.52133450e+03  3.04814342e+03 -5.66491583e+02\n",
      " -3.75414824e+03  2.91357316e+03  2.02765585e+03 -1.79686855e+03\n",
      " -1.09877454e+03  7.42033609e+02 -5.96180248e+02 -1.98825204e+03\n",
      "  5.45981650e+02  1.53679690e+03  6.29291229e+02  3.36419426e+03\n",
      "  4.82543956e+03  1.92776004e+03  1.82480118e+03  1.01287129e+03\n",
      " -3.80963612e+03  6.70402012e+03  3.07075587e+03  8.19557188e+03\n",
      "  1.43746499e+02  3.91470501e+02 -3.27932001e+03  2.46500802e+02\n",
      "  5.63935072e+02  3.11586521e+02  1.75674884e+03  1.91495564e+03\n",
      " -1.11148917e+04  3.86649863e+02  2.33743400e+03  2.07987224e+03\n",
      "  7.03424907e+02 -2.53563673e+02  6.34225449e+02 -9.33434634e+03\n",
      " -2.09349769e+03  3.17400495e+02 -1.21283919e+02 -1.47188133e+03\n",
      "  5.98764403e+02  1.01038049e+04 -2.87844600e+03  2.03896259e+03\n",
      " -8.24252913e+03  4.76008131e+03  4.21808724e+03 -3.09888259e+03\n",
      "  8.05100800e+02  4.54048722e+03  9.91729487e+02  4.56331073e+02\n",
      " -3.11561252e+03  2.62254964e+03  1.98168630e+03  3.55006120e+03\n",
      " -1.15559476e+03 -3.24410349e+02  4.36741254e+03 -4.53809975e+03\n",
      "  6.92778517e+02  5.10823660e+01 -7.20230279e+03 -2.16762177e+02\n",
      " -1.38384795e+03  4.85518155e+03  1.90807835e+02 -5.56756625e+02\n",
      " -5.53813686e+02 -3.93076036e+01  4.32777430e+03 -3.50391882e+03\n",
      "  4.21496612e+02  2.24712973e+03  5.99672625e+03 -2.84664460e+03\n",
      "  1.54714306e+02 -1.01074780e+04  3.18469740e+03 -1.95872375e+03\n",
      "  2.81833782e+03 -2.29060166e+03 -5.57528307e+03 -7.78960697e+02\n",
      " -3.69776541e+02  1.84274342e+02  2.45771838e+02  1.15957781e+03\n",
      " -2.09787210e+03  1.34472262e+03 -4.66697959e+02 -1.86398960e+03\n",
      "  8.03920728e+03  9.82479594e+03  1.37107803e+02 -3.24864094e+03\n",
      " -2.14806596e+03 -7.51088799e+03 -4.62400071e+02 -3.66412402e+03\n",
      " -2.64697273e+03 -5.82437826e+02 -1.94174109e+03 -3.81065819e+03\n",
      "  9.93528100e+03  8.37729587e+02 -3.77359211e+03 -2.76014137e+03\n",
      "  3.68726665e+02  9.77805587e+03 -3.17977063e+03  3.85813477e+03\n",
      "  1.95030015e+03 -2.62791398e+03 -1.32136007e+03 -4.07064879e+02\n",
      " -3.28049780e+03  1.89952928e+04 -1.99100520e+03 -2.51554180e+03\n",
      " -2.16250434e+03 -2.66490699e+03 -3.08075337e+03 -2.40267303e+03\n",
      " -1.25025550e+03 -3.95517825e+03 -8.84298947e+02  1.60183600e+03\n",
      "  9.18074816e+02 -1.07165975e+02 -5.57968579e+02  5.57968579e+02\n",
      " -5.73336034e+05]\n"
     ]
    }
   ],
   "source": [
    "#Lasso regression \n",
    "lass = linear_model.Lasso(alpha=.25)\n",
    "lassfit = lass.fit(x_train, y_train)\n",
    "print('R² for .25 alpha lasso regression:')\n",
    "print(lass.score(x_test, y_test))\n",
    "lassparams = np.append(lassfit.coef_, lassfit.intercept_)\n",
    "print('\\nParameter estimates for lasso regression:')\n",
    "print(lassparams)\n",
    "\n",
    "# Small number of parameters.\n",
    "ridge = linear_model.Ridge(alpha=.25)\n",
    "ridgefit = ridge.fit(x_train, y_train)\n",
    "print('R² for .25 alpha ridge regression:')\n",
    "print(ridge.score(x_test, y_test))\n",
    "ridgeparams = np.append(ridgefit.coef_, ridgefit.intercept_)\n",
    "print('\\nParameter estimates for lasso regression:')\n",
    "print(ridgeparams)"
   ]
  },
  {
   "cell_type": "code",
   "execution_count": 93,
   "metadata": {},
   "outputs": [
    {
     "name": "stderr",
     "output_type": "stream",
     "text": [
      "C:\\Users\\Ebel\\Anaconda3\\lib\\site-packages\\sklearn\\linear_model\\coordinate_descent.py:491: ConvergenceWarning: Objective did not converge. You might want to increase the number of iterations. Fitting data with very small alpha may cause precision problems.\n",
      "  ConvergenceWarning)\n",
      "C:\\Users\\Ebel\\Anaconda3\\lib\\site-packages\\sklearn\\linear_model\\coordinate_descent.py:491: ConvergenceWarning: Objective did not converge. You might want to increase the number of iterations. Fitting data with very small alpha may cause precision problems.\n",
      "  ConvergenceWarning)\n",
      "C:\\Users\\Ebel\\Anaconda3\\lib\\site-packages\\sklearn\\linear_model\\coordinate_descent.py:491: ConvergenceWarning: Objective did not converge. You might want to increase the number of iterations. Fitting data with very small alpha may cause precision problems.\n",
      "  ConvergenceWarning)\n",
      "C:\\Users\\Ebel\\Anaconda3\\lib\\site-packages\\sklearn\\linear_model\\coordinate_descent.py:491: ConvergenceWarning: Objective did not converge. You might want to increase the number of iterations. Fitting data with very small alpha may cause precision problems.\n",
      "  ConvergenceWarning)\n",
      "C:\\Users\\Ebel\\Anaconda3\\lib\\site-packages\\sklearn\\linear_model\\coordinate_descent.py:491: ConvergenceWarning: Objective did not converge. You might want to increase the number of iterations. Fitting data with very small alpha may cause precision problems.\n",
      "  ConvergenceWarning)\n",
      "C:\\Users\\Ebel\\Anaconda3\\lib\\site-packages\\sklearn\\linear_model\\coordinate_descent.py:491: ConvergenceWarning: Objective did not converge. You might want to increase the number of iterations. Fitting data with very small alpha may cause precision problems.\n",
      "  ConvergenceWarning)\n",
      "C:\\Users\\Ebel\\Anaconda3\\lib\\site-packages\\sklearn\\linear_model\\coordinate_descent.py:491: ConvergenceWarning: Objective did not converge. You might want to increase the number of iterations. Fitting data with very small alpha may cause precision problems.\n",
      "  ConvergenceWarning)\n",
      "C:\\Users\\Ebel\\Anaconda3\\lib\\site-packages\\sklearn\\linear_model\\coordinate_descent.py:491: ConvergenceWarning: Objective did not converge. You might want to increase the number of iterations. Fitting data with very small alpha may cause precision problems.\n",
      "  ConvergenceWarning)\n",
      "C:\\Users\\Ebel\\Anaconda3\\lib\\site-packages\\sklearn\\linear_model\\coordinate_descent.py:491: ConvergenceWarning: Objective did not converge. You might want to increase the number of iterations. Fitting data with very small alpha may cause precision problems.\n",
      "  ConvergenceWarning)\n",
      "C:\\Users\\Ebel\\Anaconda3\\lib\\site-packages\\sklearn\\linear_model\\coordinate_descent.py:491: ConvergenceWarning: Objective did not converge. You might want to increase the number of iterations. Fitting data with very small alpha may cause precision problems.\n",
      "  ConvergenceWarning)\n",
      "C:\\Users\\Ebel\\Anaconda3\\lib\\site-packages\\sklearn\\linear_model\\coordinate_descent.py:491: ConvergenceWarning: Objective did not converge. You might want to increase the number of iterations. Fitting data with very small alpha may cause precision problems.\n",
      "  ConvergenceWarning)\n",
      "C:\\Users\\Ebel\\Anaconda3\\lib\\site-packages\\sklearn\\linear_model\\coordinate_descent.py:491: ConvergenceWarning: Objective did not converge. You might want to increase the number of iterations. Fitting data with very small alpha may cause precision problems.\n",
      "  ConvergenceWarning)\n",
      "C:\\Users\\Ebel\\Anaconda3\\lib\\site-packages\\sklearn\\linear_model\\coordinate_descent.py:491: ConvergenceWarning: Objective did not converge. You might want to increase the number of iterations. Fitting data with very small alpha may cause precision problems.\n",
      "  ConvergenceWarning)\n",
      "C:\\Users\\Ebel\\Anaconda3\\lib\\site-packages\\sklearn\\linear_model\\coordinate_descent.py:491: ConvergenceWarning: Objective did not converge. You might want to increase the number of iterations. Fitting data with very small alpha may cause precision problems.\n",
      "  ConvergenceWarning)\n",
      "C:\\Users\\Ebel\\Anaconda3\\lib\\site-packages\\sklearn\\linear_model\\coordinate_descent.py:491: ConvergenceWarning: Objective did not converge. You might want to increase the number of iterations. Fitting data with very small alpha may cause precision problems.\n",
      "  ConvergenceWarning)\n",
      "C:\\Users\\Ebel\\Anaconda3\\lib\\site-packages\\sklearn\\linear_model\\coordinate_descent.py:491: ConvergenceWarning: Objective did not converge. You might want to increase the number of iterations. Fitting data with very small alpha may cause precision problems.\n",
      "  ConvergenceWarning)\n",
      "C:\\Users\\Ebel\\Anaconda3\\lib\\site-packages\\sklearn\\linear_model\\coordinate_descent.py:491: ConvergenceWarning: Objective did not converge. You might want to increase the number of iterations. Fitting data with very small alpha may cause precision problems.\n",
      "  ConvergenceWarning)\n",
      "C:\\Users\\Ebel\\Anaconda3\\lib\\site-packages\\sklearn\\linear_model\\coordinate_descent.py:491: ConvergenceWarning: Objective did not converge. You might want to increase the number of iterations. Fitting data with very small alpha may cause precision problems.\n",
      "  ConvergenceWarning)\n",
      "C:\\Users\\Ebel\\Anaconda3\\lib\\site-packages\\sklearn\\linear_model\\coordinate_descent.py:491: ConvergenceWarning: Objective did not converge. You might want to increase the number of iterations. Fitting data with very small alpha may cause precision problems.\n",
      "  ConvergenceWarning)\n",
      "C:\\Users\\Ebel\\Anaconda3\\lib\\site-packages\\sklearn\\linear_model\\coordinate_descent.py:491: ConvergenceWarning: Objective did not converge. You might want to increase the number of iterations. Fitting data with very small alpha may cause precision problems.\n",
      "  ConvergenceWarning)\n",
      "C:\\Users\\Ebel\\Anaconda3\\lib\\site-packages\\sklearn\\linear_model\\coordinate_descent.py:491: ConvergenceWarning: Objective did not converge. You might want to increase the number of iterations. Fitting data with very small alpha may cause precision problems.\n",
      "  ConvergenceWarning)\n",
      "C:\\Users\\Ebel\\Anaconda3\\lib\\site-packages\\sklearn\\linear_model\\coordinate_descent.py:491: ConvergenceWarning: Objective did not converge. You might want to increase the number of iterations. Fitting data with very small alpha may cause precision problems.\n",
      "  ConvergenceWarning)\n",
      "C:\\Users\\Ebel\\Anaconda3\\lib\\site-packages\\sklearn\\linear_model\\coordinate_descent.py:491: ConvergenceWarning: Objective did not converge. You might want to increase the number of iterations. Fitting data with very small alpha may cause precision problems.\n",
      "  ConvergenceWarning)\n",
      "C:\\Users\\Ebel\\Anaconda3\\lib\\site-packages\\sklearn\\linear_model\\coordinate_descent.py:491: ConvergenceWarning: Objective did not converge. You might want to increase the number of iterations. Fitting data with very small alpha may cause precision problems.\n",
      "  ConvergenceWarning)\n",
      "C:\\Users\\Ebel\\Anaconda3\\lib\\site-packages\\sklearn\\linear_model\\coordinate_descent.py:491: ConvergenceWarning: Objective did not converge. You might want to increase the number of iterations. Fitting data with very small alpha may cause precision problems.\n",
      "  ConvergenceWarning)\n",
      "C:\\Users\\Ebel\\Anaconda3\\lib\\site-packages\\sklearn\\linear_model\\coordinate_descent.py:491: ConvergenceWarning: Objective did not converge. You might want to increase the number of iterations. Fitting data with very small alpha may cause precision problems.\n",
      "  ConvergenceWarning)\n",
      "C:\\Users\\Ebel\\Anaconda3\\lib\\site-packages\\sklearn\\linear_model\\coordinate_descent.py:491: ConvergenceWarning: Objective did not converge. You might want to increase the number of iterations. Fitting data with very small alpha may cause precision problems.\n",
      "  ConvergenceWarning)\n",
      "C:\\Users\\Ebel\\Anaconda3\\lib\\site-packages\\sklearn\\linear_model\\coordinate_descent.py:491: ConvergenceWarning: Objective did not converge. You might want to increase the number of iterations. Fitting data with very small alpha may cause precision problems.\n",
      "  ConvergenceWarning)\n",
      "C:\\Users\\Ebel\\Anaconda3\\lib\\site-packages\\sklearn\\linear_model\\coordinate_descent.py:491: ConvergenceWarning: Objective did not converge. You might want to increase the number of iterations. Fitting data with very small alpha may cause precision problems.\n",
      "  ConvergenceWarning)\n",
      "C:\\Users\\Ebel\\Anaconda3\\lib\\site-packages\\sklearn\\linear_model\\coordinate_descent.py:491: ConvergenceWarning: Objective did not converge. You might want to increase the number of iterations. Fitting data with very small alpha may cause precision problems.\n",
      "  ConvergenceWarning)\n"
     ]
    },
    {
     "name": "stderr",
     "output_type": "stream",
     "text": [
      "C:\\Users\\Ebel\\Anaconda3\\lib\\site-packages\\sklearn\\linear_model\\coordinate_descent.py:491: ConvergenceWarning: Objective did not converge. You might want to increase the number of iterations. Fitting data with very small alpha may cause precision problems.\n",
      "  ConvergenceWarning)\n",
      "C:\\Users\\Ebel\\Anaconda3\\lib\\site-packages\\sklearn\\linear_model\\coordinate_descent.py:491: ConvergenceWarning: Objective did not converge. You might want to increase the number of iterations. Fitting data with very small alpha may cause precision problems.\n",
      "  ConvergenceWarning)\n",
      "C:\\Users\\Ebel\\Anaconda3\\lib\\site-packages\\sklearn\\linear_model\\coordinate_descent.py:491: ConvergenceWarning: Objective did not converge. You might want to increase the number of iterations. Fitting data with very small alpha may cause precision problems.\n",
      "  ConvergenceWarning)\n",
      "C:\\Users\\Ebel\\Anaconda3\\lib\\site-packages\\sklearn\\linear_model\\coordinate_descent.py:491: ConvergenceWarning: Objective did not converge. You might want to increase the number of iterations. Fitting data with very small alpha may cause precision problems.\n",
      "  ConvergenceWarning)\n",
      "C:\\Users\\Ebel\\Anaconda3\\lib\\site-packages\\sklearn\\linear_model\\coordinate_descent.py:491: ConvergenceWarning: Objective did not converge. You might want to increase the number of iterations. Fitting data with very small alpha may cause precision problems.\n",
      "  ConvergenceWarning)\n",
      "C:\\Users\\Ebel\\Anaconda3\\lib\\site-packages\\sklearn\\linear_model\\coordinate_descent.py:491: ConvergenceWarning: Objective did not converge. You might want to increase the number of iterations. Fitting data with very small alpha may cause precision problems.\n",
      "  ConvergenceWarning)\n",
      "C:\\Users\\Ebel\\Anaconda3\\lib\\site-packages\\sklearn\\linear_model\\coordinate_descent.py:491: ConvergenceWarning: Objective did not converge. You might want to increase the number of iterations. Fitting data with very small alpha may cause precision problems.\n",
      "  ConvergenceWarning)\n",
      "C:\\Users\\Ebel\\Anaconda3\\lib\\site-packages\\sklearn\\linear_model\\coordinate_descent.py:491: ConvergenceWarning: Objective did not converge. You might want to increase the number of iterations. Fitting data with very small alpha may cause precision problems.\n",
      "  ConvergenceWarning)\n",
      "C:\\Users\\Ebel\\Anaconda3\\lib\\site-packages\\sklearn\\linear_model\\coordinate_descent.py:491: ConvergenceWarning: Objective did not converge. You might want to increase the number of iterations. Fitting data with very small alpha may cause precision problems.\n",
      "  ConvergenceWarning)\n",
      "C:\\Users\\Ebel\\Anaconda3\\lib\\site-packages\\sklearn\\linear_model\\coordinate_descent.py:491: ConvergenceWarning: Objective did not converge. You might want to increase the number of iterations. Fitting data with very small alpha may cause precision problems.\n",
      "  ConvergenceWarning)\n",
      "C:\\Users\\Ebel\\Anaconda3\\lib\\site-packages\\sklearn\\linear_model\\coordinate_descent.py:491: ConvergenceWarning: Objective did not converge. You might want to increase the number of iterations. Fitting data with very small alpha may cause precision problems.\n",
      "  ConvergenceWarning)\n",
      "C:\\Users\\Ebel\\Anaconda3\\lib\\site-packages\\sklearn\\linear_model\\coordinate_descent.py:491: ConvergenceWarning: Objective did not converge. You might want to increase the number of iterations. Fitting data with very small alpha may cause precision problems.\n",
      "  ConvergenceWarning)\n",
      "C:\\Users\\Ebel\\Anaconda3\\lib\\site-packages\\sklearn\\linear_model\\coordinate_descent.py:491: ConvergenceWarning: Objective did not converge. You might want to increase the number of iterations. Fitting data with very small alpha may cause precision problems.\n",
      "  ConvergenceWarning)\n",
      "C:\\Users\\Ebel\\Anaconda3\\lib\\site-packages\\sklearn\\linear_model\\coordinate_descent.py:491: ConvergenceWarning: Objective did not converge. You might want to increase the number of iterations. Fitting data with very small alpha may cause precision problems.\n",
      "  ConvergenceWarning)\n",
      "C:\\Users\\Ebel\\Anaconda3\\lib\\site-packages\\sklearn\\linear_model\\coordinate_descent.py:491: ConvergenceWarning: Objective did not converge. You might want to increase the number of iterations. Fitting data with very small alpha may cause precision problems.\n",
      "  ConvergenceWarning)\n",
      "C:\\Users\\Ebel\\Anaconda3\\lib\\site-packages\\sklearn\\linear_model\\coordinate_descent.py:491: ConvergenceWarning: Objective did not converge. You might want to increase the number of iterations. Fitting data with very small alpha may cause precision problems.\n",
      "  ConvergenceWarning)\n",
      "C:\\Users\\Ebel\\Anaconda3\\lib\\site-packages\\sklearn\\linear_model\\coordinate_descent.py:491: ConvergenceWarning: Objective did not converge. You might want to increase the number of iterations. Fitting data with very small alpha may cause precision problems.\n",
      "  ConvergenceWarning)\n",
      "C:\\Users\\Ebel\\Anaconda3\\lib\\site-packages\\sklearn\\linear_model\\coordinate_descent.py:491: ConvergenceWarning: Objective did not converge. You might want to increase the number of iterations. Fitting data with very small alpha may cause precision problems.\n",
      "  ConvergenceWarning)\n",
      "C:\\Users\\Ebel\\Anaconda3\\lib\\site-packages\\sklearn\\linear_model\\coordinate_descent.py:491: ConvergenceWarning: Objective did not converge. You might want to increase the number of iterations. Fitting data with very small alpha may cause precision problems.\n",
      "  ConvergenceWarning)\n",
      "C:\\Users\\Ebel\\Anaconda3\\lib\\site-packages\\sklearn\\linear_model\\coordinate_descent.py:491: ConvergenceWarning: Objective did not converge. You might want to increase the number of iterations. Fitting data with very small alpha may cause precision problems.\n",
      "  ConvergenceWarning)\n",
      "C:\\Users\\Ebel\\Anaconda3\\lib\\site-packages\\sklearn\\linear_model\\coordinate_descent.py:491: ConvergenceWarning: Objective did not converge. You might want to increase the number of iterations. Fitting data with very small alpha may cause precision problems.\n",
      "  ConvergenceWarning)\n",
      "C:\\Users\\Ebel\\Anaconda3\\lib\\site-packages\\sklearn\\linear_model\\coordinate_descent.py:491: ConvergenceWarning: Objective did not converge. You might want to increase the number of iterations. Fitting data with very small alpha may cause precision problems.\n",
      "  ConvergenceWarning)\n",
      "C:\\Users\\Ebel\\Anaconda3\\lib\\site-packages\\sklearn\\linear_model\\coordinate_descent.py:491: ConvergenceWarning: Objective did not converge. You might want to increase the number of iterations. Fitting data with very small alpha may cause precision problems.\n",
      "  ConvergenceWarning)\n",
      "C:\\Users\\Ebel\\Anaconda3\\lib\\site-packages\\sklearn\\linear_model\\coordinate_descent.py:491: ConvergenceWarning: Objective did not converge. You might want to increase the number of iterations. Fitting data with very small alpha may cause precision problems.\n",
      "  ConvergenceWarning)\n",
      "C:\\Users\\Ebel\\Anaconda3\\lib\\site-packages\\sklearn\\linear_model\\coordinate_descent.py:491: ConvergenceWarning: Objective did not converge. You might want to increase the number of iterations. Fitting data with very small alpha may cause precision problems.\n",
      "  ConvergenceWarning)\n",
      "C:\\Users\\Ebel\\Anaconda3\\lib\\site-packages\\sklearn\\linear_model\\coordinate_descent.py:491: ConvergenceWarning: Objective did not converge. You might want to increase the number of iterations. Fitting data with very small alpha may cause precision problems.\n",
      "  ConvergenceWarning)\n",
      "C:\\Users\\Ebel\\Anaconda3\\lib\\site-packages\\sklearn\\linear_model\\coordinate_descent.py:491: ConvergenceWarning: Objective did not converge. You might want to increase the number of iterations. Fitting data with very small alpha may cause precision problems.\n",
      "  ConvergenceWarning)\n",
      "C:\\Users\\Ebel\\Anaconda3\\lib\\site-packages\\sklearn\\linear_model\\coordinate_descent.py:491: ConvergenceWarning: Objective did not converge. You might want to increase the number of iterations. Fitting data with very small alpha may cause precision problems.\n",
      "  ConvergenceWarning)\n",
      "C:\\Users\\Ebel\\Anaconda3\\lib\\site-packages\\sklearn\\linear_model\\coordinate_descent.py:491: ConvergenceWarning: Objective did not converge. You might want to increase the number of iterations. Fitting data with very small alpha may cause precision problems.\n",
      "  ConvergenceWarning)\n",
      "C:\\Users\\Ebel\\Anaconda3\\lib\\site-packages\\sklearn\\linear_model\\coordinate_descent.py:491: ConvergenceWarning: Objective did not converge. You might want to increase the number of iterations. Fitting data with very small alpha may cause precision problems.\n",
      "  ConvergenceWarning)\n"
     ]
    },
    {
     "name": "stderr",
     "output_type": "stream",
     "text": [
      "C:\\Users\\Ebel\\Anaconda3\\lib\\site-packages\\sklearn\\linear_model\\coordinate_descent.py:491: ConvergenceWarning: Objective did not converge. You might want to increase the number of iterations. Fitting data with very small alpha may cause precision problems.\n",
      "  ConvergenceWarning)\n",
      "C:\\Users\\Ebel\\Anaconda3\\lib\\site-packages\\sklearn\\linear_model\\coordinate_descent.py:491: ConvergenceWarning: Objective did not converge. You might want to increase the number of iterations. Fitting data with very small alpha may cause precision problems.\n",
      "  ConvergenceWarning)\n",
      "C:\\Users\\Ebel\\Anaconda3\\lib\\site-packages\\sklearn\\linear_model\\coordinate_descent.py:491: ConvergenceWarning: Objective did not converge. You might want to increase the number of iterations. Fitting data with very small alpha may cause precision problems.\n",
      "  ConvergenceWarning)\n",
      "C:\\Users\\Ebel\\Anaconda3\\lib\\site-packages\\sklearn\\linear_model\\coordinate_descent.py:491: ConvergenceWarning: Objective did not converge. You might want to increase the number of iterations. Fitting data with very small alpha may cause precision problems.\n",
      "  ConvergenceWarning)\n",
      "C:\\Users\\Ebel\\Anaconda3\\lib\\site-packages\\sklearn\\linear_model\\coordinate_descent.py:491: ConvergenceWarning: Objective did not converge. You might want to increase the number of iterations. Fitting data with very small alpha may cause precision problems.\n",
      "  ConvergenceWarning)\n",
      "C:\\Users\\Ebel\\Anaconda3\\lib\\site-packages\\sklearn\\linear_model\\coordinate_descent.py:491: ConvergenceWarning: Objective did not converge. You might want to increase the number of iterations. Fitting data with very small alpha may cause precision problems.\n",
      "  ConvergenceWarning)\n",
      "C:\\Users\\Ebel\\Anaconda3\\lib\\site-packages\\sklearn\\linear_model\\coordinate_descent.py:491: ConvergenceWarning: Objective did not converge. You might want to increase the number of iterations. Fitting data with very small alpha may cause precision problems.\n",
      "  ConvergenceWarning)\n",
      "C:\\Users\\Ebel\\Anaconda3\\lib\\site-packages\\sklearn\\linear_model\\coordinate_descent.py:491: ConvergenceWarning: Objective did not converge. You might want to increase the number of iterations. Fitting data with very small alpha may cause precision problems.\n",
      "  ConvergenceWarning)\n",
      "C:\\Users\\Ebel\\Anaconda3\\lib\\site-packages\\sklearn\\linear_model\\coordinate_descent.py:491: ConvergenceWarning: Objective did not converge. You might want to increase the number of iterations. Fitting data with very small alpha may cause precision problems.\n",
      "  ConvergenceWarning)\n",
      "C:\\Users\\Ebel\\Anaconda3\\lib\\site-packages\\sklearn\\linear_model\\coordinate_descent.py:491: ConvergenceWarning: Objective did not converge. You might want to increase the number of iterations. Fitting data with very small alpha may cause precision problems.\n",
      "  ConvergenceWarning)\n",
      "C:\\Users\\Ebel\\Anaconda3\\lib\\site-packages\\sklearn\\linear_model\\coordinate_descent.py:491: ConvergenceWarning: Objective did not converge. You might want to increase the number of iterations. Fitting data with very small alpha may cause precision problems.\n",
      "  ConvergenceWarning)\n",
      "C:\\Users\\Ebel\\Anaconda3\\lib\\site-packages\\sklearn\\linear_model\\coordinate_descent.py:491: ConvergenceWarning: Objective did not converge. You might want to increase the number of iterations. Fitting data with very small alpha may cause precision problems.\n",
      "  ConvergenceWarning)\n",
      "C:\\Users\\Ebel\\Anaconda3\\lib\\site-packages\\sklearn\\linear_model\\coordinate_descent.py:491: ConvergenceWarning: Objective did not converge. You might want to increase the number of iterations. Fitting data with very small alpha may cause precision problems.\n",
      "  ConvergenceWarning)\n",
      "C:\\Users\\Ebel\\Anaconda3\\lib\\site-packages\\sklearn\\linear_model\\coordinate_descent.py:491: ConvergenceWarning: Objective did not converge. You might want to increase the number of iterations. Fitting data with very small alpha may cause precision problems.\n",
      "  ConvergenceWarning)\n",
      "C:\\Users\\Ebel\\Anaconda3\\lib\\site-packages\\sklearn\\linear_model\\coordinate_descent.py:491: ConvergenceWarning: Objective did not converge. You might want to increase the number of iterations. Fitting data with very small alpha may cause precision problems.\n",
      "  ConvergenceWarning)\n",
      "C:\\Users\\Ebel\\Anaconda3\\lib\\site-packages\\sklearn\\linear_model\\coordinate_descent.py:491: ConvergenceWarning: Objective did not converge. You might want to increase the number of iterations. Fitting data with very small alpha may cause precision problems.\n",
      "  ConvergenceWarning)\n",
      "C:\\Users\\Ebel\\Anaconda3\\lib\\site-packages\\sklearn\\linear_model\\coordinate_descent.py:491: ConvergenceWarning: Objective did not converge. You might want to increase the number of iterations. Fitting data with very small alpha may cause precision problems.\n",
      "  ConvergenceWarning)\n",
      "C:\\Users\\Ebel\\Anaconda3\\lib\\site-packages\\sklearn\\linear_model\\coordinate_descent.py:491: ConvergenceWarning: Objective did not converge. You might want to increase the number of iterations. Fitting data with very small alpha may cause precision problems.\n",
      "  ConvergenceWarning)\n",
      "C:\\Users\\Ebel\\Anaconda3\\lib\\site-packages\\sklearn\\linear_model\\coordinate_descent.py:491: ConvergenceWarning: Objective did not converge. You might want to increase the number of iterations. Fitting data with very small alpha may cause precision problems.\n",
      "  ConvergenceWarning)\n",
      "C:\\Users\\Ebel\\Anaconda3\\lib\\site-packages\\sklearn\\linear_model\\coordinate_descent.py:491: ConvergenceWarning: Objective did not converge. You might want to increase the number of iterations. Fitting data with very small alpha may cause precision problems.\n",
      "  ConvergenceWarning)\n",
      "C:\\Users\\Ebel\\Anaconda3\\lib\\site-packages\\sklearn\\linear_model\\coordinate_descent.py:491: ConvergenceWarning: Objective did not converge. You might want to increase the number of iterations. Fitting data with very small alpha may cause precision problems.\n",
      "  ConvergenceWarning)\n",
      "C:\\Users\\Ebel\\Anaconda3\\lib\\site-packages\\sklearn\\linear_model\\coordinate_descent.py:491: ConvergenceWarning: Objective did not converge. You might want to increase the number of iterations. Fitting data with very small alpha may cause precision problems.\n",
      "  ConvergenceWarning)\n",
      "C:\\Users\\Ebel\\Anaconda3\\lib\\site-packages\\sklearn\\linear_model\\coordinate_descent.py:491: ConvergenceWarning: Objective did not converge. You might want to increase the number of iterations. Fitting data with very small alpha may cause precision problems.\n",
      "  ConvergenceWarning)\n",
      "C:\\Users\\Ebel\\Anaconda3\\lib\\site-packages\\sklearn\\linear_model\\coordinate_descent.py:491: ConvergenceWarning: Objective did not converge. You might want to increase the number of iterations. Fitting data with very small alpha may cause precision problems.\n",
      "  ConvergenceWarning)\n",
      "C:\\Users\\Ebel\\Anaconda3\\lib\\site-packages\\sklearn\\linear_model\\coordinate_descent.py:491: ConvergenceWarning: Objective did not converge. You might want to increase the number of iterations. Fitting data with very small alpha may cause precision problems.\n",
      "  ConvergenceWarning)\n",
      "C:\\Users\\Ebel\\Anaconda3\\lib\\site-packages\\sklearn\\linear_model\\coordinate_descent.py:491: ConvergenceWarning: Objective did not converge. You might want to increase the number of iterations. Fitting data with very small alpha may cause precision problems.\n",
      "  ConvergenceWarning)\n",
      "C:\\Users\\Ebel\\Anaconda3\\lib\\site-packages\\sklearn\\linear_model\\coordinate_descent.py:491: ConvergenceWarning: Objective did not converge. You might want to increase the number of iterations. Fitting data with very small alpha may cause precision problems.\n",
      "  ConvergenceWarning)\n",
      "C:\\Users\\Ebel\\Anaconda3\\lib\\site-packages\\sklearn\\linear_model\\coordinate_descent.py:491: ConvergenceWarning: Objective did not converge. You might want to increase the number of iterations. Fitting data with very small alpha may cause precision problems.\n",
      "  ConvergenceWarning)\n",
      "C:\\Users\\Ebel\\Anaconda3\\lib\\site-packages\\sklearn\\linear_model\\coordinate_descent.py:491: ConvergenceWarning: Objective did not converge. You might want to increase the number of iterations. Fitting data with very small alpha may cause precision problems.\n",
      "  ConvergenceWarning)\n",
      "C:\\Users\\Ebel\\Anaconda3\\lib\\site-packages\\sklearn\\linear_model\\coordinate_descent.py:491: ConvergenceWarning: Objective did not converge. You might want to increase the number of iterations. Fitting data with very small alpha may cause precision problems.\n",
      "  ConvergenceWarning)\n"
     ]
    },
    {
     "name": "stderr",
     "output_type": "stream",
     "text": [
      "C:\\Users\\Ebel\\Anaconda3\\lib\\site-packages\\sklearn\\linear_model\\coordinate_descent.py:491: ConvergenceWarning: Objective did not converge. You might want to increase the number of iterations. Fitting data with very small alpha may cause precision problems.\n",
      "  ConvergenceWarning)\n",
      "C:\\Users\\Ebel\\Anaconda3\\lib\\site-packages\\sklearn\\linear_model\\coordinate_descent.py:491: ConvergenceWarning: Objective did not converge. You might want to increase the number of iterations. Fitting data with very small alpha may cause precision problems.\n",
      "  ConvergenceWarning)\n",
      "C:\\Users\\Ebel\\Anaconda3\\lib\\site-packages\\sklearn\\linear_model\\coordinate_descent.py:491: ConvergenceWarning: Objective did not converge. You might want to increase the number of iterations. Fitting data with very small alpha may cause precision problems.\n",
      "  ConvergenceWarning)\n",
      "C:\\Users\\Ebel\\Anaconda3\\lib\\site-packages\\sklearn\\linear_model\\coordinate_descent.py:491: ConvergenceWarning: Objective did not converge. You might want to increase the number of iterations. Fitting data with very small alpha may cause precision problems.\n",
      "  ConvergenceWarning)\n",
      "C:\\Users\\Ebel\\Anaconda3\\lib\\site-packages\\sklearn\\linear_model\\coordinate_descent.py:491: ConvergenceWarning: Objective did not converge. You might want to increase the number of iterations. Fitting data with very small alpha may cause precision problems.\n",
      "  ConvergenceWarning)\n",
      "C:\\Users\\Ebel\\Anaconda3\\lib\\site-packages\\sklearn\\linear_model\\coordinate_descent.py:491: ConvergenceWarning: Objective did not converge. You might want to increase the number of iterations. Fitting data with very small alpha may cause precision problems.\n",
      "  ConvergenceWarning)\n",
      "C:\\Users\\Ebel\\Anaconda3\\lib\\site-packages\\sklearn\\linear_model\\coordinate_descent.py:491: ConvergenceWarning: Objective did not converge. You might want to increase the number of iterations. Fitting data with very small alpha may cause precision problems.\n",
      "  ConvergenceWarning)\n",
      "C:\\Users\\Ebel\\Anaconda3\\lib\\site-packages\\sklearn\\linear_model\\coordinate_descent.py:491: ConvergenceWarning: Objective did not converge. You might want to increase the number of iterations. Fitting data with very small alpha may cause precision problems.\n",
      "  ConvergenceWarning)\n"
     ]
    },
    {
     "data": {
      "image/png": "[encoded data removed]",
      "text/plain": [
       "<Figure size 432x288 with 1 Axes>"
      ]
     },
     "metadata": {},
     "output_type": "display_data"
    }
   ],
   "source": [
    "#Creating the lists to pull the values. X_test2 throws up a shape error on the lasso regression,\n",
    "#So I'll leave it off for the test. The regression was trained on the same stuff, so hopefully that won't effect\n",
    "#the results to much. \n",
    "estimates = np.append([0], ridge.score(x_test, y_test))\n",
    "lestimates = np.append([0], lass.score(x_test, y_test))\n",
    "\n",
    "# Store scores.\n",
    "score =[]\n",
    "# Storing legend information.\n",
    "labels = []\n",
    "\n",
    "#Run the model for many alphas for ridge regression\n",
    "for lambd in range(2, 100, 1):\n",
    "    ridge = linear_model.Ridge(alpha=lambd, fit_intercept=False)\n",
    "    ridge.fit(x_train, y_train)\n",
    "    rscore = ridge.score(x_test, y_test)\n",
    "    estimates = np.row_stack((\n",
    "        estimates,\n",
    "        np.append([lambd], rscore)))\n",
    "\n",
    "#Running it again for lasso regression\n",
    "for lambd in range(2, 100, 1):\n",
    "    #Lasso regression goes on a scale from 0 to 1, so I'm going to adjust alphas accordingly. \n",
    "    a = lambd / 100\n",
    "    lass = linear_model.Lasso(alpha=a, fit_intercept=False)\n",
    "    lass.fit(x_train, y_train)\n",
    "    lscore = lass.score(x_test, y_test)\n",
    "    lestimates = np.row_stack((\n",
    "        lestimates,\n",
    "        np.append([lambd], lscore)))\n",
    "#Removing a set of outliers created by how we made the array. \n",
    "estimates = np.delete(estimates, 0, 0)\n",
    "lestimates = np.delete(lestimates, 0, 0)\n",
    "# Plot a line for each alpha for it's R2\n",
    "plt.plot(estimates[:,0], estimates[:,1], label='Ridge Regression')\n",
    "plt.plot(lestimates[:,0], lestimates[:,1], label='Lasso Regression')\n",
    "plt.xlabel('Alpha')\n",
    "plt.title('R2 value for ridge and lasso regression across different alphas')\n",
    "plt.ylabel('R2 score')\n",
    "plt.legend()\n",
    "plt.show()"
   ]
  },
  {
   "cell_type": "markdown",
   "metadata": {},
   "source": [
    "In addition I made a few different visualizations, and examinations, just toying with the idea of putting them in the presentation. You can think of this as the cutting room floor, basically. If it's here, it's because I didn't use it. But I pulled quit a few of the visualizations out of here to use elsewhere in the capstone. So... not a terrible repository, overall. "
   ]
  },
  {
   "cell_type": "code",
   "execution_count": 444,
   "metadata": {
    "scrolled": false
   },
   "outputs": [
    {
     "data": {
      "text/html": [
       "<div>\n",
       "<style scoped>\n",
       "    .dataframe tbody tr th:only-of-type {\n",
       "        vertical-align: middle;\n",
       "    }\n",
       "\n",
       "    .dataframe tbody tr th {\n",
       "        vertical-align: top;\n",
       "    }\n",
       "\n",
       "    .dataframe thead th {\n",
       "        text-align: right;\n",
       "    }\n",
       "</style>\n",
       "<table border=\"1\" class=\"dataframe\">\n",
       "  <thead>\n",
       "    <tr style=\"text-align: right;\">\n",
       "      <th></th>\n",
       "      <th>price</th>\n",
       "      <th>yearOfRegistration</th>\n",
       "      <th>powerPS</th>\n",
       "      <th>kilometer</th>\n",
       "      <th>monthOfRegistration</th>\n",
       "      <th>total_hours_uptime</th>\n",
       "    </tr>\n",
       "    <tr>\n",
       "      <th>fuelType</th>\n",
       "      <th></th>\n",
       "      <th></th>\n",
       "      <th></th>\n",
       "      <th></th>\n",
       "      <th></th>\n",
       "      <th></th>\n",
       "    </tr>\n",
       "  </thead>\n",
       "  <tbody>\n",
       "    <tr>\n",
       "      <th>andere</th>\n",
       "      <td>3150.602273</td>\n",
       "      <td>1992.943182</td>\n",
       "      <td>94.409091</td>\n",
       "      <td>102386.363636</td>\n",
       "      <td>4.795455</td>\n",
       "      <td>291.450786</td>\n",
       "    </tr>\n",
       "    <tr>\n",
       "      <th>benzin</th>\n",
       "      <td>5079.639770</td>\n",
       "      <td>2001.597026</td>\n",
       "      <td>115.318465</td>\n",
       "      <td>121932.844685</td>\n",
       "      <td>5.957074</td>\n",
       "      <td>228.696928</td>\n",
       "    </tr>\n",
       "    <tr>\n",
       "      <th>cng</th>\n",
       "      <td>4914.942857</td>\n",
       "      <td>2006.063265</td>\n",
       "      <td>104.248980</td>\n",
       "      <td>128561.224490</td>\n",
       "      <td>6.542857</td>\n",
       "      <td>265.272898</td>\n",
       "    </tr>\n",
       "    <tr>\n",
       "      <th>diesel</th>\n",
       "      <td>8941.527747</td>\n",
       "      <td>2005.913486</td>\n",
       "      <td>139.847970</td>\n",
       "      <td>131022.419571</td>\n",
       "      <td>6.386030</td>\n",
       "      <td>231.646176</td>\n",
       "    </tr>\n",
       "    <tr>\n",
       "      <th>elektro</th>\n",
       "      <td>10118.709677</td>\n",
       "      <td>2009.500000</td>\n",
       "      <td>76.725806</td>\n",
       "      <td>53467.741935</td>\n",
       "      <td>5.741935</td>\n",
       "      <td>342.525614</td>\n",
       "    </tr>\n",
       "    <tr>\n",
       "      <th>hybrid</th>\n",
       "      <td>13789.725225</td>\n",
       "      <td>2009.788288</td>\n",
       "      <td>112.995495</td>\n",
       "      <td>80000.000000</td>\n",
       "      <td>6.734234</td>\n",
       "      <td>249.989057</td>\n",
       "    </tr>\n",
       "    <tr>\n",
       "      <th>lpg</th>\n",
       "      <td>4285.849198</td>\n",
       "      <td>2001.504726</td>\n",
       "      <td>150.161794</td>\n",
       "      <td>142300.505606</td>\n",
       "      <td>6.135854</td>\n",
       "      <td>239.357696</td>\n",
       "    </tr>\n",
       "  </tbody>\n",
       "</table>\n",
       "</div>"
      ],
      "text/plain": [
       "                 price  yearOfRegistration     powerPS      kilometer  \\\n",
       "fuelType                                                                \n",
       "andere     3150.602273         1992.943182   94.409091  102386.363636   \n",
       "benzin     5079.639770         2001.597026  115.318465  121932.844685   \n",
       "cng        4914.942857         2006.063265  104.248980  128561.224490   \n",
       "diesel     8941.527747         2005.913486  139.847970  131022.419571   \n",
       "elektro   10118.709677         2009.500000   76.725806   53467.741935   \n",
       "hybrid    13789.725225         2009.788288  112.995495   80000.000000   \n",
       "lpg        4285.849198         2001.504726  150.161794  142300.505606   \n",
       "\n",
       "          monthOfRegistration  total_hours_uptime  \n",
       "fuelType                                           \n",
       "andere               4.795455          291.450786  \n",
       "benzin               5.957074          228.696928  \n",
       "cng                  6.542857          265.272898  \n",
       "diesel               6.386030          231.646176  \n",
       "elektro              5.741935          342.525614  \n",
       "hybrid               6.734234          249.989057  \n",
       "lpg                  6.135854          239.357696  "
      ]
     },
     "execution_count": 444,
     "metadata": {},
     "output_type": "execute_result"
    }
   ],
   "source": [
    "df.groupby(['fuelType']).mean()"
   ]
  },
  {
   "cell_type": "code",
   "execution_count": 94,
   "metadata": {
    "scrolled": true
   },
   "outputs": [
    {
     "data": {
      "image/png": "[encoded data removed]",
      "text/plain": [
       "<Figure size 432x288 with 1 Axes>"
      ]
     },
     "metadata": {},
     "output_type": "display_data"
    }
   ],
   "source": [
    "ax = sns.boxplot(x=\"gearbox\", y=\"price\", data=df,\n",
    "                hue='notRepairedDamage')"
   ]
  }
 ],
 "metadata": {
  "kernelspec": {
   "display_name": "Python 3",
   "language": "python",
   "name": "python3"
  },
  "language_info": {
   "codemirror_mode": {
    "name": "ipython",
    "version": 3
   },
   "file_extension": ".py",
   "mimetype": "text/x-python",
   "name": "python",
   "nbconvert_exporter": "python",
   "pygments_lexer": "ipython3",
   "version": "3.7.2"
  }
 },
 "nbformat": 4,
 "nbformat_minor": 2
}
